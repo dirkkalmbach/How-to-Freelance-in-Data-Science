{
 "cells": [
  {
   "cell_type": "markdown",
   "metadata": {},
   "source": [
    "<img src=\"image/penguin-161418_1280.png\" width=\"100\" align=\"center\">\n",
    "\n",
    "<h1><center>How to become a Data Science Freelancer?</center></h1>\n",
    "\n",
    "<h4>About this Notebook</h4>\n",
    "In this notebook, I'll summarize the most important results from the `Data Analysis.ipynb` notebook. I focus on the questions for my blog post. Every question "
   ]
  },
  {
   "cell_type": "markdown",
   "metadata": {},
   "source": [
    "<h1>Table of contents</h1>\n",
    "<div  style=\"margin-top: 20px\"> \n",
    "    <ol>\n",
    "        <li><a href=\"#skills\">What skills do Data Science Freelancer have?</a></li>\n",
    "    </ol>   \n",
    "</div>\n",
    "<br>\n",
    "<hr>"
   ]
  },
  {
   "cell_type": "markdown",
   "metadata": {},
   "source": [
    "### Importing Needed packages"
   ]
  },
  {
   "cell_type": "code",
   "execution_count": 1,
   "metadata": {},
   "outputs": [],
   "source": [
    "import numpy as np\n",
    "import pandas as pd\n",
    "import matplotlib.pyplot as plt\n",
    "import seaborn as sns\n",
    "\n",
    "import imp # for reloading modules\n",
    "\n",
    "import helper as h\n",
    "\n",
    "# surpress Jupyter Notebook warnings\n",
    "import warnings\n",
    "warnings.filterwarnings('ignore')\n",
    "\n",
    "%matplotlib inline"
   ]
  },
  {
   "cell_type": "code",
   "execution_count": 2,
   "metadata": {},
   "outputs": [
    {
     "data": {
      "text/plain": [
       "<module 'helper' from '/Users/dirkkalmbach/Library/Mobile Documents/com~apple~CloudDocs/Projekte/DSND/blog-project/helper.py'>"
      ]
     },
     "execution_count": 2,
     "metadata": {},
     "output_type": "execute_result"
    }
   ],
   "source": [
    "imp.reload(h)"
   ]
  },
  {
   "cell_type": "markdown",
   "metadata": {},
   "source": [
    "## Load Data"
   ]
  },
  {
   "cell_type": "code",
   "execution_count": 9,
   "metadata": {},
   "outputs": [
    {
     "name": "stdout",
     "output_type": "stream",
     "text": [
      "Dataframe sucessfully loaded.\n",
      "Rows: 88883 \t Variables: 85 \t \t Size: n/a kb\n"
     ]
    }
   ],
   "source": [
    "# Load survey 2019 dataset \n",
    "df = h.load_csv('data/raw data/developer_survey_2019/survey_results_public.csv.zip')\n",
    "print(\"Dataframe sucessfully loaded.\")\n",
    "\n",
    "# Load data description\n",
    "schema = h.load_csv(\"data/raw data/developer_survey_2019/survey_results_schema.csv\")\n",
    "\n",
    "h.df_info(df)"
   ]
  },
  {
   "cell_type": "markdown",
   "metadata": {},
   "source": [
    "<h1 id=\"skills\">What skills do Data Science Freelancer have?</h1>"
   ]
  },
  {
   "cell_type": "markdown",
   "metadata": {},
   "source": [
    "## Definition of Target Group(s)"
   ]
  },
  {
   "cell_type": "code",
   "execution_count": 3,
   "metadata": {},
   "outputs": [
    {
     "data": {
      "text/plain": [
       "'Which of the following best describes your current employment status?'"
      ]
     },
     "execution_count": 3,
     "metadata": {},
     "output_type": "execute_result"
    }
   ],
   "source": [
    "h.get_desc(\"Employment\")"
   ]
  },
  {
   "cell_type": "code",
   "execution_count": 4,
   "metadata": {},
   "outputs": [
    {
     "name": "stdout",
     "output_type": "stream",
     "text": [
      "Rows: 72951 \t Variables: 85 \t \t Size: n/a kb\n"
     ]
    }
   ],
   "source": [
    "# Im only interested in full working people -> no parttime, students, etc.\n",
    "df = df[(df[\"Employment\"]=='Employed full-time') | (df[\"Employment\"]=='Independent contractor, freelancer, or self-employed')]\n",
    "h.df_info(df)"
   ]
  },
  {
   "cell_type": "code",
   "execution_count": 5,
   "metadata": {},
   "outputs": [
    {
     "data": {
      "text/plain": [
       "(3817, 85)"
      ]
     },
     "execution_count": 5,
     "metadata": {},
     "output_type": "execute_result"
    }
   ],
   "source": [
    "# TODO: überarbeiten\n",
    "\n",
    "# Freelancing is asked 2x -> I wonder if there are some mismatches\n",
    "df[ (df[\"Employment\"]=='Independent contractor, freelancer, or self-employed') & (\n",
    "     df[\"OrgSize\"]== \"Just me - I am a freelancer, sole proprietor, etc.\")\n",
    "  ].shape\n",
    "\n",
    "df[df[\"Employment\"]=='Independent contractor, freelancer, or self-employed'].shape\n",
    "df[df[\"OrgSize\"]== \"Just me - I am a freelancer, sole proprietor, etc.\"].shape"
   ]
  },
  {
   "cell_type": "markdown",
   "metadata": {},
   "source": [
    "#### How many \"Pure\" Data Scientists are in the dataset?"
   ]
  },
  {
   "cell_type": "code",
   "execution_count": 8,
   "metadata": {},
   "outputs": [
    {
     "name": "stdout",
     "output_type": "stream",
     "text": [
      "Rows: 494 \t Variables: 85 \t \t Size: n/a kb\n"
     ]
    }
   ],
   "source": [
    "PDS = df[df[\"DevType\"]==\"Data scientist or machine learning specialist\"]\n",
    "h.df_info(PDS)"
   ]
  },
  {
   "cell_type": "markdown",
   "metadata": {},
   "source": [
    "_...and how many among them are Freelancer?_"
   ]
  },
  {
   "cell_type": "code",
   "execution_count": 9,
   "metadata": {},
   "outputs": [
    {
     "name": "stdout",
     "output_type": "stream",
     "text": [
      "Rows: 25 \t Variables: 85 \t \t Size: n/a kb\n"
     ]
    }
   ],
   "source": [
    "# How many Freelance Pure Data Scientists?\n",
    "h.df_info(\n",
    "    PDS[PDS[\"Employment\"]==\"Independent contractor, freelancer, or self-employed\"]\n",
    ")"
   ]
  },
  {
   "cell_type": "markdown",
   "metadata": {},
   "source": [
    "Wow! 😱 Only 25 Cases! Of course, this is not enough for any valuable insights 😫"
   ]
  },
  {
   "cell_type": "markdown",
   "metadata": {},
   "source": [
    "#### Group Data related Jobs"
   ]
  },
  {
   "cell_type": "code",
   "execution_count": 10,
   "metadata": {},
   "outputs": [
    {
     "name": "stdout",
     "output_type": "stream",
     "text": [
      "Data Scientist (n): 5436 (NaN: 67515)\n",
      "Something with Data: 12160 (NaN: 60791)\n",
      "Something with Science (n): 2984 (NaN: 69967)\n"
     ]
    }
   ],
   "source": [
    "#TODO: Refactor with this\n",
    "    #df.loc[df['column name'] condition, 'new column name'] = 'value if condition is met'\n",
    "\n",
    "DJ=[\"Data scientist or machine learning specialist\", \"Data or business analyst\", \"Engineer, data\"]\n",
    "RS=[\"Academic Research\",\"Scientist\"]\n",
    "DS=[\"Data scientist or machine learning specialist\"]\n",
    "\n",
    "def t(col, jobs, cat):\n",
    "    found=False\n",
    "    for job in jobs:\n",
    "        if job in col:\n",
    "            found=True\n",
    "    if found:\n",
    "        return cat\n",
    "    else:\n",
    "        return np.nan\n",
    "            \n",
    "            \n",
    "# Science Jobs\n",
    "df[\"Job_RS\"]=df[\"DevType\"].apply(lambda x: t(str(x),RS,\"Something with Science\"))\n",
    "\n",
    "# Data Jobs\n",
    "df[\"Job_DJ\"]=df[\"DevType\"].apply(lambda x: t(str(x),DJ,\"Something with Data\"))\n",
    "\n",
    "# Data Scientists\n",
    "df[\"Job_DS\"]=df[\"DevType\"].apply(lambda x: t(str(x),DS,\"Data Scientist\"))\n",
    "\n",
    "# Other Jobs\n",
    "df[\"Job_DS\"]=df[\"DevType\"].apply(lambda x: t(str(x),DS,\"Data Scientist\"))\n",
    "\n",
    "# Print Results\n",
    "print(\"Data Scientist (n): {} (NaN: {})\".format( df.Job_DS.count(), df.Job_DS.isna().sum()) )\n",
    "print(\"Something with Data: {} (NaN: {})\".format( df.Job_DJ.count(),  df.Job_DJ.isna().sum()) )\n",
    "print(\"Something with Science (n): {} (NaN: {})\".format( df.Job_RS.count(), df.Job_RS.isna().sum()) ) "
   ]
  },
  {
   "cell_type": "markdown",
   "metadata": {},
   "source": [
    "> 🤓 The 3 new build variables are not exclusive, i.e.: somebody who marked herself as Data Scientist, Business Analyst, and Scientist would be in all three groups!"
   ]
  },
  {
   "cell_type": "markdown",
   "metadata": {},
   "source": [
    "Let's put this all in one variable TargetGroups with these categories:\n",
    "- PDS\n",
    "- DS\n",
    "- DJ"
   ]
  },
  {
   "cell_type": "code",
   "execution_count": 128,
   "metadata": {},
   "outputs": [],
   "source": [
    "# create new var 'TargetGroup'\n",
    "df.loc[df['Job_DJ'] == \"Something with Data\", 'TargetGroup'] = 'Something with Data'\n",
    "df.loc[df['Job_RS'] == \"Something with Science\", 'TargetGroup'] = 'Something with Science'\n",
    "df.loc[df['Job_DS'] == \"Data Scientist\", 'TargetGroup'] = 'Data Scientist'\n",
    "df[\"TargetGroup\"].fillna(value=\"other Job\", inplace=True)"
   ]
  },
  {
   "cell_type": "code",
   "execution_count": 129,
   "metadata": {},
   "outputs": [
    {
     "data": {
      "text/plain": [
       "<matplotlib.axes._subplots.AxesSubplot at 0x102801fd0>"
      ]
     },
     "execution_count": 129,
     "metadata": {},
     "output_type": "execute_result"
    },
    {
     "data": {
      "image/png": "[encoded data removed]",
      "text/plain": [
       "<Figure size 432x288 with 1 Axes>"
      ]
     },
     "metadata": {
      "needs_background": "light"
     },
     "output_type": "display_data"
    }
   ],
   "source": [
    "df.groupby(\"TargetGroup\").count().Respondent.plot.bar()"
   ]
  },
  {
   "cell_type": "code",
   "execution_count": null,
   "metadata": {},
   "outputs": [],
   "source": []
  },
  {
   "cell_type": "markdown",
   "metadata": {},
   "source": [
    "## Job Satisfaction"
   ]
  },
  {
   "cell_type": "markdown",
   "metadata": {},
   "source": [
    "How happy are Data Scientists with their job?"
   ]
  },
  {
   "cell_type": "code",
   "execution_count": 37,
   "metadata": {},
   "outputs": [
    {
     "data": {
      "text/plain": [
       "'How satisfied are you with your current job? (If you work multiple jobs, answer for the one you spend the most hours on.)'"
      ]
     },
     "execution_count": 37,
     "metadata": {},
     "output_type": "execute_result"
    }
   ],
   "source": [
    "# Question in Survey 2019\n",
    "h.get_desc(\"JobSat\")"
   ]
  },
  {
   "cell_type": "code",
   "execution_count": 130,
   "metadata": {},
   "outputs": [
    {
     "name": "stdout",
     "output_type": "stream",
     "text": [
      "Avg Job Satisfaction:  3.69\n"
     ]
    }
   ],
   "source": [
    "# build jobsatisfaction index (1-5)\n",
    "\n",
    "index = {'Slightly satisfied': 4, \n",
    "         'Slightly dissatisfied': 2,\n",
    "         'Neither satisfied nor dissatisfied': 3,\n",
    "         'Very satisfied': 5,\n",
    "         'Very dissatisfied': 1,\n",
    "         np.nan: np.nan\n",
    "        }\n",
    "\n",
    "df[\"JobSatIndex\"] = df[\"JobSat\"].apply(lambda x: index[x])\n",
    "\n",
    "print(\"Avg Job Satisfaction: \", df.JobSatIndex.mean().round(2))  "
   ]
  },
  {
   "cell_type": "markdown",
   "metadata": {},
   "source": [
    "#### Job Satisfaction between Freelancer and Employed"
   ]
  },
  {
   "cell_type": "code",
   "execution_count": 131,
   "metadata": {},
   "outputs": [
    {
     "data": {
      "text/html": [
       "<div>\n",
       "<style scoped>\n",
       "    .dataframe tbody tr th:only-of-type {\n",
       "        vertical-align: middle;\n",
       "    }\n",
       "\n",
       "    .dataframe tbody tr th {\n",
       "        vertical-align: top;\n",
       "    }\n",
       "\n",
       "    .dataframe thead th {\n",
       "        text-align: right;\n",
       "    }\n",
       "</style>\n",
       "<table border=\"1\" class=\"dataframe\">\n",
       "  <thead>\n",
       "    <tr style=\"text-align: right;\">\n",
       "      <th></th>\n",
       "      <th>Employment</th>\n",
       "      <th>n</th>\n",
       "      <th>Job_Satisfaction</th>\n",
       "    </tr>\n",
       "  </thead>\n",
       "  <tbody>\n",
       "    <tr>\n",
       "      <th>0</th>\n",
       "      <td>Employed full-time</td>\n",
       "      <td>64440</td>\n",
       "      <td>3.684898</td>\n",
       "    </tr>\n",
       "    <tr>\n",
       "      <th>1</th>\n",
       "      <td>Independent contractor, freelancer, or self-em...</td>\n",
       "      <td>8511</td>\n",
       "      <td>3.713764</td>\n",
       "    </tr>\n",
       "  </tbody>\n",
       "</table>\n",
       "</div>"
      ],
      "text/plain": [
       "                                          Employment      n  Job_Satisfaction\n",
       "0                                 Employed full-time  64440          3.684898\n",
       "1  Independent contractor, freelancer, or self-em...   8511          3.713764"
      ]
     },
     "execution_count": 131,
     "metadata": {},
     "output_type": "execute_result"
    }
   ],
   "source": [
    "df.groupby('Employment') \\\n",
    "       .agg(n=('Employment', 'size'), Job_Satisfaction=('JobSatIndex', 'mean')).reset_index()"
   ]
  },
  {
   "cell_type": "markdown",
   "metadata": {},
   "source": [
    "> ❗__Interesting__: no difference between Freelancer and employed"
   ]
  },
  {
   "cell_type": "markdown",
   "metadata": {},
   "source": [
    "#### Job Satisfaction between Data Jobs"
   ]
  },
  {
   "cell_type": "code",
   "execution_count": 135,
   "metadata": {},
   "outputs": [
    {
     "data": {
      "text/html": [
       "<div>\n",
       "<style scoped>\n",
       "    .dataframe tbody tr th:only-of-type {\n",
       "        vertical-align: middle;\n",
       "    }\n",
       "\n",
       "    .dataframe tbody tr th {\n",
       "        vertical-align: top;\n",
       "    }\n",
       "\n",
       "    .dataframe thead th {\n",
       "        text-align: right;\n",
       "    }\n",
       "</style>\n",
       "<table border=\"1\" class=\"dataframe\">\n",
       "  <thead>\n",
       "    <tr style=\"text-align: right;\">\n",
       "      <th></th>\n",
       "      <th>TargetGroup</th>\n",
       "      <th>n</th>\n",
       "      <th>Job_Satisfaction</th>\n",
       "    </tr>\n",
       "  </thead>\n",
       "  <tbody>\n",
       "    <tr>\n",
       "      <th>0</th>\n",
       "      <td>Data Scientist</td>\n",
       "      <td>5436</td>\n",
       "      <td>3.773581</td>\n",
       "    </tr>\n",
       "    <tr>\n",
       "      <th>1</th>\n",
       "      <td>Something with Data</td>\n",
       "      <td>6383</td>\n",
       "      <td>3.668349</td>\n",
       "    </tr>\n",
       "    <tr>\n",
       "      <th>2</th>\n",
       "      <td>Something with Science</td>\n",
       "      <td>1695</td>\n",
       "      <td>3.828402</td>\n",
       "    </tr>\n",
       "    <tr>\n",
       "      <th>3</th>\n",
       "      <td>other Job</td>\n",
       "      <td>59437</td>\n",
       "      <td>3.678203</td>\n",
       "    </tr>\n",
       "  </tbody>\n",
       "</table>\n",
       "</div>"
      ],
      "text/plain": [
       "              TargetGroup      n  Job_Satisfaction\n",
       "0          Data Scientist   5436          3.773581\n",
       "1     Something with Data   6383          3.668349\n",
       "2  Something with Science   1695          3.828402\n",
       "3               other Job  59437          3.678203"
      ]
     },
     "execution_count": 135,
     "metadata": {},
     "output_type": "execute_result"
    }
   ],
   "source": [
    "df.groupby('TargetGroup') \\\n",
    "       .agg(n=('TargetGroup', 'size'), Job_Satisfaction=('JobSatIndex', 'mean')).reset_index()"
   ]
  },
  {
   "cell_type": "markdown",
   "metadata": {},
   "source": [
    "> ❗only slight differences, but the direction looks interesting: Scientists are happier"
   ]
  },
  {
   "cell_type": "markdown",
   "metadata": {},
   "source": [
    "## Salary"
   ]
  },
  {
   "cell_type": "markdown",
   "metadata": {},
   "source": [
    "There are 3 questions to income:"
   ]
  },
  {
   "cell_type": "code",
   "execution_count": 49,
   "metadata": {},
   "outputs": [
    {
     "data": {
      "text/plain": [
       "'What is your current total compensation (salary, bonuses, and perks, before taxes and deductions), in `CurrencySymbol`? Please enter a whole number in the box below, without any punctuation. If you are paid hourly, please estimate an equivalent weekly, monthly, or yearly salary. If you prefer not to answer, please leave the box empty.'"
      ]
     },
     "execution_count": 49,
     "metadata": {},
     "output_type": "execute_result"
    }
   ],
   "source": [
    "h.get_desc(\"CompTotal\")"
   ]
  },
  {
   "cell_type": "code",
   "execution_count": 50,
   "metadata": {},
   "outputs": [
    {
     "data": {
      "text/plain": [
       "'Is that compensation weekly, monthly, or yearly?'"
      ]
     },
     "execution_count": 50,
     "metadata": {},
     "output_type": "execute_result"
    }
   ],
   "source": [
    "h.get_desc(\"CompFreq\")"
   ]
  },
  {
   "cell_type": "code",
   "execution_count": 51,
   "metadata": {},
   "outputs": [
    {
     "data": {
      "text/plain": [
       "'Salary converted to annual USD salaries using the exchange rate on 2019-02-01, assuming 12 working months and 50 working weeks.'"
      ]
     },
     "execution_count": 51,
     "metadata": {},
     "output_type": "execute_result"
    }
   ],
   "source": [
    "h.get_desc(\"ConvertedComp\")"
   ]
  },
  {
   "cell_type": "code",
   "execution_count": 136,
   "metadata": {},
   "outputs": [
    {
     "name": "stdout",
     "output_type": "stream",
     "text": [
      "Avg Salary per year (USA) \n",
      "=============================================== \n",
      "               TargetGroup      n         Salary\n",
      "0          Data Scientist   1209  288442.998346\n",
      "1     Something with Data   1483  247998.497640\n",
      "2  Something with Science    298  267139.080537\n",
      "3               other Job  11716  248569.954421\n",
      "\n",
      "\n",
      "Avg Salary per year (WORLD) \n",
      "=============================================== \n",
      "               TargetGroup      n         Salary\n",
      "0          Data Scientist   3975  148556.245786\n",
      "1     Something with Data   4641  136755.487826\n",
      "2  Something with Science   1143  130849.357830\n",
      "3               other Job  43873  128123.868758\n"
     ]
    }
   ],
   "source": [
    "USA = df[df[\"Country\"]==\"United States\"]\n",
    "world = df.copy()\n",
    "# Build var Salary\n",
    "\n",
    "# 2. delete all cases with no income\n",
    "USA.dropna(subset=['ConvertedComp'], inplace=True)\n",
    "world.dropna(subset=['ConvertedComp'], inplace=True)\n",
    "\n",
    "# For USA\n",
    "print(\"Avg Salary per year (USA) \\n=============================================== \\n\",\n",
    "USA.groupby('TargetGroup') \\\n",
    "       .agg(n=('TargetGroup', 'size'), Salary=('ConvertedComp', 'mean')).reset_index()\n",
    ")\n",
    "print(\"\\n\")\n",
    "# For World\n",
    "print(\"Avg Salary per year (WORLD) \\n=============================================== \\n\",\n",
    "world.groupby('TargetGroup') \\\n",
    "       .agg(n=('TargetGroup', 'size'), Salary=('ConvertedComp', 'mean')).reset_index()\n",
    "     )"
   ]
  },
  {
   "cell_type": "markdown",
   "metadata": {},
   "source": [
    "> ❗Data Scientists make more cash than Scientists or Data Worker"
   ]
  },
  {
   "cell_type": "markdown",
   "metadata": {},
   "source": [
    "## Working Hours"
   ]
  },
  {
   "cell_type": "code",
   "execution_count": 137,
   "metadata": {},
   "outputs": [
    {
     "data": {
      "text/plain": [
       "'On average, how many hours per week do you work?'"
      ]
     },
     "execution_count": 137,
     "metadata": {},
     "output_type": "execute_result"
    }
   ],
   "source": [
    "h.get_desc(\"WorkWeekHrs\")"
   ]
  },
  {
   "cell_type": "code",
   "execution_count": 138,
   "metadata": {},
   "outputs": [
    {
     "data": {
      "text/plain": [
       "<matplotlib.axes._subplots.AxesSubplot at 0x11c7d3e50>"
      ]
     },
     "execution_count": 138,
     "metadata": {},
     "output_type": "execute_result"
    },
    {
     "data": {
      "image/png": "[encoded data removed]",
      "text/plain": [
       "<Figure size 432x288 with 1 Axes>"
      ]
     },
     "metadata": {
      "needs_background": "light"
     },
     "output_type": "display_data"
    }
   ],
   "source": [
    "sns.boxplot(y=\"WorkWeekHrs\", x=\"TargetGroup\", data=df)"
   ]
  },
  {
   "cell_type": "markdown",
   "metadata": {},
   "source": [
    ">❗Outliers! Lets say, everything more than 80h/week is unrealistic"
   ]
  },
  {
   "cell_type": "code",
   "execution_count": 157,
   "metadata": {},
   "outputs": [],
   "source": [
    "# set maximum working hour per week\n",
    "OUTLIER_SIZE=100"
   ]
  },
  {
   "cell_type": "code",
   "execution_count": 162,
   "metadata": {},
   "outputs": [
    {
     "name": "stdout",
     "output_type": "stream",
     "text": [
      "Avg Working Hours per week (Freelancer)\n",
      "=========================================== \n",
      "               TargetGroup     n      hours\n",
      "0          Data Scientist   472  40.937500\n",
      "1     Something with Data   583  41.262864\n",
      "2  Something with Science   172  38.793605\n",
      "3               other Job  4371  39.099801\n"
     ]
    }
   ],
   "source": [
    "#TODO -> NaN in Working Hours <- Sandbox\n",
    "print(\"Avg Working Hours per week (Freelancer)\\n=========================================== \\n\",\n",
    "df[(df.WorkWeekHrs<=OUTLIER_SIZE) & \n",
    "   (df.Employment==\"Independent contractor, freelancer, or self-employed\")].\n",
    "      groupby('TargetGroup')\n",
    "      .agg(n=('TargetGroup', 'size'), hours=('WorkWeekHrs', 'mean')).reset_index()\n",
    ")"
   ]
  },
  {
   "cell_type": "code",
   "execution_count": 163,
   "metadata": {},
   "outputs": [
    {
     "name": "stdout",
     "output_type": "stream",
     "text": [
      "Avg Working Hours per week (Employed full-time)\n",
      "=========================================== \n",
      "               TargetGroup      n      hours\n",
      "0          Data Scientist   4094  42.034392\n",
      "1     Something with Data   4810  41.854595\n",
      "2  Something with Science   1163  42.276182\n",
      "3               other Job  45758  40.678834\n"
     ]
    }
   ],
   "source": [
    "print(\"Avg Working Hours per week (Employed full-time)\\n=========================================== \\n\",\n",
    "df[(df.WorkWeekHrs<=OUTLIER_SIZE) & \n",
    "   (df.Employment==\"Employed full-time\")].\n",
    "      groupby('TargetGroup')\n",
    "      .agg(n=('TargetGroup', 'size'), hours=('WorkWeekHrs', 'mean')).reset_index()\n",
    ")"
   ]
  },
  {
   "cell_type": "code",
   "execution_count": 165,
   "metadata": {},
   "outputs": [
    {
     "data": {
      "text/plain": [
       "<matplotlib.axes._subplots.AxesSubplot at 0x12dcc0650>"
      ]
     },
     "execution_count": 165,
     "metadata": {},
     "output_type": "execute_result"
    },
    {
     "data": {
      "image/png": "[encoded data removed]",
      "text/plain": [
       "<Figure size 864x432 with 1 Axes>"
      ]
     },
     "metadata": {
      "needs_background": "light"
     },
     "output_type": "display_data"
    }
   ],
   "source": [
    "plt.figure(figsize=(12,6))\n",
    "sns.violinplot(y=\"WorkWeekHrs\", x=\"TargetGroup\", hue=\"Employment\", data=df[df.WorkWeekHrs<OUTLIER_SIZE])"
   ]
  },
  {
   "cell_type": "markdown",
   "metadata": {},
   "source": [
    "🤓 The Median is all the same, because the data range is between 0 and 100 hours."
   ]
  },
  {
   "cell_type": "markdown",
   "metadata": {},
   "source": [
    "## Working Style"
   ]
  },
  {
   "cell_type": "markdown",
   "metadata": {},
   "source": [
    "### Work Structure"
   ]
  },
  {
   "cell_type": "code",
   "execution_count": 6,
   "metadata": {},
   "outputs": [
    {
     "data": {
      "text/plain": [
       "'How structured or planned is your work?'"
      ]
     },
     "execution_count": 6,
     "metadata": {},
     "output_type": "execute_result"
    }
   ],
   "source": [
    "h.get_desc(\"WorkPlan\")"
   ]
  },
  {
   "cell_type": "code",
   "execution_count": 111,
   "metadata": {},
   "outputs": [
    {
     "data": {
      "text/plain": [
       "array([\"There's no schedule or spec; I work on what seems most important or urgent\",\n",
       "       'There is a schedule and/or spec (made by me or by a colleague), and I follow it very closely',\n",
       "       'There is a schedule and/or spec (made by me or by a colleague), and my work somewhat aligns',\n",
       "       nan], dtype=object)"
      ]
     },
     "execution_count": 111,
     "metadata": {},
     "output_type": "execute_result"
    }
   ],
   "source": [
    "# TODO: 3 pie diagrams in one row: proportion of scheduled work for every target group"
   ]
  },
  {
   "cell_type": "code",
   "execution_count": 5,
   "metadata": {},
   "outputs": [
    {
     "ename": "NameError",
     "evalue": "name 'df' is not defined",
     "output_type": "error",
     "traceback": [
      "\u001b[0;31m---------------------------------------------------------------------------\u001b[0m",
      "\u001b[0;31mNameError\u001b[0m                                 Traceback (most recent call last)",
      "\u001b[0;32m<ipython-input-5-5c5658de36c0>\u001b[0m in \u001b[0;36m<module>\u001b[0;34m\u001b[0m\n\u001b[0;32m----> 1\u001b[0;31m \u001b[0mdf\u001b[0m\u001b[0;34m.\u001b[0m\u001b[0mgroupby\u001b[0m\u001b[0;34m(\u001b[0m\u001b[0;34m\"WorkPlan\"\u001b[0m\u001b[0;34m)\u001b[0m\u001b[0;34m.\u001b[0m\u001b[0mcount\u001b[0m\u001b[0;34m(\u001b[0m\u001b[0;34m)\u001b[0m\u001b[0;34m\u001b[0m\u001b[0;34m\u001b[0m\u001b[0m\n\u001b[0m",
      "\u001b[0;31mNameError\u001b[0m: name 'df' is not defined"
     ]
    }
   ],
   "source": [
    "df.groupby(\"WorkPlan\").count()"
   ]
  },
  {
   "cell_type": "code",
   "execution_count": null,
   "metadata": {},
   "outputs": [],
   "source": []
  }
 ],
 "metadata": {
  "kernelspec": {
   "display_name": "Python 3",
   "language": "python",
   "name": "python3"
  },
  "language_info": {
   "codemirror_mode": {
    "name": "ipython",
    "version": 3
   },
   "file_extension": ".py",
   "mimetype": "text/x-python",
   "name": "python",
   "nbconvert_exporter": "python",
   "pygments_lexer": "ipython3",
   "version": "3.7.4"
  }
 },
 "nbformat": 4,
 "nbformat_minor": 4
}
