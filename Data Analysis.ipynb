{
 "cells": [
  {
   "cell_type": "code",
   "execution_count": 1,
   "metadata": {},
   "outputs": [],
   "source": [
    "import numpy as np\n",
    "import pandas as pd\n",
    "import matplotlib.pyplot as plt\n",
    "import seaborn as sns\n",
    "\n",
    "import imp # for reloading modules\n",
    "\n",
    "import helper as h\n",
    "\n",
    "%matplotlib inline"
   ]
  },
  {
   "cell_type": "code",
   "execution_count": 136,
   "metadata": {},
   "outputs": [
    {
     "data": {
      "text/plain": [
       "<module 'helper' from '/Users/dirkkalmbach/Library/Mobile Documents/com~apple~CloudDocs/Projekte/DSND/blog-project/helper.py'>"
      ]
     },
     "execution_count": 136,
     "metadata": {},
     "output_type": "execute_result"
    }
   ],
   "source": [
    "imp.reload(h)"
   ]
  },
  {
   "cell_type": "markdown",
   "metadata": {},
   "source": [
    "# Problem Understanding\n",
    "## Definition of Target Group(s)\n",
    "The aim of this Report is to find out how Data Scientists can work independently, i.e. as Freelancer, independent contractor, or 1-person-company.\n",
    "I will use the following abbreviations:\n",
    "> - `Pure Data Scientists` (PDS): Data Scientists, who consider himself/herself as **only** _Data Scientists / Machine Learning Specialists_\n",
    "> - `Data Scientist` (DS): Respndents who consider him/herself as *Data Scientist*, but **not only**. \n",
    "> - `Data Jobs` (DJ): \n",
    "_Data Scientists_ 👆🏻, and/or _Data/Business Anaylsts_ and/or _Data Engineers_, i.e.: Respondents who did not mark any other \"\n",
    "\n",
    "## Data Science Question \n",
    "1. Are independent Data Scientists more happy with their Job than employed Data Scientists?\n",
    "2. Do indpeendent Data Scientists earn more than employed Data Scientists?\n",
    "3. What Coding Languages use Data Scientists? Is here any development over time?\n",
    "...\n",
    "4. What makes Developer in general happier? (also DevType as Dummy)"
   ]
  },
  {
   "cell_type": "markdown",
   "metadata": {},
   "source": [
    "# Data Understanding"
   ]
  },
  {
   "cell_type": "markdown",
   "metadata": {},
   "source": [
    "## Load Data"
   ]
  },
  {
   "cell_type": "code",
   "execution_count": 2,
   "metadata": {},
   "outputs": [
    {
     "name": "stdout",
     "output_type": "stream",
     "text": [
      "Rows: 88883 \t Variables: 85 \t \t Size: n/a kb\n"
     ]
    }
   ],
   "source": [
    "#TODO: refactor: unzip_dataframe() in helper\n",
    "\n",
    "# Load survey 2019 dataset (unzip first)\n",
    "file = \"data/raw data/developer_survey_2019/survey_results_public.csv\"\n",
    "\n",
    "from zipfile import ZipFile\n",
    "\n",
    "zip_file = ZipFile('data/raw data/developer_survey_2019/survey_results_public.csv.zip')\n",
    "df = {text_file.filename: pd.read_csv(zip_file.open(text_file.filename))\n",
    "       for text_file in zip_file.infolist()\n",
    "       if text_file.filename.endswith('.csv')}\n",
    "df = df[\"survey_results_public.csv\"]\n",
    "\n",
    "# Load data description\n",
    "schema = pd.read_csv(\"data/raw data/developer_survey_2019/survey_results_schema.csv\")\n",
    "\n",
    "h.df_info(df)"
   ]
  },
  {
   "cell_type": "markdown",
   "metadata": {},
   "source": [
    "## Definition of Target Group(s)"
   ]
  },
  {
   "cell_type": "code",
   "execution_count": 3,
   "metadata": {},
   "outputs": [
    {
     "data": {
      "text/plain": [
       "'Which of the following best describes your current employment status?'"
      ]
     },
     "execution_count": 3,
     "metadata": {},
     "output_type": "execute_result"
    }
   ],
   "source": [
    "h.get_desc(\"Employment\")"
   ]
  },
  {
   "cell_type": "code",
   "execution_count": 4,
   "metadata": {},
   "outputs": [
    {
     "name": "stdout",
     "output_type": "stream",
     "text": [
      "Rows: 72951 \t Variables: 85 \t \t Size: n/a kb\n"
     ]
    }
   ],
   "source": [
    "# Im only interested in full working people -> no parttime, students, etc.\n",
    "df = df[(df[\"Employment\"]=='Employed full-time') | (df[\"Employment\"]=='Independent contractor, freelancer, or self-employed')]\n",
    "h.df_info(df)"
   ]
  },
  {
   "cell_type": "code",
   "execution_count": 5,
   "metadata": {},
   "outputs": [
    {
     "data": {
      "text/plain": [
       "(3817, 85)"
      ]
     },
     "execution_count": 5,
     "metadata": {},
     "output_type": "execute_result"
    }
   ],
   "source": [
    "# TODO: überarbeiten\n",
    "\n",
    "# Freelancing is asked 2x -> I wonder if there are some mismatches\n",
    "df[ (df[\"Employment\"]=='Independent contractor, freelancer, or self-employed') & (\n",
    "     df[\"OrgSize\"]== \"Just me - I am a freelancer, sole proprietor, etc.\")\n",
    "  ].shape\n",
    "\n",
    "df[df[\"Employment\"]=='Independent contractor, freelancer, or self-employed'].shape\n",
    "df[df[\"OrgSize\"]== \"Just me - I am a freelancer, sole proprietor, etc.\"].shape"
   ]
  },
  {
   "cell_type": "markdown",
   "metadata": {},
   "source": [
    "#### How many \"Pure\" Data Scientists are in the dataset?"
   ]
  },
  {
   "cell_type": "code",
   "execution_count": 8,
   "metadata": {},
   "outputs": [
    {
     "name": "stdout",
     "output_type": "stream",
     "text": [
      "Rows: 494 \t Variables: 85 \t \t Size: n/a kb\n"
     ]
    }
   ],
   "source": [
    "PDS = df[df[\"DevType\"]==\"Data scientist or machine learning specialist\"]\n",
    "h.df_info(PDS)"
   ]
  },
  {
   "cell_type": "markdown",
   "metadata": {},
   "source": [
    "_...and how many among them are Freelancer?_"
   ]
  },
  {
   "cell_type": "code",
   "execution_count": 9,
   "metadata": {},
   "outputs": [
    {
     "name": "stdout",
     "output_type": "stream",
     "text": [
      "Rows: 25 \t Variables: 85 \t \t Size: n/a kb\n"
     ]
    }
   ],
   "source": [
    "# How many Freelance Pure Data Scientists?\n",
    "h.df_info(\n",
    "    PDS[PDS[\"Employment\"]==\"Independent contractor, freelancer, or self-employed\"]\n",
    ")"
   ]
  },
  {
   "cell_type": "markdown",
   "metadata": {},
   "source": [
    "Wow! 😱 Only 25 Cases! Of course, this is not enough for any valuable insights 😫"
   ]
  },
  {
   "cell_type": "markdown",
   "metadata": {},
   "source": [
    "#### Group Data related Jobs"
   ]
  },
  {
   "cell_type": "code",
   "execution_count": 10,
   "metadata": {},
   "outputs": [
    {
     "name": "stdout",
     "output_type": "stream",
     "text": [
      "Data Scientist (n): 5436 (NaN: 67515)\n",
      "Something with Data: 12160 (NaN: 60791)\n",
      "Something with Science (n): 2984 (NaN: 69967)\n"
     ]
    }
   ],
   "source": [
    "#TODO: Refactor with this\n",
    "    #df.loc[df['column name'] condition, 'new column name'] = 'value if condition is met'\n",
    "\n",
    "DJ=[\"Data scientist or machine learning specialist\", \"Data or business analyst\", \"Engineer, data\"]\n",
    "RS=[\"Academic Research\",\"Scientist\"]\n",
    "DS=[\"Data scientist or machine learning specialist\"]\n",
    "\n",
    "def t(col, jobs, cat):\n",
    "    found=False\n",
    "    for job in jobs:\n",
    "        if job in col:\n",
    "            found=True\n",
    "    if found:\n",
    "        return cat\n",
    "    else:\n",
    "        return np.nan\n",
    "            \n",
    "            \n",
    "# Science Jobs\n",
    "df[\"Job_RS\"]=df[\"DevType\"].apply(lambda x: t(str(x),RS,\"Something with Science\"))\n",
    "\n",
    "# Data Jobs\n",
    "df[\"Job_DJ\"]=df[\"DevType\"].apply(lambda x: t(str(x),DJ,\"Something with Data\"))\n",
    "\n",
    "# Data Scientists\n",
    "df[\"Job_DS\"]=df[\"DevType\"].apply(lambda x: t(str(x),DS,\"Data Scientist\"))\n",
    "\n",
    "# Print Results\n",
    "print(\"Data Scientist (n): {} (NaN: {})\".format( df.Job_DS.count(), df.Job_DS.isna().sum()) )\n",
    "print(\"Something with Data: {} (NaN: {})\".format( df.Job_DJ.count(),  df.Job_DJ.isna().sum()) )\n",
    "print(\"Something with Science (n): {} (NaN: {})\".format( df.Job_RS.count(), df.Job_RS.isna().sum()) ) "
   ]
  },
  {
   "cell_type": "markdown",
   "metadata": {},
   "source": [
    "> 🤓 The 3 new build variables are not exclusive, i.e.: somebody who marked herself as Data Scientist, Business Analyst, and Scientist would be in all three groups!"
   ]
  },
  {
   "cell_type": "markdown",
   "metadata": {},
   "source": [
    "Let's put this all in one variable TargetGroups with these categories:\n",
    "- PDS\n",
    "- DS\n",
    "- DJ"
   ]
  },
  {
   "cell_type": "code",
   "execution_count": 30,
   "metadata": {},
   "outputs": [],
   "source": [
    "# create new var 'TargetGroup'\n",
    "df.loc[df['Job_DJ'] == \"Something with Data\", 'TargetGroup'] = 'Something with Data'\n",
    "df.loc[df['Job_RS'] == \"Something with Science\", 'TargetGroup'] = 'Something with Science'\n",
    "df.loc[df['Job_DS'] == \"Data Scientist\", 'TargetGroup'] = 'Data Scientist'"
   ]
  },
  {
   "cell_type": "code",
   "execution_count": 35,
   "metadata": {},
   "outputs": [
    {
     "data": {
      "text/plain": [
       "<matplotlib.axes._subplots.AxesSubplot at 0x1300fd8d0>"
      ]
     },
     "execution_count": 35,
     "metadata": {},
     "output_type": "execute_result"
    },
    {
     "data": {
      "image/png": "[encoded data removed]",
      "text/plain": [
       "<Figure size 432x288 with 1 Axes>"
      ]
     },
     "metadata": {
      "needs_background": "light"
     },
     "output_type": "display_data"
    }
   ],
   "source": [
    "df.groupby(\"TargetGroup\").count().Respondent.plot.bar()"
   ]
  },
  {
   "cell_type": "code",
   "execution_count": null,
   "metadata": {},
   "outputs": [],
   "source": []
  },
  {
   "cell_type": "markdown",
   "metadata": {},
   "source": [
    "## Job Satisfaction"
   ]
  },
  {
   "cell_type": "markdown",
   "metadata": {},
   "source": [
    "How happy are Data Scientists with their job?"
   ]
  },
  {
   "cell_type": "code",
   "execution_count": 37,
   "metadata": {},
   "outputs": [
    {
     "data": {
      "text/plain": [
       "'How satisfied are you with your current job? (If you work multiple jobs, answer for the one you spend the most hours on.)'"
      ]
     },
     "execution_count": 37,
     "metadata": {},
     "output_type": "execute_result"
    }
   ],
   "source": [
    "# Question in Survey 2019\n",
    "h.get_desc(\"JobSat\")"
   ]
  },
  {
   "cell_type": "code",
   "execution_count": 38,
   "metadata": {},
   "outputs": [
    {
     "name": "stdout",
     "output_type": "stream",
     "text": [
      "Avg Job Satisfaction:  3.69\n"
     ]
    }
   ],
   "source": [
    "# build jobsatisfaction index (1-5)\n",
    "\n",
    "index = {'Slightly satisfied': 4, \n",
    "         'Slightly dissatisfied': 2,\n",
    "         'Neither satisfied nor dissatisfied': 3,\n",
    "         'Very satisfied': 5,\n",
    "         'Very dissatisfied': 1,\n",
    "         np.nan: np.nan\n",
    "        }\n",
    "\n",
    "df[\"JobSatIndex\"] = df[\"JobSat\"].apply(lambda x: index[x])\n",
    "\n",
    "print(\"Avg Job Satisfaction: \", df.JobSatIndex.mean().round(2))  "
   ]
  },
  {
   "cell_type": "markdown",
   "metadata": {},
   "source": [
    "#### Job Satisfaction between Freelancer and Employed"
   ]
  },
  {
   "cell_type": "code",
   "execution_count": 39,
   "metadata": {},
   "outputs": [
    {
     "data": {
      "text/html": [
       "<div>\n",
       "<style scoped>\n",
       "    .dataframe tbody tr th:only-of-type {\n",
       "        vertical-align: middle;\n",
       "    }\n",
       "\n",
       "    .dataframe tbody tr th {\n",
       "        vertical-align: top;\n",
       "    }\n",
       "\n",
       "    .dataframe thead th {\n",
       "        text-align: right;\n",
       "    }\n",
       "</style>\n",
       "<table border=\"1\" class=\"dataframe\">\n",
       "  <thead>\n",
       "    <tr style=\"text-align: right;\">\n",
       "      <th></th>\n",
       "      <th>Employment</th>\n",
       "      <th>n</th>\n",
       "      <th>Job_Satisfaction</th>\n",
       "    </tr>\n",
       "  </thead>\n",
       "  <tbody>\n",
       "    <tr>\n",
       "      <th>0</th>\n",
       "      <td>Employed full-time</td>\n",
       "      <td>64440</td>\n",
       "      <td>3.684898</td>\n",
       "    </tr>\n",
       "    <tr>\n",
       "      <th>1</th>\n",
       "      <td>Independent contractor, freelancer, or self-em...</td>\n",
       "      <td>8511</td>\n",
       "      <td>3.713764</td>\n",
       "    </tr>\n",
       "  </tbody>\n",
       "</table>\n",
       "</div>"
      ],
      "text/plain": [
       "                                          Employment      n  Job_Satisfaction\n",
       "0                                 Employed full-time  64440          3.684898\n",
       "1  Independent contractor, freelancer, or self-em...   8511          3.713764"
      ]
     },
     "execution_count": 39,
     "metadata": {},
     "output_type": "execute_result"
    }
   ],
   "source": [
    "df.groupby('Employment') \\\n",
    "       .agg(n=('Employment', 'size'), Job_Satisfaction=('JobSatIndex', 'mean')).reset_index()"
   ]
  },
  {
   "cell_type": "markdown",
   "metadata": {},
   "source": [
    "> ❗__Interesting__: no difference between Freelancer and employed"
   ]
  },
  {
   "cell_type": "markdown",
   "metadata": {},
   "source": [
    "#### Job Satisfaction between Data Jobs"
   ]
  },
  {
   "cell_type": "code",
   "execution_count": 40,
   "metadata": {},
   "outputs": [
    {
     "data": {
      "text/html": [
       "<div>\n",
       "<style scoped>\n",
       "    .dataframe tbody tr th:only-of-type {\n",
       "        vertical-align: middle;\n",
       "    }\n",
       "\n",
       "    .dataframe tbody tr th {\n",
       "        vertical-align: top;\n",
       "    }\n",
       "\n",
       "    .dataframe thead th {\n",
       "        text-align: right;\n",
       "    }\n",
       "</style>\n",
       "<table border=\"1\" class=\"dataframe\">\n",
       "  <thead>\n",
       "    <tr style=\"text-align: right;\">\n",
       "      <th></th>\n",
       "      <th>TargetGroup</th>\n",
       "      <th>n</th>\n",
       "      <th>Job_Satisfaction</th>\n",
       "    </tr>\n",
       "  </thead>\n",
       "  <tbody>\n",
       "    <tr>\n",
       "      <th>0</th>\n",
       "      <td>Data Scientist</td>\n",
       "      <td>5436</td>\n",
       "      <td>3.773581</td>\n",
       "    </tr>\n",
       "    <tr>\n",
       "      <th>1</th>\n",
       "      <td>Something with Data</td>\n",
       "      <td>6383</td>\n",
       "      <td>3.668349</td>\n",
       "    </tr>\n",
       "    <tr>\n",
       "      <th>2</th>\n",
       "      <td>Something with Science</td>\n",
       "      <td>1695</td>\n",
       "      <td>3.828402</td>\n",
       "    </tr>\n",
       "  </tbody>\n",
       "</table>\n",
       "</div>"
      ],
      "text/plain": [
       "              TargetGroup     n  Job_Satisfaction\n",
       "0          Data Scientist  5436          3.773581\n",
       "1     Something with Data  6383          3.668349\n",
       "2  Something with Science  1695          3.828402"
      ]
     },
     "execution_count": 40,
     "metadata": {},
     "output_type": "execute_result"
    }
   ],
   "source": [
    "df.groupby('TargetGroup') \\\n",
    "       .agg(n=('TargetGroup', 'size'), Job_Satisfaction=('JobSatIndex', 'mean')).reset_index()"
   ]
  },
  {
   "cell_type": "markdown",
   "metadata": {},
   "source": [
    "> ❗only slight differences, but the direction looks right: Scientists are more happier than Data Jobber"
   ]
  },
  {
   "cell_type": "code",
   "execution_count": null,
   "metadata": {},
   "outputs": [],
   "source": []
  }
 ],
 "metadata": {
  "kernelspec": {
   "display_name": "Python 3",
   "language": "python",
   "name": "python3"
  },
  "language_info": {
   "codemirror_mode": {
    "name": "ipython",
    "version": 3
   },
   "file_extension": ".py",
   "mimetype": "text/x-python",
   "name": "python",
   "nbconvert_exporter": "python",
   "pygments_lexer": "ipython3",
   "version": "3.7.4"
  }
 },
 "nbformat": 4,
 "nbformat_minor": 4
}
