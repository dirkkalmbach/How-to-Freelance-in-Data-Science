{
 "cells": [
  {
   "cell_type": "code",
   "execution_count": 135,
   "metadata": {},
   "outputs": [],
   "source": [
    "import numpy as np\n",
    "import pandas as pd\n",
    "import matplotlib.pyplot as plt\n",
    "import seaborn as sns\n",
    "\n",
    "import imp # for reloading modules\n",
    "\n",
    "import helper as h\n",
    "\n",
    "%matplotlib inline"
   ]
  },
  {
   "cell_type": "code",
   "execution_count": 136,
   "metadata": {},
   "outputs": [
    {
     "data": {
      "text/plain": [
       "<module 'helper' from '/Users/dirkkalmbach/Library/Mobile Documents/com~apple~CloudDocs/Projekte/DSND/blog-project/helper.py'>"
      ]
     },
     "execution_count": 136,
     "metadata": {},
     "output_type": "execute_result"
    }
   ],
   "source": [
    "imp.reload(h)"
   ]
  },
  {
   "cell_type": "markdown",
   "metadata": {},
   "source": [
    "# Problem Understanding\n",
    "## Definition of Target Group(s)\n",
    "The aim of this Report is to find out how Data Scientists can work independently, i.e. as Freelancer, independent contractor, or 1-person-company.\n",
    "I will use the following abbreviations:\n",
    "> - `Pure Data Scientists` (PDS): Data Scientists, who consider himself/herself as **only** _Data Scientists / Machine Learning Specialists_\n",
    "> - `Data Scientist` (DS): Respndents who consider him/herself as *Data Scientist*, but **not only**. \n",
    "> - `Data Jobs` (DJ): \n",
    "_Data Scientists_ 👆🏻, and/or _Data/Business Anaylsts_ and/or _Data Engineers_, i.e.: Respondents who did not mark any other \"\n",
    "\n",
    "## Data Science Question \n",
    "1. Are independent Data Scientists more happy with their Job than employed Data Scientists?\n",
    "2. Do indpeendent Data Scientists earn more than employed Data Scientists?\n",
    "3. What Coding Languages use Data Scientists? Is here any development over time?\n",
    "...\n",
    "4. What makes Developer in general happier? (also DevType as Dummy)"
   ]
  },
  {
   "cell_type": "markdown",
   "metadata": {},
   "source": [
    "# Data Understanding"
   ]
  },
  {
   "cell_type": "markdown",
   "metadata": {},
   "source": [
    "## Load Data"
   ]
  },
  {
   "cell_type": "code",
   "execution_count": 147,
   "metadata": {},
   "outputs": [
    {
     "name": "stdout",
     "output_type": "stream",
     "text": [
      "Rows: 88883 \t Variables: 85 \t \t Size: n/a kb\n"
     ]
    }
   ],
   "source": [
    "#TODO: refactor: unzip_dataframe() in helper\n",
    "\n",
    "# Load survey 2019 dataset (unzip first)\n",
    "file = \"data/raw data/developer_survey_2019/survey_results_public.csv\"\n",
    "\n",
    "from zipfile import ZipFile\n",
    "\n",
    "zip_file = ZipFile('data/raw data/developer_survey_2019/survey_results_public.csv.zip')\n",
    "df = {text_file.filename: pd.read_csv(zip_file.open(text_file.filename))\n",
    "       for text_file in zip_file.infolist()\n",
    "       if text_file.filename.endswith('.csv')}\n",
    "df = df[\"survey_results_public.csv\"]\n",
    "\n",
    "# Load data description\n",
    "schema = pd.read_csv(\"data/raw data/developer_survey_2019/survey_results_schema.csv\")\n",
    "\n",
    "h.df_info(df)"
   ]
  },
  {
   "cell_type": "markdown",
   "metadata": {},
   "source": [
    "## Definition of Target Group(s)"
   ]
  },
  {
   "cell_type": "code",
   "execution_count": 148,
   "metadata": {},
   "outputs": [
    {
     "data": {
      "text/plain": [
       "'Which of the following best describes your current employment status?'"
      ]
     },
     "execution_count": 148,
     "metadata": {},
     "output_type": "execute_result"
    }
   ],
   "source": [
    "h.get_desc(\"Employment\")"
   ]
  },
  {
   "cell_type": "code",
   "execution_count": 149,
   "metadata": {},
   "outputs": [
    {
     "name": "stdout",
     "output_type": "stream",
     "text": [
      "Rows: 72951 \t Variables: 85 \t \t Size: n/a kb\n"
     ]
    }
   ],
   "source": [
    "# Im only interested in full working people -> no parttime, students, etc.\n",
    "df = df[(df[\"Employment\"]=='Employed full-time') | (df[\"Employment\"]=='Independent contractor, freelancer, or self-employed')]\n",
    "h.df_info(df)"
   ]
  },
  {
   "cell_type": "code",
   "execution_count": 124,
   "metadata": {},
   "outputs": [
    {
     "data": {
      "text/plain": [
       "(3817, 87)"
      ]
     },
     "execution_count": 124,
     "metadata": {},
     "output_type": "execute_result"
    }
   ],
   "source": [
    "# Freelancing is asked 2x -> I wonder if there are some mismatches\n",
    "df[ (df[\"Employment\"]=='Independent contractor, freelancer, or self-employed') & (\n",
    "     df[\"OrgSize\"]== \"Just me - I am a freelancer, sole proprietor, etc.\")\n",
    "  ].shape"
   ]
  },
  {
   "cell_type": "markdown",
   "metadata": {},
   "source": [
    "#### How many \"Pure\" Data Scientists are in the dataset?"
   ]
  },
  {
   "cell_type": "code",
   "execution_count": 69,
   "metadata": {},
   "outputs": [
    {
     "name": "stdout",
     "output_type": "stream",
     "text": [
      "Rows: 494 \t Variables: 86 \t \t Size: Nonekb\n"
     ]
    }
   ],
   "source": [
    "PDS = df[df[\"DevType\"]==\"Data scientist or machine learning specialist\"]\n",
    "h.df_info(PDS)"
   ]
  },
  {
   "cell_type": "markdown",
   "metadata": {},
   "source": [
    "_...and how many among them are Freelancer?_"
   ]
  },
  {
   "cell_type": "code",
   "execution_count": 70,
   "metadata": {},
   "outputs": [
    {
     "name": "stdout",
     "output_type": "stream",
     "text": [
      "Rows: 25 \t Variables: 86 \t \t Size: Nonekb\n"
     ]
    }
   ],
   "source": [
    "# How many Freelance Pure Data Scientists?\n",
    "h.df_info(\n",
    "    PDS[PDS[\"Employment\"]==\"Independent contractor, freelancer, or self-employed\"]\n",
    ")"
   ]
  },
  {
   "cell_type": "markdown",
   "metadata": {},
   "source": [
    "Wow! 😱 Only 25 Cases! Of course, this is not enough for any valuable insights 😫"
   ]
  },
  {
   "cell_type": "code",
   "execution_count": 174,
   "metadata": {},
   "outputs": [
    {
     "data": {
      "text/html": [
       "<div>\n",
       "<style scoped>\n",
       "    .dataframe tbody tr th:only-of-type {\n",
       "        vertical-align: middle;\n",
       "    }\n",
       "\n",
       "    .dataframe tbody tr th {\n",
       "        vertical-align: top;\n",
       "    }\n",
       "\n",
       "    .dataframe thead th {\n",
       "        text-align: right;\n",
       "    }\n",
       "</style>\n",
       "<table border=\"1\" class=\"dataframe\">\n",
       "  <thead>\n",
       "    <tr style=\"text-align: right;\">\n",
       "      <th></th>\n",
       "      <th>Respondent</th>\n",
       "      <th>MainBranch</th>\n",
       "      <th>Hobbyist</th>\n",
       "      <th>OpenSourcer</th>\n",
       "      <th>OpenSource</th>\n",
       "      <th>Employment</th>\n",
       "      <th>Country</th>\n",
       "      <th>Student</th>\n",
       "      <th>EdLevel</th>\n",
       "      <th>UndergradMajor</th>\n",
       "      <th>...</th>\n",
       "      <th>SONewContent</th>\n",
       "      <th>Age</th>\n",
       "      <th>Gender</th>\n",
       "      <th>Trans</th>\n",
       "      <th>Sexuality</th>\n",
       "      <th>Ethnicity</th>\n",
       "      <th>Dependents</th>\n",
       "      <th>SurveyLength</th>\n",
       "      <th>SurveyEase</th>\n",
       "      <th>JobSatIndex</th>\n",
       "    </tr>\n",
       "    <tr>\n",
       "      <th>DataJob</th>\n",
       "      <th></th>\n",
       "      <th></th>\n",
       "      <th></th>\n",
       "      <th></th>\n",
       "      <th></th>\n",
       "      <th></th>\n",
       "      <th></th>\n",
       "      <th></th>\n",
       "      <th></th>\n",
       "      <th></th>\n",
       "      <th></th>\n",
       "      <th></th>\n",
       "      <th></th>\n",
       "      <th></th>\n",
       "      <th></th>\n",
       "      <th></th>\n",
       "      <th></th>\n",
       "      <th></th>\n",
       "      <th></th>\n",
       "      <th></th>\n",
       "      <th></th>\n",
       "    </tr>\n",
       "  </thead>\n",
       "  <tbody>\n",
       "    <tr>\n",
       "      <th>Academic researcher</th>\n",
       "      <td>240</td>\n",
       "      <td>234</td>\n",
       "      <td>240</td>\n",
       "      <td>240</td>\n",
       "      <td>228</td>\n",
       "      <td>240</td>\n",
       "      <td>240</td>\n",
       "      <td>232</td>\n",
       "      <td>236</td>\n",
       "      <td>210</td>\n",
       "      <td>...</td>\n",
       "      <td>162</td>\n",
       "      <td>173</td>\n",
       "      <td>215</td>\n",
       "      <td>204</td>\n",
       "      <td>178</td>\n",
       "      <td>191</td>\n",
       "      <td>208</td>\n",
       "      <td>225</td>\n",
       "      <td>227</td>\n",
       "      <td>190</td>\n",
       "    </tr>\n",
       "    <tr>\n",
       "      <th>Academic researcher;Data or business analyst</th>\n",
       "      <td>14</td>\n",
       "      <td>14</td>\n",
       "      <td>14</td>\n",
       "      <td>14</td>\n",
       "      <td>14</td>\n",
       "      <td>14</td>\n",
       "      <td>14</td>\n",
       "      <td>12</td>\n",
       "      <td>14</td>\n",
       "      <td>10</td>\n",
       "      <td>...</td>\n",
       "      <td>11</td>\n",
       "      <td>10</td>\n",
       "      <td>14</td>\n",
       "      <td>12</td>\n",
       "      <td>7</td>\n",
       "      <td>10</td>\n",
       "      <td>13</td>\n",
       "      <td>13</td>\n",
       "      <td>13</td>\n",
       "      <td>12</td>\n",
       "    </tr>\n",
       "    <tr>\n",
       "      <th>Academic researcher;Data or business analyst;Database administrator</th>\n",
       "      <td>3</td>\n",
       "      <td>3</td>\n",
       "      <td>3</td>\n",
       "      <td>3</td>\n",
       "      <td>3</td>\n",
       "      <td>3</td>\n",
       "      <td>3</td>\n",
       "      <td>3</td>\n",
       "      <td>2</td>\n",
       "      <td>2</td>\n",
       "      <td>...</td>\n",
       "      <td>3</td>\n",
       "      <td>1</td>\n",
       "      <td>3</td>\n",
       "      <td>3</td>\n",
       "      <td>2</td>\n",
       "      <td>2</td>\n",
       "      <td>1</td>\n",
       "      <td>2</td>\n",
       "      <td>2</td>\n",
       "      <td>2</td>\n",
       "    </tr>\n",
       "    <tr>\n",
       "      <th>Academic researcher;Data or business analyst;Database administrator;Designer;Developer, back-end;Developer, desktop or enterprise applications;Developer, embedded applications or devices;Developer, front-end;Developer, QA or test;Educator;Scientist</th>\n",
       "      <td>1</td>\n",
       "      <td>1</td>\n",
       "      <td>1</td>\n",
       "      <td>1</td>\n",
       "      <td>1</td>\n",
       "      <td>1</td>\n",
       "      <td>1</td>\n",
       "      <td>1</td>\n",
       "      <td>1</td>\n",
       "      <td>1</td>\n",
       "      <td>...</td>\n",
       "      <td>1</td>\n",
       "      <td>1</td>\n",
       "      <td>1</td>\n",
       "      <td>1</td>\n",
       "      <td>1</td>\n",
       "      <td>1</td>\n",
       "      <td>1</td>\n",
       "      <td>1</td>\n",
       "      <td>1</td>\n",
       "      <td>1</td>\n",
       "    </tr>\n",
       "    <tr>\n",
       "      <th>Academic researcher;Data or business analyst;Database administrator;Designer;Developer, back-end;Developer, desktop or enterprise applications;Developer, embedded applications or devices;Developer, front-end;Developer, full-stack;DevOps specialist</th>\n",
       "      <td>1</td>\n",
       "      <td>1</td>\n",
       "      <td>1</td>\n",
       "      <td>1</td>\n",
       "      <td>1</td>\n",
       "      <td>1</td>\n",
       "      <td>1</td>\n",
       "      <td>1</td>\n",
       "      <td>1</td>\n",
       "      <td>1</td>\n",
       "      <td>...</td>\n",
       "      <td>1</td>\n",
       "      <td>1</td>\n",
       "      <td>1</td>\n",
       "      <td>1</td>\n",
       "      <td>0</td>\n",
       "      <td>1</td>\n",
       "      <td>1</td>\n",
       "      <td>1</td>\n",
       "      <td>1</td>\n",
       "      <td>1</td>\n",
       "    </tr>\n",
       "    <tr>\n",
       "      <th>...</th>\n",
       "      <td>...</td>\n",
       "      <td>...</td>\n",
       "      <td>...</td>\n",
       "      <td>...</td>\n",
       "      <td>...</td>\n",
       "      <td>...</td>\n",
       "      <td>...</td>\n",
       "      <td>...</td>\n",
       "      <td>...</td>\n",
       "      <td>...</td>\n",
       "      <td>...</td>\n",
       "      <td>...</td>\n",
       "      <td>...</td>\n",
       "      <td>...</td>\n",
       "      <td>...</td>\n",
       "      <td>...</td>\n",
       "      <td>...</td>\n",
       "      <td>...</td>\n",
       "      <td>...</td>\n",
       "      <td>...</td>\n",
       "      <td>...</td>\n",
       "    </tr>\n",
       "    <tr>\n",
       "      <th>Senior executive/VP;System administrator</th>\n",
       "      <td>2</td>\n",
       "      <td>2</td>\n",
       "      <td>2</td>\n",
       "      <td>2</td>\n",
       "      <td>2</td>\n",
       "      <td>2</td>\n",
       "      <td>2</td>\n",
       "      <td>2</td>\n",
       "      <td>2</td>\n",
       "      <td>2</td>\n",
       "      <td>...</td>\n",
       "      <td>2</td>\n",
       "      <td>0</td>\n",
       "      <td>2</td>\n",
       "      <td>2</td>\n",
       "      <td>2</td>\n",
       "      <td>2</td>\n",
       "      <td>2</td>\n",
       "      <td>2</td>\n",
       "      <td>2</td>\n",
       "      <td>1</td>\n",
       "    </tr>\n",
       "    <tr>\n",
       "      <th>Student</th>\n",
       "      <td>335</td>\n",
       "      <td>330</td>\n",
       "      <td>335</td>\n",
       "      <td>335</td>\n",
       "      <td>324</td>\n",
       "      <td>335</td>\n",
       "      <td>335</td>\n",
       "      <td>319</td>\n",
       "      <td>317</td>\n",
       "      <td>184</td>\n",
       "      <td>...</td>\n",
       "      <td>286</td>\n",
       "      <td>275</td>\n",
       "      <td>317</td>\n",
       "      <td>310</td>\n",
       "      <td>263</td>\n",
       "      <td>280</td>\n",
       "      <td>304</td>\n",
       "      <td>326</td>\n",
       "      <td>326</td>\n",
       "      <td>34</td>\n",
       "    </tr>\n",
       "    <tr>\n",
       "      <th>Student;System administrator</th>\n",
       "      <td>18</td>\n",
       "      <td>18</td>\n",
       "      <td>18</td>\n",
       "      <td>18</td>\n",
       "      <td>17</td>\n",
       "      <td>18</td>\n",
       "      <td>18</td>\n",
       "      <td>18</td>\n",
       "      <td>18</td>\n",
       "      <td>8</td>\n",
       "      <td>...</td>\n",
       "      <td>16</td>\n",
       "      <td>17</td>\n",
       "      <td>18</td>\n",
       "      <td>18</td>\n",
       "      <td>17</td>\n",
       "      <td>17</td>\n",
       "      <td>17</td>\n",
       "      <td>18</td>\n",
       "      <td>18</td>\n",
       "      <td>7</td>\n",
       "    </tr>\n",
       "    <tr>\n",
       "      <th>System administrator</th>\n",
       "      <td>254</td>\n",
       "      <td>249</td>\n",
       "      <td>254</td>\n",
       "      <td>254</td>\n",
       "      <td>250</td>\n",
       "      <td>254</td>\n",
       "      <td>254</td>\n",
       "      <td>246</td>\n",
       "      <td>249</td>\n",
       "      <td>217</td>\n",
       "      <td>...</td>\n",
       "      <td>192</td>\n",
       "      <td>219</td>\n",
       "      <td>242</td>\n",
       "      <td>235</td>\n",
       "      <td>202</td>\n",
       "      <td>222</td>\n",
       "      <td>232</td>\n",
       "      <td>248</td>\n",
       "      <td>247</td>\n",
       "      <td>196</td>\n",
       "    </tr>\n",
       "    <tr>\n",
       "      <th>nan</th>\n",
       "      <td>1424</td>\n",
       "      <td>1347</td>\n",
       "      <td>1424</td>\n",
       "      <td>1424</td>\n",
       "      <td>1355</td>\n",
       "      <td>1424</td>\n",
       "      <td>1370</td>\n",
       "      <td>1207</td>\n",
       "      <td>1169</td>\n",
       "      <td>1086</td>\n",
       "      <td>...</td>\n",
       "      <td>853</td>\n",
       "      <td>946</td>\n",
       "      <td>1092</td>\n",
       "      <td>1052</td>\n",
       "      <td>925</td>\n",
       "      <td>933</td>\n",
       "      <td>1030</td>\n",
       "      <td>1156</td>\n",
       "      <td>1140</td>\n",
       "      <td>919</td>\n",
       "    </tr>\n",
       "  </tbody>\n",
       "</table>\n",
       "<p>9280 rows × 86 columns</p>\n",
       "</div>"
      ],
      "text/plain": [
       "                                                    Respondent  MainBranch  \\\n",
       "DataJob                                                                      \n",
       "Academic researcher                                        240         234   \n",
       "Academic researcher;Data or business analyst                14          14   \n",
       "Academic researcher;Data or business analyst;Da...           3           3   \n",
       "Academic researcher;Data or business analyst;Da...           1           1   \n",
       "Academic researcher;Data or business analyst;Da...           1           1   \n",
       "...                                                        ...         ...   \n",
       "Senior executive/VP;System administrator                     2           2   \n",
       "Student                                                    335         330   \n",
       "Student;System administrator                                18          18   \n",
       "System administrator                                       254         249   \n",
       "nan                                                       1424        1347   \n",
       "\n",
       "                                                    Hobbyist  OpenSourcer  \\\n",
       "DataJob                                                                     \n",
       "Academic researcher                                      240          240   \n",
       "Academic researcher;Data or business analyst              14           14   \n",
       "Academic researcher;Data or business analyst;Da...         3            3   \n",
       "Academic researcher;Data or business analyst;Da...         1            1   \n",
       "Academic researcher;Data or business analyst;Da...         1            1   \n",
       "...                                                      ...          ...   \n",
       "Senior executive/VP;System administrator                   2            2   \n",
       "Student                                                  335          335   \n",
       "Student;System administrator                              18           18   \n",
       "System administrator                                     254          254   \n",
       "nan                                                     1424         1424   \n",
       "\n",
       "                                                    OpenSource  Employment  \\\n",
       "DataJob                                                                      \n",
       "Academic researcher                                        228         240   \n",
       "Academic researcher;Data or business analyst                14          14   \n",
       "Academic researcher;Data or business analyst;Da...           3           3   \n",
       "Academic researcher;Data or business analyst;Da...           1           1   \n",
       "Academic researcher;Data or business analyst;Da...           1           1   \n",
       "...                                                        ...         ...   \n",
       "Senior executive/VP;System administrator                     2           2   \n",
       "Student                                                    324         335   \n",
       "Student;System administrator                                17          18   \n",
       "System administrator                                       250         254   \n",
       "nan                                                       1355        1424   \n",
       "\n",
       "                                                    Country  Student  EdLevel  \\\n",
       "DataJob                                                                         \n",
       "Academic researcher                                     240      232      236   \n",
       "Academic researcher;Data or business analyst             14       12       14   \n",
       "Academic researcher;Data or business analyst;Da...        3        3        2   \n",
       "Academic researcher;Data or business analyst;Da...        1        1        1   \n",
       "Academic researcher;Data or business analyst;Da...        1        1        1   \n",
       "...                                                     ...      ...      ...   \n",
       "Senior executive/VP;System administrator                  2        2        2   \n",
       "Student                                                 335      319      317   \n",
       "Student;System administrator                             18       18       18   \n",
       "System administrator                                    254      246      249   \n",
       "nan                                                    1370     1207     1169   \n",
       "\n",
       "                                                    UndergradMajor  ...  \\\n",
       "DataJob                                                             ...   \n",
       "Academic researcher                                            210  ...   \n",
       "Academic researcher;Data or business analyst                    10  ...   \n",
       "Academic researcher;Data or business analyst;Da...               2  ...   \n",
       "Academic researcher;Data or business analyst;Da...               1  ...   \n",
       "Academic researcher;Data or business analyst;Da...               1  ...   \n",
       "...                                                            ...  ...   \n",
       "Senior executive/VP;System administrator                         2  ...   \n",
       "Student                                                        184  ...   \n",
       "Student;System administrator                                     8  ...   \n",
       "System administrator                                           217  ...   \n",
       "nan                                                           1086  ...   \n",
       "\n",
       "                                                    SONewContent  Age  Gender  \\\n",
       "DataJob                                                                         \n",
       "Academic researcher                                          162  173     215   \n",
       "Academic researcher;Data or business analyst                  11   10      14   \n",
       "Academic researcher;Data or business analyst;Da...             3    1       3   \n",
       "Academic researcher;Data or business analyst;Da...             1    1       1   \n",
       "Academic researcher;Data or business analyst;Da...             1    1       1   \n",
       "...                                                          ...  ...     ...   \n",
       "Senior executive/VP;System administrator                       2    0       2   \n",
       "Student                                                      286  275     317   \n",
       "Student;System administrator                                  16   17      18   \n",
       "System administrator                                         192  219     242   \n",
       "nan                                                          853  946    1092   \n",
       "\n",
       "                                                    Trans  Sexuality  \\\n",
       "DataJob                                                                \n",
       "Academic researcher                                   204        178   \n",
       "Academic researcher;Data or business analyst           12          7   \n",
       "Academic researcher;Data or business analyst;Da...      3          2   \n",
       "Academic researcher;Data or business analyst;Da...      1          1   \n",
       "Academic researcher;Data or business analyst;Da...      1          0   \n",
       "...                                                   ...        ...   \n",
       "Senior executive/VP;System administrator                2          2   \n",
       "Student                                               310        263   \n",
       "Student;System administrator                           18         17   \n",
       "System administrator                                  235        202   \n",
       "nan                                                  1052        925   \n",
       "\n",
       "                                                    Ethnicity  Dependents  \\\n",
       "DataJob                                                                     \n",
       "Academic researcher                                       191         208   \n",
       "Academic researcher;Data or business analyst               10          13   \n",
       "Academic researcher;Data or business analyst;Da...          2           1   \n",
       "Academic researcher;Data or business analyst;Da...          1           1   \n",
       "Academic researcher;Data or business analyst;Da...          1           1   \n",
       "...                                                       ...         ...   \n",
       "Senior executive/VP;System administrator                    2           2   \n",
       "Student                                                   280         304   \n",
       "Student;System administrator                               17          17   \n",
       "System administrator                                      222         232   \n",
       "nan                                                       933        1030   \n",
       "\n",
       "                                                    SurveyLength  SurveyEase  \\\n",
       "DataJob                                                                        \n",
       "Academic researcher                                          225         227   \n",
       "Academic researcher;Data or business analyst                  13          13   \n",
       "Academic researcher;Data or business analyst;Da...             2           2   \n",
       "Academic researcher;Data or business analyst;Da...             1           1   \n",
       "Academic researcher;Data or business analyst;Da...             1           1   \n",
       "...                                                          ...         ...   \n",
       "Senior executive/VP;System administrator                       2           2   \n",
       "Student                                                      326         326   \n",
       "Student;System administrator                                  18          18   \n",
       "System administrator                                         248         247   \n",
       "nan                                                         1156        1140   \n",
       "\n",
       "                                                    JobSatIndex  \n",
       "DataJob                                                          \n",
       "Academic researcher                                         190  \n",
       "Academic researcher;Data or business analyst                 12  \n",
       "Academic researcher;Data or business analyst;Da...            2  \n",
       "Academic researcher;Data or business analyst;Da...            1  \n",
       "Academic researcher;Data or business analyst;Da...            1  \n",
       "...                                                         ...  \n",
       "Senior executive/VP;System administrator                      1  \n",
       "Student                                                      34  \n",
       "Student;System administrator                                  7  \n",
       "System administrator                                        196  \n",
       "nan                                                         919  \n",
       "\n",
       "[9280 rows x 86 columns]"
      ]
     },
     "execution_count": 174,
     "metadata": {},
     "output_type": "execute_result"
    }
   ],
   "source": [
    "# What about Freelance Data Scientists?\n",
    "\n",
    "DJ=[\"Data scientist or machine learning specialist\", \"Data or business analyst\", \"Engineer, data\"]\n",
    "RS=[\"Academic Research\",\"Scientist\"]\n",
    "DS=[\"Data scientist or machine learning specialist\"]\n",
    "\n",
    "def t(col, jobs, cat):\n",
    "    found=False\n",
    "    for job in jobs:\n",
    "        if job in col:\n",
    "            found=True\n",
    "    if found:\n",
    "        return cat\n",
    "    else:\n",
    "        return col\n",
    "            \n",
    "            \n",
    "# Science Jobs\n",
    "df[\"DataJob\"]=df[\"DevType\"].apply(lambda x: t(str(x),RS,\"Something with Science\"))\n",
    "\n",
    "# Data Jobs\n",
    "df[\"DataJob\"]=df[\"DevType\"].apply(lambda x: t(str(x),DJ,\"Something with Data\"))\n",
    "\n",
    "# Data Scientists\n",
    "df[\"DataJob\"]=df[\"DevType\"].apply(lambda x: t(str(x),DS,\"Data Scientist\"))\n",
    "\n",
    "\n",
    "df.groupby(\"DataJob\").count()"
   ]
  },
  {
   "cell_type": "code",
   "execution_count": 179,
   "metadata": {},
   "outputs": [
    {
     "data": {
      "text/plain": [
       "(0, 87)"
      ]
     },
     "execution_count": 179,
     "metadata": {},
     "output_type": "execute_result"
    }
   ],
   "source": [
    "df[df[\"DataJob\"]==\"Something with Data\"].shape"
   ]
  },
  {
   "cell_type": "markdown",
   "metadata": {},
   "source": [
    "## Job Satisfaction"
   ]
  },
  {
   "cell_type": "markdown",
   "metadata": {},
   "source": [
    "How happy are Data Scientists with their job?"
   ]
  },
  {
   "cell_type": "code",
   "execution_count": 14,
   "metadata": {
    "jupyter": {
     "source_hidden": true
    }
   },
   "outputs": [
    {
     "data": {
      "text/plain": [
       "'How satisfied are you with your current job? (If you work multiple jobs, answer for the one you spend the most hours on.)'"
      ]
     },
     "execution_count": 14,
     "metadata": {},
     "output_type": "execute_result"
    }
   ],
   "source": [
    "# Question in Survey 2019\n",
    "h.get_desc(\"JobSat\")"
   ]
  },
  {
   "cell_type": "code",
   "execution_count": 150,
   "metadata": {},
   "outputs": [
    {
     "name": "stdout",
     "output_type": "stream",
     "text": [
      "Avg Job Satisfaction:  3.69\n"
     ]
    }
   ],
   "source": [
    "# build jobsatisfaction index (1-5)\n",
    "\n",
    "index = {'Slightly satisfied': 4, \n",
    "         'Slightly dissatisfied': 2,\n",
    "         'Neither satisfied nor dissatisfied': 3,\n",
    "         'Very satisfied': 5,\n",
    "         'Very dissatisfied': 1,\n",
    "         np.nan: np.nan\n",
    "        }\n",
    "\n",
    "df[\"JobSatIndex\"] = df[\"JobSat\"].apply(lambda x: index[x])\n",
    "\n",
    "print(\"Avg Job Satisfaction: \", df.JobSatIndex.mean().round(2))  "
   ]
  },
  {
   "cell_type": "code",
   "execution_count": 156,
   "metadata": {},
   "outputs": [
    {
     "data": {
      "text/html": [
       "<div>\n",
       "<style scoped>\n",
       "    .dataframe tbody tr th:only-of-type {\n",
       "        vertical-align: middle;\n",
       "    }\n",
       "\n",
       "    .dataframe tbody tr th {\n",
       "        vertical-align: top;\n",
       "    }\n",
       "\n",
       "    .dataframe thead th {\n",
       "        text-align: right;\n",
       "    }\n",
       "</style>\n",
       "<table border=\"1\" class=\"dataframe\">\n",
       "  <thead>\n",
       "    <tr style=\"text-align: right;\">\n",
       "      <th></th>\n",
       "      <th>Employment</th>\n",
       "      <th>n</th>\n",
       "      <th>Job_Satisfaction</th>\n",
       "    </tr>\n",
       "  </thead>\n",
       "  <tbody>\n",
       "    <tr>\n",
       "      <th>0</th>\n",
       "      <td>Employed full-time</td>\n",
       "      <td>64440</td>\n",
       "      <td>3.684898</td>\n",
       "    </tr>\n",
       "    <tr>\n",
       "      <th>1</th>\n",
       "      <td>Independent contractor, freelancer, or self-em...</td>\n",
       "      <td>8511</td>\n",
       "      <td>3.713764</td>\n",
       "    </tr>\n",
       "  </tbody>\n",
       "</table>\n",
       "</div>"
      ],
      "text/plain": [
       "                                          Employment      n  Job_Satisfaction\n",
       "0                                 Employed full-time  64440          3.684898\n",
       "1  Independent contractor, freelancer, or self-em...   8511          3.713764"
      ]
     },
     "execution_count": 156,
     "metadata": {},
     "output_type": "execute_result"
    }
   ],
   "source": [
    "df.groupby('Employment') \\\n",
    "       .agg(n=('Employment', 'size'), Job_Satisfaction=('JobSatIndex', 'mean')).reset_index()"
   ]
  },
  {
   "cell_type": "markdown",
   "metadata": {},
   "source": [
    "> ❗__Interesting__: no difference between Freelancer and employed"
   ]
  },
  {
   "cell_type": "code",
   "execution_count": null,
   "metadata": {},
   "outputs": [],
   "source": []
  }
 ],
 "metadata": {
  "kernelspec": {
   "display_name": "Python 3",
   "language": "python",
   "name": "python3"
  },
  "language_info": {
   "codemirror_mode": {
    "name": "ipython",
    "version": 3
   },
   "file_extension": ".py",
   "mimetype": "text/x-python",
   "name": "python",
   "nbconvert_exporter": "python",
   "pygments_lexer": "ipython3",
   "version": "3.7.4"
  }
 },
 "nbformat": 4,
 "nbformat_minor": 4
}
