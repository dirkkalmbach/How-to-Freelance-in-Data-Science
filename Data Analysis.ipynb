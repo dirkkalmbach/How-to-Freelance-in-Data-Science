{
 "cells": [
  {
   "cell_type": "markdown",
   "metadata": {},
   "source": [
    "<img src=\"image/penguin-with-lance.png\" width=\"100\" align=\"center\">\n",
    "\n",
    "<h1><center>How to become a Data Science Freelancer?</center></h1>\n",
    "\n",
    "<h4>About this Notebook</h4>\n",
    "This Data Science Report follows the CRISP-DM Process (Cross Industry Process for Data Mining):  \n",
    "\n",
    "> 1. Business Understanding -> 2. Data Understanding -> 3. Data Preperation -> 4. Data Modeling -> 5. Evaluation of the Results -> 6. Deployment. \n",
    "\n",
    "This report consists of three parts:\n",
    "\n",
    "1. `Data Analysis.ipynb` (this Notebook) containing the first four steps of the CRISP-DM Process   \n",
    "2. `Results.ipynb`: the 5th step of the CRISP-DM Process    \n",
    "3. `Medium Blog Post`: the 6th step of the CRISP-DM Process   \n",
    "\n",
    "In this notebook, I do the Data Cleaning & Preprocessing 👉🏼 often called as the _hard & dirty work_ in Data Science 🏋🏻‍♂️!"
   ]
  },
  {
   "cell_type": "markdown",
   "metadata": {},
   "source": [
    "<h1>Table of contents</h1>\n",
    "\n",
    "<div  style=\"margin-top: 20px\">\n",
    "    <ol>\n",
    "        <li><a href=\"#problem_understanding\">Why this Analysis?</a></li>\n",
    "        <ol>\n",
    "            <li><a href=\"#motivation\">Motivation</a></li>\n",
    "            <li><a href=\"#research_questions\">Research Questions</a></li>        \n",
    "        </ol>   \n",
    "        <li><a href=\"#data-understanding\">Understanding the Data</a></li>\n",
    "        <ol>\n",
    "            <li><a href=\"#importing\">Importing Needed Packages</a></li>          \n",
    "            <li><a href=\"#reading_data\">Getting the Data</a></li>          \n",
    "        </ol>       \n",
    "        <li><a href=\"#prepare_data\">Data Preperation</a></li>\n",
    "        <ol>\n",
    "            <li><a href=\"#reading_data\">Extracting Target Group(s)</a></li>\n",
    "        </ol>\n",
    "        <li><a href=\"#modelling_data\">Data Modelling (Analysing)</a></li>\n",
    "        <ol>\n",
    "            <li><a href=\"#job_satisfaction\">Job Satisfaction</a></li>\n",
    "            <li><a href=\"#income\">Income</a></li>\n",
    "            <li><a href=\"#Working Hours\">Working Hours</a></li>\n",
    "            <li><a href=\"#working_style\">Working Style</a></li>\n",
    "            <li><a href=\"#coding_languages\">Coding Languages</a></li>\n",
    "        </ol>    \n",
    "    </ol>\n",
    "</div>\n",
    "<br>\n",
    "<hr>"
   ]
  },
  {
   "cell_type": "markdown",
   "metadata": {},
   "source": [
    "<h1 id=\"problem_understanding\">Why this Analysis?</h1>\n",
    "\n",
    "<h2 id=\"movivation\">Motivation</h2>\n",
    "\n",
    "I'm a student in the [Udacity Data Science Nanodegree](https://www.udacity.com/course/data-scientist-nanodegree--nd025) Program. This Jupyter Notebook is the analytic part of my first project in this Nanodegree which requires me to conduct a Data Science Blog.   \n",
    "As I was always interested in Freelancing, my leading question for this analysis is: _how can I become a Data Science Freelancer?_\n",
    "In particular, I answer these questions:\n",
    "\n",
    "<h2 id=\"research_questions\">Research Questions (... and of personal interest)</h2>\n",
    "\n",
    "1. Are independent Data Scientists more happy with their Job than employed Data Scientists?\n",
    "2. Do indpeendent Data Scientists earn more than employed Data Scientists?\n",
    "3. What Coding Languages use Data Scientists? Is here any development over time?\n",
    "...\n",
    "4. What makes Developer in general happier? (also DevType as Dummy)\n",
    "5. What skills do Data Science Freelancer have?\n",
    "\n",
    "---    \n",
    "<h1 id=\"data_understanding\">Data Understanding</h1>\n",
    "\n",
    "## About the Dataset\n",
    "My analysis are based on the [Stack Overflow’s annual Developer Survey](https://insights.stackoverflow.com/survey).\n",
    "\n",
    "## Definition of Target Group(s)\n",
    "The man problem is that the term Data Scientist is not widely .... The aim of this Report is to find out how Data Scientists can work independently, i.e. as Freelancer, independent contractor, or 1-person-company.\n",
    "I will use the following abbreviations:\n",
    "> - `Pure Data Scientists` (PDS): Data Scientists, who consider himself/herself as **only** _Data Scientists / Machine Learning Specialists_\n",
    "> - `Data Scientist` (DS): Respndents who consider him/herself as *Data Scientist*, but can also have other profession like e.g. _Business Analyist_ or _Web Developer_. \n",
    "> - `Data Jobs` (DJ): \n",
    "_Data Scientists_ 👆🏻, and/or _Data/Business Anaylsts_ and/or _Data Engineers_, i.e.: Respondents who did not mark any other \"\n",
    "> - `Scientist` (DJ): \n",
    "_Respondent who consider him/herself as Scientists \"\n",
    "\n",
    "\n"
   ]
  },
  {
   "cell_type": "markdown",
   "metadata": {},
   "source": [
    "<h2 id=\"importing\">Importing Needed Packages</h2>"
   ]
  },
  {
   "cell_type": "code",
   "execution_count": 337,
   "metadata": {},
   "outputs": [],
   "source": [
    "import numpy as np\n",
    "import pandas as pd\n",
    "import matplotlib.pyplot as plt\n",
    "import seaborn as sns\n",
    "import pickle\n",
    "import imp # for reloading modules\n",
    "\n",
    "import helper as h\n",
    "\n",
    "# surpress Jupyter Notebook warnings\n",
    "import warnings\n",
    "warnings.filterwarnings('ignore')\n",
    "\n",
    "%matplotlib inline"
   ]
  },
  {
   "cell_type": "code",
   "execution_count": 338,
   "metadata": {},
   "outputs": [
    {
     "data": {
      "text/plain": [
       "<module 'helper' from '/Users/dirkkalmbach/Library/Mobile Documents/com~apple~CloudDocs/Projekte/DSND/blog-project/helper.py'>"
      ]
     },
     "execution_count": 338,
     "metadata": {},
     "output_type": "execute_result"
    }
   ],
   "source": [
    "imp.reload(h)"
   ]
  },
  {
   "cell_type": "markdown",
   "metadata": {},
   "source": [
    "<h2 id=\"reading_data\">Getting the Data</h2>"
   ]
  },
  {
   "cell_type": "markdown",
   "metadata": {},
   "source": [
    "> 😉 I zipped the datasets to save storage. The function below works on Mac/Linux but I haven't tested it on Windows. If you have any problems, unzip the files manually and load it with `df = pd.read_csv(\"data/raw data/FILENAME.csv\")`"
   ]
  },
  {
   "cell_type": "code",
   "execution_count": 353,
   "metadata": {},
   "outputs": [
    {
     "name": "stdout",
     "output_type": "stream",
     "text": [
      "'2019 Stack Overflow Survey Responses.csv' sucessfully loaded.\n",
      "Rows: 88883 \t Variables: 85\n"
     ]
    },
    {
     "data": {
      "text/html": [
       "<div>\n",
       "<style scoped>\n",
       "    .dataframe tbody tr th:only-of-type {\n",
       "        vertical-align: middle;\n",
       "    }\n",
       "\n",
       "    .dataframe tbody tr th {\n",
       "        vertical-align: top;\n",
       "    }\n",
       "\n",
       "    .dataframe thead th {\n",
       "        text-align: right;\n",
       "    }\n",
       "</style>\n",
       "<table border=\"1\" class=\"dataframe\">\n",
       "  <thead>\n",
       "    <tr style=\"text-align: right;\">\n",
       "      <th></th>\n",
       "      <th>Respondent</th>\n",
       "      <th>MainBranch</th>\n",
       "      <th>Hobbyist</th>\n",
       "      <th>OpenSourcer</th>\n",
       "      <th>OpenSource</th>\n",
       "      <th>Employment</th>\n",
       "      <th>Country</th>\n",
       "      <th>Student</th>\n",
       "      <th>EdLevel</th>\n",
       "      <th>UndergradMajor</th>\n",
       "      <th>...</th>\n",
       "      <th>WelcomeChange</th>\n",
       "      <th>SONewContent</th>\n",
       "      <th>Age</th>\n",
       "      <th>Gender</th>\n",
       "      <th>Trans</th>\n",
       "      <th>Sexuality</th>\n",
       "      <th>Ethnicity</th>\n",
       "      <th>Dependents</th>\n",
       "      <th>SurveyLength</th>\n",
       "      <th>SurveyEase</th>\n",
       "    </tr>\n",
       "  </thead>\n",
       "  <tbody>\n",
       "    <tr>\n",
       "      <th>0</th>\n",
       "      <td>1</td>\n",
       "      <td>I am a student who is learning to code</td>\n",
       "      <td>Yes</td>\n",
       "      <td>Never</td>\n",
       "      <td>The quality of OSS and closed source software ...</td>\n",
       "      <td>Not employed, and not looking for work</td>\n",
       "      <td>United Kingdom</td>\n",
       "      <td>No</td>\n",
       "      <td>Primary/elementary school</td>\n",
       "      <td>NaN</td>\n",
       "      <td>...</td>\n",
       "      <td>Just as welcome now as I felt last year</td>\n",
       "      <td>Tech articles written by other developers;Indu...</td>\n",
       "      <td>14.0</td>\n",
       "      <td>Man</td>\n",
       "      <td>No</td>\n",
       "      <td>Straight / Heterosexual</td>\n",
       "      <td>NaN</td>\n",
       "      <td>No</td>\n",
       "      <td>Appropriate in length</td>\n",
       "      <td>Neither easy nor difficult</td>\n",
       "    </tr>\n",
       "    <tr>\n",
       "      <th>1</th>\n",
       "      <td>2</td>\n",
       "      <td>I am a student who is learning to code</td>\n",
       "      <td>No</td>\n",
       "      <td>Less than once per year</td>\n",
       "      <td>The quality of OSS and closed source software ...</td>\n",
       "      <td>Not employed, but looking for work</td>\n",
       "      <td>Bosnia and Herzegovina</td>\n",
       "      <td>Yes, full-time</td>\n",
       "      <td>Secondary school (e.g. American high school, G...</td>\n",
       "      <td>NaN</td>\n",
       "      <td>...</td>\n",
       "      <td>Just as welcome now as I felt last year</td>\n",
       "      <td>Tech articles written by other developers;Indu...</td>\n",
       "      <td>19.0</td>\n",
       "      <td>Man</td>\n",
       "      <td>No</td>\n",
       "      <td>Straight / Heterosexual</td>\n",
       "      <td>NaN</td>\n",
       "      <td>No</td>\n",
       "      <td>Appropriate in length</td>\n",
       "      <td>Neither easy nor difficult</td>\n",
       "    </tr>\n",
       "  </tbody>\n",
       "</table>\n",
       "<p>2 rows × 85 columns</p>\n",
       "</div>"
      ],
      "text/plain": [
       "   Respondent                              MainBranch Hobbyist  \\\n",
       "0           1  I am a student who is learning to code      Yes   \n",
       "1           2  I am a student who is learning to code       No   \n",
       "\n",
       "               OpenSourcer                                         OpenSource  \\\n",
       "0                    Never  The quality of OSS and closed source software ...   \n",
       "1  Less than once per year  The quality of OSS and closed source software ...   \n",
       "\n",
       "                               Employment                 Country  \\\n",
       "0  Not employed, and not looking for work          United Kingdom   \n",
       "1      Not employed, but looking for work  Bosnia and Herzegovina   \n",
       "\n",
       "          Student                                            EdLevel  \\\n",
       "0              No                          Primary/elementary school   \n",
       "1  Yes, full-time  Secondary school (e.g. American high school, G...   \n",
       "\n",
       "  UndergradMajor  ...                            WelcomeChange  \\\n",
       "0            NaN  ...  Just as welcome now as I felt last year   \n",
       "1            NaN  ...  Just as welcome now as I felt last year   \n",
       "\n",
       "                                        SONewContent   Age Gender Trans  \\\n",
       "0  Tech articles written by other developers;Indu...  14.0    Man    No   \n",
       "1  Tech articles written by other developers;Indu...  19.0    Man    No   \n",
       "\n",
       "                 Sexuality Ethnicity Dependents           SurveyLength  \\\n",
       "0  Straight / Heterosexual       NaN         No  Appropriate in length   \n",
       "1  Straight / Heterosexual       NaN         No  Appropriate in length   \n",
       "\n",
       "                   SurveyEase  \n",
       "0  Neither easy nor difficult  \n",
       "1  Neither easy nor difficult  \n",
       "\n",
       "[2 rows x 85 columns]"
      ]
     },
     "execution_count": 353,
     "metadata": {},
     "output_type": "execute_result"
    }
   ],
   "source": [
    "# Load 2019 dataset \n",
    "df = h.load_csv_zip(2019)\n",
    "df.head(2)"
   ]
  },
  {
   "cell_type": "markdown",
   "metadata": {},
   "source": [
    "<h2 id=\"target_groups\">Extracting Target Group(s)</h2>\n",
    "It's not so easy to define Data Scientists..."
   ]
  },
  {
   "cell_type": "code",
   "execution_count": 354,
   "metadata": {},
   "outputs": [
    {
     "name": "stdout",
     "output_type": "stream",
     "text": [
      "Which of the following best describes your current employment status?\n"
     ]
    }
   ],
   "source": [
    "# get survey text for var Employment\n",
    "h.get_desc(\"Employment\")"
   ]
  },
  {
   "cell_type": "code",
   "execution_count": 355,
   "metadata": {},
   "outputs": [
    {
     "name": "stdout",
     "output_type": "stream",
     "text": [
      "Categories of Employment:\n",
      "\n",
      "Not employed, and not looking for work\n",
      "Not employed, but looking for work\n",
      "Employed full-time\n",
      "Independent contractor, freelancer, or self-employed\n",
      "nan\n",
      "Employed part-time\n",
      "Retired\n"
     ]
    }
   ],
   "source": [
    "# Categories\n",
    "h.get_cat(\"Employment\",df)"
   ]
  },
  {
   "cell_type": "code",
   "execution_count": 356,
   "metadata": {},
   "outputs": [
    {
     "name": "stdout",
     "output_type": "stream",
     "text": [
      "(8511, 85)\n",
      "(4370, 85)\n"
     ]
    }
   ],
   "source": [
    "# TODO: überarbeiten\n",
    "\n",
    "# Freelancing is asked 2x -> I wonder if there are some mismatches\n",
    "df[ (df[\"Employment\"]=='Independent contractor, freelancer, or self-employed') & (\n",
    "     df[\"OrgSize\"]== \"Just me - I am a freelancer, sole proprietor, etc.\")\n",
    "  ].shape\n",
    "\n",
    "print( df[df[\"Employment\"]=='Independent contractor, freelancer, or self-employed'].shape)\n",
    "print( df[df[\"OrgSize\"]== \"Just me - I am a freelancer, sole proprietor, etc.\"].shape )"
   ]
  },
  {
   "cell_type": "markdown",
   "metadata": {},
   "source": [
    "#### 👉🏻 Set Filter for Freelancer"
   ]
  },
  {
   "cell_type": "markdown",
   "metadata": {},
   "source": [
    "Freelancer is who:\n",
    "- is independent contractor, freelancer, or self-employed &\n",
    "- works alone"
   ]
  },
  {
   "cell_type": "code",
   "execution_count": 358,
   "metadata": {},
   "outputs": [
    {
     "data": {
      "text/plain": [
       "no     85066\n",
       "yes     3817\n",
       "Name: Freelancer, dtype: int64"
      ]
     },
     "execution_count": 358,
     "metadata": {},
     "output_type": "execute_result"
    }
   ],
   "source": [
    "# Create Freelancer Filter Variable\n",
    "df['Freelancer'] = np.where( (df['Employment']=='Independent contractor, freelancer, or self-employed')\n",
    "                            & (df[\"OrgSize\"]== \"Just me - I am a freelancer, sole proprietor, etc.\"), 'yes', 'no')\n",
    "df.Freelancer.value_counts()"
   ]
  },
  {
   "cell_type": "markdown",
   "metadata": {},
   "source": [
    "#### Group Data related Jobs"
   ]
  },
  {
   "cell_type": "markdown",
   "metadata": {},
   "source": [
    "#### How many \"pure\" Data Scientists are in the dataset?"
   ]
  },
  {
   "cell_type": "code",
   "execution_count": 359,
   "metadata": {},
   "outputs": [
    {
     "data": {
      "text/plain": [
       "(526, 86)"
      ]
     },
     "execution_count": 359,
     "metadata": {},
     "output_type": "execute_result"
    }
   ],
   "source": [
    "PDS = df[df[\"DevType\"]==\"Data scientist or machine learning specialist\"]\n",
    "PDS.shape"
   ]
  },
  {
   "cell_type": "markdown",
   "metadata": {},
   "source": [
    "_...and how many among them are Freelancer?_"
   ]
  },
  {
   "cell_type": "code",
   "execution_count": 360,
   "metadata": {},
   "outputs": [
    {
     "data": {
      "text/plain": [
       "(14, 86)"
      ]
     },
     "execution_count": 360,
     "metadata": {},
     "output_type": "execute_result"
    }
   ],
   "source": [
    "# How many Freelance Pure Data Scientists?\n",
    "\n",
    "PDS[PDS[\"Freelancer\"]==\"yes\"].shape"
   ]
  },
  {
   "cell_type": "markdown",
   "metadata": {},
   "source": [
    "Wow! 😱 Only a few cases! Of course, this is not enough for any valuable insights 😫"
   ]
  },
  {
   "cell_type": "code",
   "execution_count": 364,
   "metadata": {},
   "outputs": [
    {
     "name": "stdout",
     "output_type": "stream",
     "text": [
      "Data Scientist (n): 6460 (NaN: 82423)\n",
      "Something with Data: 13808 (NaN: 75075)\n",
      "Something with Science (n): 3617 (NaN: 85266)\n",
      "Other Jobs (n): 73405 (NaN: 15478)\n"
     ]
    }
   ],
   "source": [
    "#TODO: Refactor with this\n",
    "    #df.loc[df['column name'] condition, 'new column name'] = 'value if condition is met'\n",
    "\n",
    "DJ=[\"Data scientist or machine learning specialist\", \"Data or business analyst\", \"Engineer, data\"]\n",
    "RS=[\"Academic Research\",\"Scientist\"]\n",
    "DS=[\"Data scientist or machine learning specialist\"]\n",
    "\n",
    "def t(col, jobs, cat):\n",
    "    found=False\n",
    "    for job in jobs:\n",
    "        if job in col:\n",
    "            found=True\n",
    "    if found:\n",
    "        return cat\n",
    "    else:\n",
    "        return np.nan\n",
    "            \n",
    "\n",
    "# Data Scientists\n",
    "df[\"Job_DS\"]=df[\"DevType\"].apply(lambda x: t(str(x),DS,\"Data Scientist\"))\n",
    "\n",
    "# Science Jobs\n",
    "df[\"Job_RS\"]=df[\"DevType\"].apply(lambda x: t(str(x),RS,\"Scientist\"))\n",
    "\n",
    "# Data Jobs\n",
    "df[\"Job_DJ\"]=df[\"DevType\"].apply(lambda x: t(str(x),DJ,\"Dataist\"))\n",
    "\n",
    "# Other Jobs\n",
    "df[\"Job_oJ\"] = np.nan\n",
    "df[\"Job_oJ\"][df[\"Job_DS\"].isna().sum() & df[\"Job_RS\"].isna() & df[\"Job_DJ\"].isna()]=\"other Job\" \n",
    "\n",
    "# Print Results\n",
    "print(\"Data Scientist (n): {} (NaN: {})\".format( df.Job_DS.count(), df.Job_DS.isna().sum()) )\n",
    "print(\"Something with Data: {} (NaN: {})\".format( df.Job_DJ.count(),  df.Job_DJ.isna().sum()) )\n",
    "print(\"Something with Science (n): {} (NaN: {})\".format( df.Job_RS.count(), df.Job_RS.isna().sum()) ) \n",
    "print(\"Other Jobs (n): {} (NaN: {})\".format( df.Job_oJ.count(), df.Job_oJ.isna().sum()) ) "
   ]
  },
  {
   "cell_type": "markdown",
   "metadata": {},
   "source": [
    "> 🤓 The 3 new build variables are not exclusive, i.e.: somebody who marked herself as Data Scientist, Business Analyst, and Scientist would be in all three groups! That's why I built different variables for each job category."
   ]
  },
  {
   "cell_type": "code",
   "execution_count": 363,
   "metadata": {},
   "outputs": [
    {
     "data": {
      "text/plain": [
       "array([0, 1, 2, 3])"
      ]
     },
     "execution_count": 363,
     "metadata": {},
     "output_type": "execute_result"
    }
   ],
   "source": [
    "performance=[df.Job_oJ.count(), df.Job_DS.count(), df.Job_DJ.count(), df.Job_RS.count()]\n",
    "\n",
    "\n",
    "np.arange(len(people))"
   ]
  },
  {
   "cell_type": "code",
   "execution_count": 329,
   "metadata": {},
   "outputs": [
    {
     "data": {
      "image/png": "[encoded data removed]",
      "text/plain": [
       "<Figure size 432x288 with 1 Axes>"
      ]
     },
     "metadata": {
      "needs_background": "light"
     },
     "output_type": "display_data"
    }
   ],
   "source": [
    "fig, ax = plt.subplots()\n",
    "x=[400,4000]\n",
    "data=[df.Job_oJ.count(), df.Job_DS.count(), df.Job_DJ.count(), df.Job_RS.count()]\n",
    "y_pos = np.arange(len(data))\n",
    "labels = [\"all other Jobs\",\"Data Scientists\", \"Dataists\", \"Scientists\"]\n",
    "#error = np.random.rand(len(people))\n",
    "\n",
    "ax.barh(y_pos, data, align='center')\n",
    "ax.set_yticks(y_pos)\n",
    "ax.set_yticklabels(labels)\n",
    "ax.invert_yaxis()  # labels read top-to-bottom\n",
    "ax.set_xlabel('Performance')\n",
    "ax.set_title('How many Data Scientists do we have?')\n",
    "\n",
    "plt.show()"
   ]
  },
  {
   "cell_type": "code",
   "execution_count": 401,
   "metadata": {},
   "outputs": [
    {
     "name": "stdout",
     "output_type": "stream",
     "text": [
      "     Target Groups  employed  freelancing\n",
      "0           Others     70386         3019\n",
      "1  Data Scientists      6153          307\n",
      "2         Dataists     13103          705\n",
      "3       Scientists      3415          202\n"
     ]
    },
    {
     "data": {
      "image/png": "[encoded data removed]",
      "text/plain": [
       "<Figure size 720x360 with 1 Axes>"
      ]
     },
     "metadata": {
      "needs_background": "light"
     },
     "output_type": "display_data"
    }
   ],
   "source": [
    "# Barplot of Taget Groups\n",
    "\n",
    "df[df[\"Freelancer\"]==\"yes\"].Job_oJ.count()#, df.Job_DS.count()\n",
    "dy = pd.DataFrame({\n",
    "    'Target Groups': ['Others', 'Data Scientists', 'Dataists', 'Scientists'],\n",
    "    'employed': [df[df[\"Freelancer\"]==\"no\"].Job_oJ.count(), df[df[\"Freelancer\"]==\"no\"].Job_DS.count(),\n",
    "                df[df[\"Freelancer\"]==\"no\"].Job_DJ.count(), df[df[\"Freelancer\"]==\"no\"].Job_RS.count()],\n",
    "    'freelancing': [df[df[\"Freelancer\"]==\"yes\"].Job_oJ.count(), df[df[\"Freelancer\"]==\"yes\"].Job_DS.count(),\n",
    "                   df[df[\"Freelancer\"]==\"yes\"].Job_DJ.count(), df[df[\"Freelancer\"]==\"yes\"].Job_RS.count()]\n",
    "})\n",
    "print(dy)\n",
    "fig, ax1 = plt.subplots(figsize=(10, 5))\n",
    "tidy = dy.melt(id_vars='Target Groups').rename(columns=str.title)\n",
    "sns.barplot(y='Target Groups', x='Value', hue='Variable', data=tidy, ax=ax1).set(title = 'How many Data Scientists do we have?')\n",
    "sns.despine(fig)"
   ]
  },
  {
   "cell_type": "markdown",
   "metadata": {},
   "source": [
    "---"
   ]
  },
  {
   "cell_type": "code",
   "execution_count": 273,
   "metadata": {},
   "outputs": [
    {
     "data": {
      "image/png": "[encoded data removed]",
      "text/plain": [
       "<Figure size 432x288 with 1 Axes>"
      ]
     },
     "metadata": {
      "needs_background": "light"
     },
     "output_type": "display_data"
    }
   ],
   "source": [
    "ed_vals = df.FormalEducation.value_counts()#Provide a pandas series of the counts for each FormalEducation status\n",
    "\n",
    "# The below should be a bar chart of the proportion of individuals in your ed_vals\n",
    "# if it is set up correctly.\n",
    "\n",
    "(ed_vals/df.shape[0]).plot(kind=\"bar\");\n",
    "plt.title(\"Formal Education\");"
   ]
  },
  {
   "cell_type": "markdown",
   "metadata": {},
   "source": [
    "# Data Cleaning\n",
    "These Variables will be part of the modelling process and need to be cleaned:\n",
    "salary, satisfaction, "
   ]
  },
  {
   "cell_type": "code",
   "execution_count": 24,
   "metadata": {},
   "outputs": [
    {
     "data": {
      "text/plain": [
       "['Not employed, and not looking for work',\n",
       " 'Not employed, but looking for work',\n",
       " 'Employed full-time',\n",
       " 'Independent contractor, freelancer, or self-employed',\n",
       " nan,\n",
       " 'Employed part-time',\n",
       " 'Retired']"
      ]
     },
     "execution_count": 24,
     "metadata": {},
     "output_type": "execute_result"
    }
   ],
   "source": [
    "# Im only interested in full working people -> no parttime, students, etc.\n",
    "\n",
    "h.get_cat(\"Employment\",df)"
   ]
  },
  {
   "cell_type": "code",
   "execution_count": 40,
   "metadata": {},
   "outputs": [
    {
     "name": "stdout",
     "output_type": "stream",
     "text": [
      "Rows: 77420 \t Variables: 85 \t \t Size: n/a kb\n"
     ]
    }
   ],
   "source": [
    "df = df[(df[\"Employment\"]=='Employed full-time') | \n",
    "        (df[\"Employment\"]=='Independent contractor, freelancer, or self-employed') |\n",
    "        (df[\"Employment\"]=='Employed part-time')]\n",
    "h.df_info(df)"
   ]
  },
  {
   "cell_type": "code",
   "execution_count": null,
   "metadata": {},
   "outputs": [],
   "source": [
    "c=h.outlier(df)"
   ]
  },
  {
   "cell_type": "markdown",
   "metadata": {},
   "source": [
    "## Outlier Detection"
   ]
  },
  {
   "cell_type": "code",
   "execution_count": null,
   "metadata": {},
   "outputs": [],
   "source": [
    "# TODO\n",
    "- Students, Retires, raus\n",
    "- Outliers raus\n",
    "- Missing Values\n",
    "- "
   ]
  },
  {
   "cell_type": "markdown",
   "metadata": {},
   "source": [
    "<h1 id=\"data_modelling\">Data Modelling</h1>"
   ]
  },
  {
   "cell_type": "markdown",
   "metadata": {},
   "source": [
    "<h2 id=\"job_satisfaction\">Job Satisfaction</h2>"
   ]
  },
  {
   "cell_type": "markdown",
   "metadata": {},
   "source": [
    "> 🤔 _How happy are Freelancer, and Data Scientists with their job?_"
   ]
  },
  {
   "cell_type": "markdown",
   "metadata": {},
   "source": [
    "<h2 id=\"Popularity of Data Science over the Time\">Development</h2>"
   ]
  },
  {
   "cell_type": "markdown",
   "metadata": {},
   "source": [
    "> 🤔 _How is the Data Science Freelancer market developing over the time?_"
   ]
  },
  {
   "cell_type": "code",
   "execution_count": 146,
   "metadata": {},
   "outputs": [
    {
     "data": {
      "text/plain": [
       "Index(['What Country do you live in?', 'Unnamed: 1',\n",
       "       'Which US State or Territory do you live in?', 'How old are you?',\n",
       "       'What is your gender?',\n",
       "       'How many years of IT/Programming experience do you have?',\n",
       "       'Which of the following best describes your occupation?',\n",
       "       'Including bonus, what is your annual compensation in USD?',\n",
       "       'How would you best describe the industry you currently work in?',\n",
       "       'How many developers are employed at your company?',\n",
       "       ...\n",
       "       'Did you participate in the Apptivate contest?',\n",
       "       'What advertisers do you remember seeing on Stack Overflow?',\n",
       "       'What is your current Stack Overflow reputation?',\n",
       "       'How do you use Stack Overflow?', 'Unnamed: 114', 'Unnamed: 115',\n",
       "       'Unnamed: 116', 'Unnamed: 117', 'Unnamed: 118',\n",
       "       'How often do you find solutions to your programming problems on Stack Overflow without asking a new question?'],\n",
       "      dtype='object', length=120)"
      ]
     },
     "execution_count": 146,
     "metadata": {},
     "output_type": "execute_result"
    }
   ],
   "source": [
    "df_2014.drop(0, axis=0)\n",
    "df_2014.columns\n",
    "\n",
    "df_2015 = h.read_csv_zip(2015)"
   ]
  },
  {
   "cell_type": "code",
   "execution_count": 136,
   "metadata": {},
   "outputs": [
    {
     "data": {
      "text/html": [
       "<div>\n",
       "<style scoped>\n",
       "    .dataframe tbody tr th:only-of-type {\n",
       "        vertical-align: middle;\n",
       "    }\n",
       "\n",
       "    .dataframe tbody tr th {\n",
       "        vertical-align: top;\n",
       "    }\n",
       "\n",
       "    .dataframe thead th {\n",
       "        text-align: right;\n",
       "    }\n",
       "</style>\n",
       "<table border=\"1\" class=\"dataframe\">\n",
       "  <thead>\n",
       "    <tr style=\"text-align: right;\">\n",
       "      <th></th>\n",
       "      <th>Country</th>\n",
       "      <th>Age</th>\n",
       "      <th>Gender</th>\n",
       "      <th>Tabs or Spaces</th>\n",
       "      <th>Years IT / Programming Experience</th>\n",
       "      <th>Occupation</th>\n",
       "      <th>Desktop Operating System</th>\n",
       "      <th>Desktop Operating System: write-in</th>\n",
       "      <th>Current Lang &amp; Tech: Android</th>\n",
       "      <th>Current Lang &amp; Tech: Arduino</th>\n",
       "      <th>...</th>\n",
       "      <th>Why use Stack Overflow: I don't use Stack Overflow</th>\n",
       "      <th>How often are Stack Overflow's answers helpful</th>\n",
       "      <th>Why answer: Help a programmer in need</th>\n",
       "      <th>Why answer: Help future programmers</th>\n",
       "      <th>Why answer: Demonstrate expertise</th>\n",
       "      <th>Why answer: Self promotion</th>\n",
       "      <th>Why answer: Sense of responsibility to developers</th>\n",
       "      <th>Why answer: No idea</th>\n",
       "      <th>Why answer: I don't answer and I don't want to</th>\n",
       "      <th>Why answer: I don't answer but I want to</th>\n",
       "    </tr>\n",
       "  </thead>\n",
       "  <tbody>\n",
       "    <tr>\n",
       "      <th>1</th>\n",
       "      <td>Croatia</td>\n",
       "      <td>25-29</td>\n",
       "      <td>Male</td>\n",
       "      <td>Tabs</td>\n",
       "      <td>2 - 5 years</td>\n",
       "      <td>Back-end web developer</td>\n",
       "      <td>Ubuntu</td>\n",
       "      <td>NaN</td>\n",
       "      <td>NaN</td>\n",
       "      <td>NaN</td>\n",
       "      <td>...</td>\n",
       "      <td>NaN</td>\n",
       "      <td>Usually</td>\n",
       "      <td>NaN</td>\n",
       "      <td>NaN</td>\n",
       "      <td>It feels good to demonstrate my expertise.</td>\n",
       "      <td>Demonstrating my expertise will benefit me</td>\n",
       "      <td>I feel a sense of responsibility to the develo...</td>\n",
       "      <td>NaN</td>\n",
       "      <td>NaN</td>\n",
       "      <td>NaN</td>\n",
       "    </tr>\n",
       "    <tr>\n",
       "      <th>2</th>\n",
       "      <td>France</td>\n",
       "      <td>20-24</td>\n",
       "      <td>Male</td>\n",
       "      <td>Spaces</td>\n",
       "      <td>1 - 2 years</td>\n",
       "      <td>Back-end web developer</td>\n",
       "      <td>Windows 7</td>\n",
       "      <td>NaN</td>\n",
       "      <td>NaN</td>\n",
       "      <td>NaN</td>\n",
       "      <td>...</td>\n",
       "      <td>NaN</td>\n",
       "      <td>Usually</td>\n",
       "      <td>NaN</td>\n",
       "      <td>My answer will help lots of people who have th...</td>\n",
       "      <td>It feels good to demonstrate my expertise.</td>\n",
       "      <td>NaN</td>\n",
       "      <td>NaN</td>\n",
       "      <td>NaN</td>\n",
       "      <td>NaN</td>\n",
       "      <td>NaN</td>\n",
       "    </tr>\n",
       "    <tr>\n",
       "      <th>3</th>\n",
       "      <td>India</td>\n",
       "      <td>20-24</td>\n",
       "      <td>Male</td>\n",
       "      <td>Tabs</td>\n",
       "      <td>1 - 2 years</td>\n",
       "      <td>Back-end web developer</td>\n",
       "      <td>Windows 7</td>\n",
       "      <td>NaN</td>\n",
       "      <td>NaN</td>\n",
       "      <td>NaN</td>\n",
       "      <td>...</td>\n",
       "      <td>NaN</td>\n",
       "      <td>Rarely</td>\n",
       "      <td>NaN</td>\n",
       "      <td>NaN</td>\n",
       "      <td>NaN</td>\n",
       "      <td>Demonstrating my expertise will benefit me</td>\n",
       "      <td>NaN</td>\n",
       "      <td>NaN</td>\n",
       "      <td>NaN</td>\n",
       "      <td>NaN</td>\n",
       "    </tr>\n",
       "    <tr>\n",
       "      <th>4</th>\n",
       "      <td>Latvia</td>\n",
       "      <td>25-29</td>\n",
       "      <td>Male</td>\n",
       "      <td>It depends</td>\n",
       "      <td>6 - 10 years</td>\n",
       "      <td>Back-end web developer</td>\n",
       "      <td>Ubuntu</td>\n",
       "      <td>NaN</td>\n",
       "      <td>NaN</td>\n",
       "      <td>NaN</td>\n",
       "      <td>...</td>\n",
       "      <td>NaN</td>\n",
       "      <td>Usually</td>\n",
       "      <td>It feels good to help a programmer in need</td>\n",
       "      <td>My answer will help lots of people who have th...</td>\n",
       "      <td>It feels good to demonstrate my expertise.</td>\n",
       "      <td>Demonstrating my expertise will benefit me</td>\n",
       "      <td>I feel a sense of responsibility to the develo...</td>\n",
       "      <td>NaN</td>\n",
       "      <td>NaN</td>\n",
       "      <td>NaN</td>\n",
       "    </tr>\n",
       "    <tr>\n",
       "      <th>5</th>\n",
       "      <td>Norway</td>\n",
       "      <td>30-34</td>\n",
       "      <td>Male</td>\n",
       "      <td>Tabs</td>\n",
       "      <td>2 - 5 years</td>\n",
       "      <td>Back-end web developer</td>\n",
       "      <td>Windows 8</td>\n",
       "      <td>NaN</td>\n",
       "      <td>NaN</td>\n",
       "      <td>NaN</td>\n",
       "      <td>...</td>\n",
       "      <td>NaN</td>\n",
       "      <td>Usually</td>\n",
       "      <td>It feels good to help a programmer in need</td>\n",
       "      <td>NaN</td>\n",
       "      <td>NaN</td>\n",
       "      <td>Demonstrating my expertise will benefit me</td>\n",
       "      <td>NaN</td>\n",
       "      <td>NaN</td>\n",
       "      <td>NaN</td>\n",
       "      <td>I don't answer much (or at all), but I want to...</td>\n",
       "    </tr>\n",
       "    <tr>\n",
       "      <th>...</th>\n",
       "      <td>...</td>\n",
       "      <td>...</td>\n",
       "      <td>...</td>\n",
       "      <td>...</td>\n",
       "      <td>...</td>\n",
       "      <td>...</td>\n",
       "      <td>...</td>\n",
       "      <td>...</td>\n",
       "      <td>...</td>\n",
       "      <td>...</td>\n",
       "      <td>...</td>\n",
       "      <td>...</td>\n",
       "      <td>...</td>\n",
       "      <td>...</td>\n",
       "      <td>...</td>\n",
       "      <td>...</td>\n",
       "      <td>...</td>\n",
       "      <td>...</td>\n",
       "      <td>...</td>\n",
       "      <td>...</td>\n",
       "      <td>...</td>\n",
       "    </tr>\n",
       "    <tr>\n",
       "      <th>26082</th>\n",
       "      <td>Vietnam</td>\n",
       "      <td>20-24</td>\n",
       "      <td>Male</td>\n",
       "      <td>Tabs</td>\n",
       "      <td>1 - 2 years</td>\n",
       "      <td>NaN</td>\n",
       "      <td>NaN</td>\n",
       "      <td>NaN</td>\n",
       "      <td>NaN</td>\n",
       "      <td>NaN</td>\n",
       "      <td>...</td>\n",
       "      <td>NaN</td>\n",
       "      <td>NaN</td>\n",
       "      <td>NaN</td>\n",
       "      <td>NaN</td>\n",
       "      <td>NaN</td>\n",
       "      <td>NaN</td>\n",
       "      <td>NaN</td>\n",
       "      <td>NaN</td>\n",
       "      <td>NaN</td>\n",
       "      <td>NaN</td>\n",
       "    </tr>\n",
       "    <tr>\n",
       "      <th>26083</th>\n",
       "      <td>Vietnam</td>\n",
       "      <td>25-29</td>\n",
       "      <td>Male</td>\n",
       "      <td>Tabs</td>\n",
       "      <td>NaN</td>\n",
       "      <td>NaN</td>\n",
       "      <td>NaN</td>\n",
       "      <td>NaN</td>\n",
       "      <td>NaN</td>\n",
       "      <td>NaN</td>\n",
       "      <td>...</td>\n",
       "      <td>NaN</td>\n",
       "      <td>NaN</td>\n",
       "      <td>NaN</td>\n",
       "      <td>NaN</td>\n",
       "      <td>NaN</td>\n",
       "      <td>NaN</td>\n",
       "      <td>NaN</td>\n",
       "      <td>NaN</td>\n",
       "      <td>NaN</td>\n",
       "      <td>NaN</td>\n",
       "    </tr>\n",
       "    <tr>\n",
       "      <th>26084</th>\n",
       "      <td>Vietnam</td>\n",
       "      <td>25-29</td>\n",
       "      <td>Male</td>\n",
       "      <td>It depends</td>\n",
       "      <td>2 - 5 years</td>\n",
       "      <td>NaN</td>\n",
       "      <td>NaN</td>\n",
       "      <td>NaN</td>\n",
       "      <td>NaN</td>\n",
       "      <td>NaN</td>\n",
       "      <td>...</td>\n",
       "      <td>NaN</td>\n",
       "      <td>NaN</td>\n",
       "      <td>NaN</td>\n",
       "      <td>NaN</td>\n",
       "      <td>NaN</td>\n",
       "      <td>NaN</td>\n",
       "      <td>NaN</td>\n",
       "      <td>NaN</td>\n",
       "      <td>NaN</td>\n",
       "      <td>NaN</td>\n",
       "    </tr>\n",
       "    <tr>\n",
       "      <th>26085</th>\n",
       "      <td>Zimbabwe</td>\n",
       "      <td>NaN</td>\n",
       "      <td>NaN</td>\n",
       "      <td>Huh?</td>\n",
       "      <td>NaN</td>\n",
       "      <td>NaN</td>\n",
       "      <td>NaN</td>\n",
       "      <td>NaN</td>\n",
       "      <td>NaN</td>\n",
       "      <td>NaN</td>\n",
       "      <td>...</td>\n",
       "      <td>NaN</td>\n",
       "      <td>NaN</td>\n",
       "      <td>NaN</td>\n",
       "      <td>NaN</td>\n",
       "      <td>NaN</td>\n",
       "      <td>NaN</td>\n",
       "      <td>NaN</td>\n",
       "      <td>NaN</td>\n",
       "      <td>NaN</td>\n",
       "      <td>NaN</td>\n",
       "    </tr>\n",
       "    <tr>\n",
       "      <th>26086</th>\n",
       "      <td>Zimbabwe</td>\n",
       "      <td>Prefer not to disclose</td>\n",
       "      <td>Prefer not to disclose</td>\n",
       "      <td>Huh?</td>\n",
       "      <td>NaN</td>\n",
       "      <td>NaN</td>\n",
       "      <td>NaN</td>\n",
       "      <td>NaN</td>\n",
       "      <td>NaN</td>\n",
       "      <td>NaN</td>\n",
       "      <td>...</td>\n",
       "      <td>NaN</td>\n",
       "      <td>NaN</td>\n",
       "      <td>NaN</td>\n",
       "      <td>NaN</td>\n",
       "      <td>NaN</td>\n",
       "      <td>NaN</td>\n",
       "      <td>NaN</td>\n",
       "      <td>NaN</td>\n",
       "      <td>NaN</td>\n",
       "      <td>NaN</td>\n",
       "    </tr>\n",
       "  </tbody>\n",
       "</table>\n",
       "<p>26086 rows × 222 columns</p>\n",
       "</div>"
      ],
      "text/plain": [
       "0       Country                     Age                  Gender  \\\n",
       "1       Croatia                   25-29                    Male   \n",
       "2        France                   20-24                    Male   \n",
       "3         India                   20-24                    Male   \n",
       "4        Latvia                   25-29                    Male   \n",
       "5        Norway                   30-34                    Male   \n",
       "...         ...                     ...                     ...   \n",
       "26082   Vietnam                   20-24                    Male   \n",
       "26083   Vietnam                   25-29                    Male   \n",
       "26084   Vietnam                   25-29                    Male   \n",
       "26085  Zimbabwe                     NaN                     NaN   \n",
       "26086  Zimbabwe  Prefer not to disclose  Prefer not to disclose   \n",
       "\n",
       "0     Tabs or Spaces Years IT / Programming Experience  \\\n",
       "1               Tabs                       2 - 5 years   \n",
       "2             Spaces                       1 - 2 years   \n",
       "3               Tabs                       1 - 2 years   \n",
       "4         It depends                      6 - 10 years   \n",
       "5               Tabs                       2 - 5 years   \n",
       "...              ...                               ...   \n",
       "26082           Tabs                       1 - 2 years   \n",
       "26083           Tabs                               NaN   \n",
       "26084     It depends                       2 - 5 years   \n",
       "26085           Huh?                               NaN   \n",
       "26086           Huh?                               NaN   \n",
       "\n",
       "0                  Occupation Desktop Operating System  \\\n",
       "1      Back-end web developer                   Ubuntu   \n",
       "2      Back-end web developer                Windows 7   \n",
       "3      Back-end web developer                Windows 7   \n",
       "4      Back-end web developer                   Ubuntu   \n",
       "5      Back-end web developer                Windows 8   \n",
       "...                       ...                      ...   \n",
       "26082                     NaN                      NaN   \n",
       "26083                     NaN                      NaN   \n",
       "26084                     NaN                      NaN   \n",
       "26085                     NaN                      NaN   \n",
       "26086                     NaN                      NaN   \n",
       "\n",
       "0     Desktop Operating System: write-in Current Lang & Tech: Android  \\\n",
       "1                                    NaN                          NaN   \n",
       "2                                    NaN                          NaN   \n",
       "3                                    NaN                          NaN   \n",
       "4                                    NaN                          NaN   \n",
       "5                                    NaN                          NaN   \n",
       "...                                  ...                          ...   \n",
       "26082                                NaN                          NaN   \n",
       "26083                                NaN                          NaN   \n",
       "26084                                NaN                          NaN   \n",
       "26085                                NaN                          NaN   \n",
       "26086                                NaN                          NaN   \n",
       "\n",
       "0     Current Lang & Tech: Arduino  ...  \\\n",
       "1                              NaN  ...   \n",
       "2                              NaN  ...   \n",
       "3                              NaN  ...   \n",
       "4                              NaN  ...   \n",
       "5                              NaN  ...   \n",
       "...                            ...  ...   \n",
       "26082                          NaN  ...   \n",
       "26083                          NaN  ...   \n",
       "26084                          NaN  ...   \n",
       "26085                          NaN  ...   \n",
       "26086                          NaN  ...   \n",
       "\n",
       "0     Why use Stack Overflow: I don't use Stack Overflow  \\\n",
       "1                                                    NaN   \n",
       "2                                                    NaN   \n",
       "3                                                    NaN   \n",
       "4                                                    NaN   \n",
       "5                                                    NaN   \n",
       "...                                                  ...   \n",
       "26082                                                NaN   \n",
       "26083                                                NaN   \n",
       "26084                                                NaN   \n",
       "26085                                                NaN   \n",
       "26086                                                NaN   \n",
       "\n",
       "0     How often are Stack Overflow's answers helpful  \\\n",
       "1                                            Usually   \n",
       "2                                            Usually   \n",
       "3                                             Rarely   \n",
       "4                                            Usually   \n",
       "5                                            Usually   \n",
       "...                                              ...   \n",
       "26082                                            NaN   \n",
       "26083                                            NaN   \n",
       "26084                                            NaN   \n",
       "26085                                            NaN   \n",
       "26086                                            NaN   \n",
       "\n",
       "0           Why answer: Help a programmer in need  \\\n",
       "1                                             NaN   \n",
       "2                                             NaN   \n",
       "3                                             NaN   \n",
       "4      It feels good to help a programmer in need   \n",
       "5      It feels good to help a programmer in need   \n",
       "...                                           ...   \n",
       "26082                                         NaN   \n",
       "26083                                         NaN   \n",
       "26084                                         NaN   \n",
       "26085                                         NaN   \n",
       "26086                                         NaN   \n",
       "\n",
       "0                    Why answer: Help future programmers  \\\n",
       "1                                                    NaN   \n",
       "2      My answer will help lots of people who have th...   \n",
       "3                                                    NaN   \n",
       "4      My answer will help lots of people who have th...   \n",
       "5                                                    NaN   \n",
       "...                                                  ...   \n",
       "26082                                                NaN   \n",
       "26083                                                NaN   \n",
       "26084                                                NaN   \n",
       "26085                                                NaN   \n",
       "26086                                                NaN   \n",
       "\n",
       "0               Why answer: Demonstrate expertise  \\\n",
       "1      It feels good to demonstrate my expertise.   \n",
       "2      It feels good to demonstrate my expertise.   \n",
       "3                                             NaN   \n",
       "4      It feels good to demonstrate my expertise.   \n",
       "5                                             NaN   \n",
       "...                                           ...   \n",
       "26082                                         NaN   \n",
       "26083                                         NaN   \n",
       "26084                                         NaN   \n",
       "26085                                         NaN   \n",
       "26086                                         NaN   \n",
       "\n",
       "0                      Why answer: Self promotion  \\\n",
       "1      Demonstrating my expertise will benefit me   \n",
       "2                                             NaN   \n",
       "3      Demonstrating my expertise will benefit me   \n",
       "4      Demonstrating my expertise will benefit me   \n",
       "5      Demonstrating my expertise will benefit me   \n",
       "...                                           ...   \n",
       "26082                                         NaN   \n",
       "26083                                         NaN   \n",
       "26084                                         NaN   \n",
       "26085                                         NaN   \n",
       "26086                                         NaN   \n",
       "\n",
       "0      Why answer: Sense of responsibility to developers Why answer: No idea  \\\n",
       "1      I feel a sense of responsibility to the develo...                 NaN   \n",
       "2                                                    NaN                 NaN   \n",
       "3                                                    NaN                 NaN   \n",
       "4      I feel a sense of responsibility to the develo...                 NaN   \n",
       "5                                                    NaN                 NaN   \n",
       "...                                                  ...                 ...   \n",
       "26082                                                NaN                 NaN   \n",
       "26083                                                NaN                 NaN   \n",
       "26084                                                NaN                 NaN   \n",
       "26085                                                NaN                 NaN   \n",
       "26086                                                NaN                 NaN   \n",
       "\n",
       "0     Why answer: I don't answer and I don't want to  \\\n",
       "1                                                NaN   \n",
       "2                                                NaN   \n",
       "3                                                NaN   \n",
       "4                                                NaN   \n",
       "5                                                NaN   \n",
       "...                                              ...   \n",
       "26082                                            NaN   \n",
       "26083                                            NaN   \n",
       "26084                                            NaN   \n",
       "26085                                            NaN   \n",
       "26086                                            NaN   \n",
       "\n",
       "0               Why answer: I don't answer but I want to  \n",
       "1                                                    NaN  \n",
       "2                                                    NaN  \n",
       "3                                                    NaN  \n",
       "4                                                    NaN  \n",
       "5      I don't answer much (or at all), but I want to...  \n",
       "...                                                  ...  \n",
       "26082                                                NaN  \n",
       "26083                                                NaN  \n",
       "26084                                                NaN  \n",
       "26085                                                NaN  \n",
       "26086                                                NaN  \n",
       "\n",
       "[26086 rows x 222 columns]"
      ]
     },
     "execution_count": 136,
     "metadata": {},
     "output_type": "execute_result"
    }
   ],
   "source": [
    "df_2015.columns = df_2015.iloc[0]\n",
    "df_2015.drop(0, axis=0)"
   ]
  },
  {
   "cell_type": "code",
   "execution_count": 133,
   "metadata": {},
   "outputs": [
    {
     "data": {
      "text/plain": [
       "Employed full-time        14126\n",
       "I'm a student              3379\n",
       "Freelance / Contractor     1911\n",
       "Employed part-time          901\n",
       "Unemployed                  432\n",
       "Prefer not to disclose      259\n",
       "Other                       242\n",
       "Retired                      54\n",
       "Employment Status             1\n",
       "Name: Employment Status, dtype: int64"
      ]
     },
     "execution_count": 133,
     "metadata": {},
     "output_type": "execute_result"
    }
   ],
   "source": [
    "df_2015[\"Employment Status\"].value_counts()"
   ]
  },
  {
   "cell_type": "code",
   "execution_count": 127,
   "metadata": {},
   "outputs": [
    {
     "data": {
      "text/plain": [
       "Full-stack web developer                                 6765\n",
       "Student                                                  2845\n",
       "Back-end web developer                                   2104\n",
       "Desktop developer                                        1735\n",
       "Front-end web developer                                  1242\n",
       "Mobile developer - Android                                847\n",
       "Mobile developer - iOS                                    634\n",
       "Embedded application developer                            609\n",
       "Enterprise level services developer                       599\n",
       "Developer with a statistics or mathematics background     464\n",
       "Data scientist                                            409\n",
       "Executive (VP of Eng., CTO, CIO, etc.)                    376\n",
       "Mobile developer                                          376\n",
       "System administrator                                      344\n",
       "DevOps                                                    322\n",
       "Business intelligence or data warehousing expert          179\n",
       "Graphics programmer                                       164\n",
       "Quality Assurance                                         164\n",
       "Product manager                                           157\n",
       "Designer                                                  150\n",
       "Machine learning developer                                145\n",
       "Database administrator                                    119\n",
       "Growth hacker                                              59\n",
       "Mobile developer - Windows Phone                           43\n",
       "Occupation                                                  1\n",
       "Name: Occupation, dtype: int64"
      ]
     },
     "execution_count": 127,
     "metadata": {},
     "output_type": "execute_result"
    }
   ],
   "source": [
    "df_2015[\"Occupation\"].value_counts()"
   ]
  },
  {
   "cell_type": "code",
   "execution_count": 123,
   "metadata": {},
   "outputs": [
    {
     "data": {
      "text/html": [
       "<div>\n",
       "<style scoped>\n",
       "    .dataframe tbody tr th:only-of-type {\n",
       "        vertical-align: middle;\n",
       "    }\n",
       "\n",
       "    .dataframe tbody tr th {\n",
       "        vertical-align: top;\n",
       "    }\n",
       "\n",
       "    .dataframe thead th {\n",
       "        text-align: right;\n",
       "    }\n",
       "</style>\n",
       "<table border=\"1\" class=\"dataframe\">\n",
       "  <thead>\n",
       "    <tr style=\"text-align: right;\">\n",
       "      <th></th>\n",
       "      <th>Country</th>\n",
       "      <th>Age</th>\n",
       "      <th>Gender</th>\n",
       "      <th>Tabs or Spaces</th>\n",
       "      <th>Years IT / Programming Experience</th>\n",
       "      <th>Occupation</th>\n",
       "      <th>Desktop Operating System</th>\n",
       "      <th>Desktop Operating System: write-in</th>\n",
       "      <th>Current Lang &amp; Tech: Android</th>\n",
       "      <th>Current Lang &amp; Tech: Arduino</th>\n",
       "      <th>...</th>\n",
       "      <th>Why use Stack Overflow: I don't use Stack Overflow</th>\n",
       "      <th>How often are Stack Overflow's answers helpful</th>\n",
       "      <th>Why answer: Help a programmer in need</th>\n",
       "      <th>Why answer: Help future programmers</th>\n",
       "      <th>Why answer: Demonstrate expertise</th>\n",
       "      <th>Why answer: Self promotion</th>\n",
       "      <th>Why answer: Sense of responsibility to developers</th>\n",
       "      <th>Why answer: No idea</th>\n",
       "      <th>Why answer: I don't answer and I don't want to</th>\n",
       "      <th>Why answer: I don't answer but I want to</th>\n",
       "    </tr>\n",
       "  </thead>\n",
       "  <tbody>\n",
       "    <tr>\n",
       "      <th>1</th>\n",
       "      <td>Croatia</td>\n",
       "      <td>25-29</td>\n",
       "      <td>Male</td>\n",
       "      <td>Tabs</td>\n",
       "      <td>2 - 5 years</td>\n",
       "      <td>Back-end web developer</td>\n",
       "      <td>Ubuntu</td>\n",
       "      <td>NaN</td>\n",
       "      <td>NaN</td>\n",
       "      <td>NaN</td>\n",
       "      <td>...</td>\n",
       "      <td>NaN</td>\n",
       "      <td>Usually</td>\n",
       "      <td>NaN</td>\n",
       "      <td>NaN</td>\n",
       "      <td>It feels good to demonstrate my expertise.</td>\n",
       "      <td>Demonstrating my expertise will benefit me</td>\n",
       "      <td>I feel a sense of responsibility to the develo...</td>\n",
       "      <td>NaN</td>\n",
       "      <td>NaN</td>\n",
       "      <td>NaN</td>\n",
       "    </tr>\n",
       "    <tr>\n",
       "      <th>2</th>\n",
       "      <td>France</td>\n",
       "      <td>20-24</td>\n",
       "      <td>Male</td>\n",
       "      <td>Spaces</td>\n",
       "      <td>1 - 2 years</td>\n",
       "      <td>Back-end web developer</td>\n",
       "      <td>Windows 7</td>\n",
       "      <td>NaN</td>\n",
       "      <td>NaN</td>\n",
       "      <td>NaN</td>\n",
       "      <td>...</td>\n",
       "      <td>NaN</td>\n",
       "      <td>Usually</td>\n",
       "      <td>NaN</td>\n",
       "      <td>My answer will help lots of people who have th...</td>\n",
       "      <td>It feels good to demonstrate my expertise.</td>\n",
       "      <td>NaN</td>\n",
       "      <td>NaN</td>\n",
       "      <td>NaN</td>\n",
       "      <td>NaN</td>\n",
       "      <td>NaN</td>\n",
       "    </tr>\n",
       "    <tr>\n",
       "      <th>3</th>\n",
       "      <td>India</td>\n",
       "      <td>20-24</td>\n",
       "      <td>Male</td>\n",
       "      <td>Tabs</td>\n",
       "      <td>1 - 2 years</td>\n",
       "      <td>Back-end web developer</td>\n",
       "      <td>Windows 7</td>\n",
       "      <td>NaN</td>\n",
       "      <td>NaN</td>\n",
       "      <td>NaN</td>\n",
       "      <td>...</td>\n",
       "      <td>NaN</td>\n",
       "      <td>Rarely</td>\n",
       "      <td>NaN</td>\n",
       "      <td>NaN</td>\n",
       "      <td>NaN</td>\n",
       "      <td>Demonstrating my expertise will benefit me</td>\n",
       "      <td>NaN</td>\n",
       "      <td>NaN</td>\n",
       "      <td>NaN</td>\n",
       "      <td>NaN</td>\n",
       "    </tr>\n",
       "    <tr>\n",
       "      <th>4</th>\n",
       "      <td>Latvia</td>\n",
       "      <td>25-29</td>\n",
       "      <td>Male</td>\n",
       "      <td>It depends</td>\n",
       "      <td>6 - 10 years</td>\n",
       "      <td>Back-end web developer</td>\n",
       "      <td>Ubuntu</td>\n",
       "      <td>NaN</td>\n",
       "      <td>NaN</td>\n",
       "      <td>NaN</td>\n",
       "      <td>...</td>\n",
       "      <td>NaN</td>\n",
       "      <td>Usually</td>\n",
       "      <td>It feels good to help a programmer in need</td>\n",
       "      <td>My answer will help lots of people who have th...</td>\n",
       "      <td>It feels good to demonstrate my expertise.</td>\n",
       "      <td>Demonstrating my expertise will benefit me</td>\n",
       "      <td>I feel a sense of responsibility to the develo...</td>\n",
       "      <td>NaN</td>\n",
       "      <td>NaN</td>\n",
       "      <td>NaN</td>\n",
       "    </tr>\n",
       "    <tr>\n",
       "      <th>5</th>\n",
       "      <td>Norway</td>\n",
       "      <td>30-34</td>\n",
       "      <td>Male</td>\n",
       "      <td>Tabs</td>\n",
       "      <td>2 - 5 years</td>\n",
       "      <td>Back-end web developer</td>\n",
       "      <td>Windows 8</td>\n",
       "      <td>NaN</td>\n",
       "      <td>NaN</td>\n",
       "      <td>NaN</td>\n",
       "      <td>...</td>\n",
       "      <td>NaN</td>\n",
       "      <td>Usually</td>\n",
       "      <td>It feels good to help a programmer in need</td>\n",
       "      <td>NaN</td>\n",
       "      <td>NaN</td>\n",
       "      <td>Demonstrating my expertise will benefit me</td>\n",
       "      <td>NaN</td>\n",
       "      <td>NaN</td>\n",
       "      <td>NaN</td>\n",
       "      <td>I don't answer much (or at all), but I want to...</td>\n",
       "    </tr>\n",
       "    <tr>\n",
       "      <th>...</th>\n",
       "      <td>...</td>\n",
       "      <td>...</td>\n",
       "      <td>...</td>\n",
       "      <td>...</td>\n",
       "      <td>...</td>\n",
       "      <td>...</td>\n",
       "      <td>...</td>\n",
       "      <td>...</td>\n",
       "      <td>...</td>\n",
       "      <td>...</td>\n",
       "      <td>...</td>\n",
       "      <td>...</td>\n",
       "      <td>...</td>\n",
       "      <td>...</td>\n",
       "      <td>...</td>\n",
       "      <td>...</td>\n",
       "      <td>...</td>\n",
       "      <td>...</td>\n",
       "      <td>...</td>\n",
       "      <td>...</td>\n",
       "      <td>...</td>\n",
       "    </tr>\n",
       "    <tr>\n",
       "      <th>26082</th>\n",
       "      <td>Vietnam</td>\n",
       "      <td>20-24</td>\n",
       "      <td>Male</td>\n",
       "      <td>Tabs</td>\n",
       "      <td>1 - 2 years</td>\n",
       "      <td>NaN</td>\n",
       "      <td>NaN</td>\n",
       "      <td>NaN</td>\n",
       "      <td>NaN</td>\n",
       "      <td>NaN</td>\n",
       "      <td>...</td>\n",
       "      <td>NaN</td>\n",
       "      <td>NaN</td>\n",
       "      <td>NaN</td>\n",
       "      <td>NaN</td>\n",
       "      <td>NaN</td>\n",
       "      <td>NaN</td>\n",
       "      <td>NaN</td>\n",
       "      <td>NaN</td>\n",
       "      <td>NaN</td>\n",
       "      <td>NaN</td>\n",
       "    </tr>\n",
       "    <tr>\n",
       "      <th>26083</th>\n",
       "      <td>Vietnam</td>\n",
       "      <td>25-29</td>\n",
       "      <td>Male</td>\n",
       "      <td>Tabs</td>\n",
       "      <td>NaN</td>\n",
       "      <td>NaN</td>\n",
       "      <td>NaN</td>\n",
       "      <td>NaN</td>\n",
       "      <td>NaN</td>\n",
       "      <td>NaN</td>\n",
       "      <td>...</td>\n",
       "      <td>NaN</td>\n",
       "      <td>NaN</td>\n",
       "      <td>NaN</td>\n",
       "      <td>NaN</td>\n",
       "      <td>NaN</td>\n",
       "      <td>NaN</td>\n",
       "      <td>NaN</td>\n",
       "      <td>NaN</td>\n",
       "      <td>NaN</td>\n",
       "      <td>NaN</td>\n",
       "    </tr>\n",
       "    <tr>\n",
       "      <th>26084</th>\n",
       "      <td>Vietnam</td>\n",
       "      <td>25-29</td>\n",
       "      <td>Male</td>\n",
       "      <td>It depends</td>\n",
       "      <td>2 - 5 years</td>\n",
       "      <td>NaN</td>\n",
       "      <td>NaN</td>\n",
       "      <td>NaN</td>\n",
       "      <td>NaN</td>\n",
       "      <td>NaN</td>\n",
       "      <td>...</td>\n",
       "      <td>NaN</td>\n",
       "      <td>NaN</td>\n",
       "      <td>NaN</td>\n",
       "      <td>NaN</td>\n",
       "      <td>NaN</td>\n",
       "      <td>NaN</td>\n",
       "      <td>NaN</td>\n",
       "      <td>NaN</td>\n",
       "      <td>NaN</td>\n",
       "      <td>NaN</td>\n",
       "    </tr>\n",
       "    <tr>\n",
       "      <th>26085</th>\n",
       "      <td>Zimbabwe</td>\n",
       "      <td>NaN</td>\n",
       "      <td>NaN</td>\n",
       "      <td>Huh?</td>\n",
       "      <td>NaN</td>\n",
       "      <td>NaN</td>\n",
       "      <td>NaN</td>\n",
       "      <td>NaN</td>\n",
       "      <td>NaN</td>\n",
       "      <td>NaN</td>\n",
       "      <td>...</td>\n",
       "      <td>NaN</td>\n",
       "      <td>NaN</td>\n",
       "      <td>NaN</td>\n",
       "      <td>NaN</td>\n",
       "      <td>NaN</td>\n",
       "      <td>NaN</td>\n",
       "      <td>NaN</td>\n",
       "      <td>NaN</td>\n",
       "      <td>NaN</td>\n",
       "      <td>NaN</td>\n",
       "    </tr>\n",
       "    <tr>\n",
       "      <th>26086</th>\n",
       "      <td>Zimbabwe</td>\n",
       "      <td>Prefer not to disclose</td>\n",
       "      <td>Prefer not to disclose</td>\n",
       "      <td>Huh?</td>\n",
       "      <td>NaN</td>\n",
       "      <td>NaN</td>\n",
       "      <td>NaN</td>\n",
       "      <td>NaN</td>\n",
       "      <td>NaN</td>\n",
       "      <td>NaN</td>\n",
       "      <td>...</td>\n",
       "      <td>NaN</td>\n",
       "      <td>NaN</td>\n",
       "      <td>NaN</td>\n",
       "      <td>NaN</td>\n",
       "      <td>NaN</td>\n",
       "      <td>NaN</td>\n",
       "      <td>NaN</td>\n",
       "      <td>NaN</td>\n",
       "      <td>NaN</td>\n",
       "      <td>NaN</td>\n",
       "    </tr>\n",
       "  </tbody>\n",
       "</table>\n",
       "<p>26086 rows × 222 columns</p>\n",
       "</div>"
      ],
      "text/plain": [
       "0       Country                     Age                  Gender  \\\n",
       "1       Croatia                   25-29                    Male   \n",
       "2        France                   20-24                    Male   \n",
       "3         India                   20-24                    Male   \n",
       "4        Latvia                   25-29                    Male   \n",
       "5        Norway                   30-34                    Male   \n",
       "...         ...                     ...                     ...   \n",
       "26082   Vietnam                   20-24                    Male   \n",
       "26083   Vietnam                   25-29                    Male   \n",
       "26084   Vietnam                   25-29                    Male   \n",
       "26085  Zimbabwe                     NaN                     NaN   \n",
       "26086  Zimbabwe  Prefer not to disclose  Prefer not to disclose   \n",
       "\n",
       "0     Tabs or Spaces Years IT / Programming Experience  \\\n",
       "1               Tabs                       2 - 5 years   \n",
       "2             Spaces                       1 - 2 years   \n",
       "3               Tabs                       1 - 2 years   \n",
       "4         It depends                      6 - 10 years   \n",
       "5               Tabs                       2 - 5 years   \n",
       "...              ...                               ...   \n",
       "26082           Tabs                       1 - 2 years   \n",
       "26083           Tabs                               NaN   \n",
       "26084     It depends                       2 - 5 years   \n",
       "26085           Huh?                               NaN   \n",
       "26086           Huh?                               NaN   \n",
       "\n",
       "0                  Occupation Desktop Operating System  \\\n",
       "1      Back-end web developer                   Ubuntu   \n",
       "2      Back-end web developer                Windows 7   \n",
       "3      Back-end web developer                Windows 7   \n",
       "4      Back-end web developer                   Ubuntu   \n",
       "5      Back-end web developer                Windows 8   \n",
       "...                       ...                      ...   \n",
       "26082                     NaN                      NaN   \n",
       "26083                     NaN                      NaN   \n",
       "26084                     NaN                      NaN   \n",
       "26085                     NaN                      NaN   \n",
       "26086                     NaN                      NaN   \n",
       "\n",
       "0     Desktop Operating System: write-in Current Lang & Tech: Android  \\\n",
       "1                                    NaN                          NaN   \n",
       "2                                    NaN                          NaN   \n",
       "3                                    NaN                          NaN   \n",
       "4                                    NaN                          NaN   \n",
       "5                                    NaN                          NaN   \n",
       "...                                  ...                          ...   \n",
       "26082                                NaN                          NaN   \n",
       "26083                                NaN                          NaN   \n",
       "26084                                NaN                          NaN   \n",
       "26085                                NaN                          NaN   \n",
       "26086                                NaN                          NaN   \n",
       "\n",
       "0     Current Lang & Tech: Arduino  ...  \\\n",
       "1                              NaN  ...   \n",
       "2                              NaN  ...   \n",
       "3                              NaN  ...   \n",
       "4                              NaN  ...   \n",
       "5                              NaN  ...   \n",
       "...                            ...  ...   \n",
       "26082                          NaN  ...   \n",
       "26083                          NaN  ...   \n",
       "26084                          NaN  ...   \n",
       "26085                          NaN  ...   \n",
       "26086                          NaN  ...   \n",
       "\n",
       "0     Why use Stack Overflow: I don't use Stack Overflow  \\\n",
       "1                                                    NaN   \n",
       "2                                                    NaN   \n",
       "3                                                    NaN   \n",
       "4                                                    NaN   \n",
       "5                                                    NaN   \n",
       "...                                                  ...   \n",
       "26082                                                NaN   \n",
       "26083                                                NaN   \n",
       "26084                                                NaN   \n",
       "26085                                                NaN   \n",
       "26086                                                NaN   \n",
       "\n",
       "0     How often are Stack Overflow's answers helpful  \\\n",
       "1                                            Usually   \n",
       "2                                            Usually   \n",
       "3                                             Rarely   \n",
       "4                                            Usually   \n",
       "5                                            Usually   \n",
       "...                                              ...   \n",
       "26082                                            NaN   \n",
       "26083                                            NaN   \n",
       "26084                                            NaN   \n",
       "26085                                            NaN   \n",
       "26086                                            NaN   \n",
       "\n",
       "0           Why answer: Help a programmer in need  \\\n",
       "1                                             NaN   \n",
       "2                                             NaN   \n",
       "3                                             NaN   \n",
       "4      It feels good to help a programmer in need   \n",
       "5      It feels good to help a programmer in need   \n",
       "...                                           ...   \n",
       "26082                                         NaN   \n",
       "26083                                         NaN   \n",
       "26084                                         NaN   \n",
       "26085                                         NaN   \n",
       "26086                                         NaN   \n",
       "\n",
       "0                    Why answer: Help future programmers  \\\n",
       "1                                                    NaN   \n",
       "2      My answer will help lots of people who have th...   \n",
       "3                                                    NaN   \n",
       "4      My answer will help lots of people who have th...   \n",
       "5                                                    NaN   \n",
       "...                                                  ...   \n",
       "26082                                                NaN   \n",
       "26083                                                NaN   \n",
       "26084                                                NaN   \n",
       "26085                                                NaN   \n",
       "26086                                                NaN   \n",
       "\n",
       "0               Why answer: Demonstrate expertise  \\\n",
       "1      It feels good to demonstrate my expertise.   \n",
       "2      It feels good to demonstrate my expertise.   \n",
       "3                                             NaN   \n",
       "4      It feels good to demonstrate my expertise.   \n",
       "5                                             NaN   \n",
       "...                                           ...   \n",
       "26082                                         NaN   \n",
       "26083                                         NaN   \n",
       "26084                                         NaN   \n",
       "26085                                         NaN   \n",
       "26086                                         NaN   \n",
       "\n",
       "0                      Why answer: Self promotion  \\\n",
       "1      Demonstrating my expertise will benefit me   \n",
       "2                                             NaN   \n",
       "3      Demonstrating my expertise will benefit me   \n",
       "4      Demonstrating my expertise will benefit me   \n",
       "5      Demonstrating my expertise will benefit me   \n",
       "...                                           ...   \n",
       "26082                                         NaN   \n",
       "26083                                         NaN   \n",
       "26084                                         NaN   \n",
       "26085                                         NaN   \n",
       "26086                                         NaN   \n",
       "\n",
       "0      Why answer: Sense of responsibility to developers Why answer: No idea  \\\n",
       "1      I feel a sense of responsibility to the develo...                 NaN   \n",
       "2                                                    NaN                 NaN   \n",
       "3                                                    NaN                 NaN   \n",
       "4      I feel a sense of responsibility to the develo...                 NaN   \n",
       "5                                                    NaN                 NaN   \n",
       "...                                                  ...                 ...   \n",
       "26082                                                NaN                 NaN   \n",
       "26083                                                NaN                 NaN   \n",
       "26084                                                NaN                 NaN   \n",
       "26085                                                NaN                 NaN   \n",
       "26086                                                NaN                 NaN   \n",
       "\n",
       "0     Why answer: I don't answer and I don't want to  \\\n",
       "1                                                NaN   \n",
       "2                                                NaN   \n",
       "3                                                NaN   \n",
       "4                                                NaN   \n",
       "5                                                NaN   \n",
       "...                                              ...   \n",
       "26082                                            NaN   \n",
       "26083                                            NaN   \n",
       "26084                                            NaN   \n",
       "26085                                            NaN   \n",
       "26086                                            NaN   \n",
       "\n",
       "0               Why answer: I don't answer but I want to  \n",
       "1                                                    NaN  \n",
       "2                                                    NaN  \n",
       "3                                                    NaN  \n",
       "4                                                    NaN  \n",
       "5      I don't answer much (or at all), but I want to...  \n",
       "...                                                  ...  \n",
       "26082                                                NaN  \n",
       "26083                                                NaN  \n",
       "26084                                                NaN  \n",
       "26085                                                NaN  \n",
       "26086                                                NaN  \n",
       "\n",
       "[26086 rows x 222 columns]"
      ]
     },
     "execution_count": 123,
     "metadata": {},
     "output_type": "execute_result"
    }
   ],
   "source": [
    "df_2015.drop(0,axis=0)"
   ]
  },
  {
   "cell_type": "code",
   "execution_count": 304,
   "metadata": {},
   "outputs": [
    {
     "data": {
      "text/plain": [
       "'How satisfied are you with your current job? (If you work multiple jobs, answer for the one you spend the most hours on.)'"
      ]
     },
     "execution_count": 304,
     "metadata": {},
     "output_type": "execute_result"
    }
   ],
   "source": [
    "# Question in Survey 2019\n",
    "h.get_desc(\"JobSat\")"
   ]
  },
  {
   "cell_type": "code",
   "execution_count": 305,
   "metadata": {},
   "outputs": [
    {
     "name": "stdout",
     "output_type": "stream",
     "text": [
      "Avg Job Satisfaction:  3.71\n"
     ]
    }
   ],
   "source": [
    "# build jobsatisfaction index (1-5)\n",
    "\n",
    "index = {'Slightly satisfied': 4, \n",
    "         'Slightly dissatisfied': 2,\n",
    "         'Neither satisfied nor dissatisfied': 3,\n",
    "         'Very satisfied': 5,\n",
    "         'Very dissatisfied': 1,\n",
    "         np.nan: np.nan\n",
    "        }\n",
    "\n",
    "df[\"JobSatIndex\"] = df[\"JobSat\"].apply(lambda x: index[x])\n",
    "\n",
    "print(\"Avg Job Satisfaction: \", df.JobSatIndex.mean().round(2))  "
   ]
  },
  {
   "cell_type": "markdown",
   "metadata": {},
   "source": [
    "#### Job Satisfaction Difference between Freelancer and Employed"
   ]
  },
  {
   "cell_type": "code",
   "execution_count": 306,
   "metadata": {},
   "outputs": [
    {
     "data": {
      "text/html": [
       "<div>\n",
       "<style scoped>\n",
       "    .dataframe tbody tr th:only-of-type {\n",
       "        vertical-align: middle;\n",
       "    }\n",
       "\n",
       "    .dataframe tbody tr th {\n",
       "        vertical-align: top;\n",
       "    }\n",
       "\n",
       "    .dataframe thead th {\n",
       "        text-align: right;\n",
       "    }\n",
       "</style>\n",
       "<table border=\"1\" class=\"dataframe\">\n",
       "  <thead>\n",
       "    <tr style=\"text-align: right;\">\n",
       "      <th></th>\n",
       "      <th>Employment</th>\n",
       "      <th>n</th>\n",
       "      <th>Job_Satisfaction</th>\n",
       "    </tr>\n",
       "  </thead>\n",
       "  <tbody>\n",
       "    <tr>\n",
       "      <th>0</th>\n",
       "      <td>Independent contractor, freelancer, or self-em...</td>\n",
       "      <td>8511</td>\n",
       "      <td>3.713764</td>\n",
       "    </tr>\n",
       "  </tbody>\n",
       "</table>\n",
       "</div>"
      ],
      "text/plain": [
       "                                          Employment     n  Job_Satisfaction\n",
       "0  Independent contractor, freelancer, or self-em...  8511          3.713764"
      ]
     },
     "execution_count": 306,
     "metadata": {},
     "output_type": "execute_result"
    }
   ],
   "source": [
    "df.groupby('Employment') \\\n",
    "       .agg(n=('Employment', 'size'), Job_Satisfaction=('JobSatIndex', 'mean')).reset_index()"
   ]
  },
  {
   "cell_type": "markdown",
   "metadata": {},
   "source": [
    "> ❗__Interesting__: no difference between Freelancer and employed"
   ]
  },
  {
   "cell_type": "markdown",
   "metadata": {},
   "source": [
    "#### Job Satisfaction Difference between Data Science Jobs"
   ]
  },
  {
   "cell_type": "code",
   "execution_count": 307,
   "metadata": {},
   "outputs": [
    {
     "data": {
      "text/html": [
       "<div>\n",
       "<style scoped>\n",
       "    .dataframe tbody tr th:only-of-type {\n",
       "        vertical-align: middle;\n",
       "    }\n",
       "\n",
       "    .dataframe tbody tr th {\n",
       "        vertical-align: top;\n",
       "    }\n",
       "\n",
       "    .dataframe thead th {\n",
       "        text-align: right;\n",
       "    }\n",
       "</style>\n",
       "<table border=\"1\" class=\"dataframe\">\n",
       "  <thead>\n",
       "    <tr style=\"text-align: right;\">\n",
       "      <th></th>\n",
       "      <th>TargetGroup</th>\n",
       "      <th>n</th>\n",
       "      <th>Job_Satisfaction</th>\n",
       "    </tr>\n",
       "  </thead>\n",
       "  <tbody>\n",
       "    <tr>\n",
       "      <th>0</th>\n",
       "      <td>Data Scientist</td>\n",
       "      <td>735</td>\n",
       "      <td>3.701724</td>\n",
       "    </tr>\n",
       "    <tr>\n",
       "      <th>1</th>\n",
       "      <td>Something with Data</td>\n",
       "      <td>832</td>\n",
       "      <td>3.755245</td>\n",
       "    </tr>\n",
       "    <tr>\n",
       "      <th>2</th>\n",
       "      <td>Something with Science</td>\n",
       "      <td>284</td>\n",
       "      <td>3.740909</td>\n",
       "    </tr>\n",
       "    <tr>\n",
       "      <th>3</th>\n",
       "      <td>other Job</td>\n",
       "      <td>6660</td>\n",
       "      <td>3.708388</td>\n",
       "    </tr>\n",
       "  </tbody>\n",
       "</table>\n",
       "</div>"
      ],
      "text/plain": [
       "              TargetGroup     n  Job_Satisfaction\n",
       "0          Data Scientist   735          3.701724\n",
       "1     Something with Data   832          3.755245\n",
       "2  Something with Science   284          3.740909\n",
       "3               other Job  6660          3.708388"
      ]
     },
     "execution_count": 307,
     "metadata": {},
     "output_type": "execute_result"
    }
   ],
   "source": [
    "df.groupby('TargetGroup') \\\n",
    "       .agg(n=('TargetGroup', 'size'), Job_Satisfaction=('JobSatIndex', 'mean')).reset_index()"
   ]
  },
  {
   "cell_type": "markdown",
   "metadata": {},
   "source": [
    "> ❗only slight differences, but the direction looks interesting: Scientists are happier"
   ]
  },
  {
   "cell_type": "markdown",
   "metadata": {},
   "source": [
    "<h2 id=\"income\">Income</h2>"
   ]
  },
  {
   "cell_type": "markdown",
   "metadata": {},
   "source": [
    "There are 3 questions to income:"
   ]
  },
  {
   "cell_type": "code",
   "execution_count": 308,
   "metadata": {},
   "outputs": [
    {
     "data": {
      "text/plain": [
       "'What is your current total compensation (salary, bonuses, and perks, before taxes and deductions), in `CurrencySymbol`? Please enter a whole number in the box below, without any punctuation. If you are paid hourly, please estimate an equivalent weekly, monthly, or yearly salary. If you prefer not to answer, please leave the box empty.'"
      ]
     },
     "execution_count": 308,
     "metadata": {},
     "output_type": "execute_result"
    }
   ],
   "source": [
    "h.get_desc(\"CompTotal\")"
   ]
  },
  {
   "cell_type": "code",
   "execution_count": 309,
   "metadata": {},
   "outputs": [
    {
     "data": {
      "text/plain": [
       "'Is that compensation weekly, monthly, or yearly?'"
      ]
     },
     "execution_count": 309,
     "metadata": {},
     "output_type": "execute_result"
    }
   ],
   "source": [
    "h.get_desc(\"CompFreq\")"
   ]
  },
  {
   "cell_type": "code",
   "execution_count": 310,
   "metadata": {},
   "outputs": [
    {
     "data": {
      "text/plain": [
       "'Salary converted to annual USD salaries using the exchange rate on 2019-02-01, assuming 12 working months and 50 working weeks.'"
      ]
     },
     "execution_count": 310,
     "metadata": {},
     "output_type": "execute_result"
    }
   ],
   "source": [
    "h.get_desc(\"ConvertedComp\")"
   ]
  },
  {
   "cell_type": "code",
   "execution_count": 311,
   "metadata": {},
   "outputs": [
    {
     "name": "stdout",
     "output_type": "stream",
     "text": [
      "Avg Salary per year (USA) \n",
      "=============================================== \n",
      "               TargetGroup    n         Salary\n",
      "0          Data Scientist   75  268333.493333\n",
      "1     Something with Data   89  210429.303371\n",
      "2  Something with Science   21  299702.380952\n",
      "3               other Job  518  208688.084942\n",
      "\n",
      "\n",
      "Avg Salary per year (WORLD) \n",
      "=============================================== \n",
      "               TargetGroup     n         Salary\n",
      "0          Data Scientist   364  129263.590659\n",
      "1     Something with Data   455  111990.857143\n",
      "2  Something with Science   127  100847.992126\n",
      "3               other Job  3597  101575.716986\n"
     ]
    }
   ],
   "source": [
    "USA = df[df[\"Country\"]==\"United States\"]\n",
    "world = df.copy()\n",
    "# Build var Salary\n",
    "\n",
    "# 2. delete all cases with no income\n",
    "USA.dropna(subset=['ConvertedComp'], inplace=True)\n",
    "world.dropna(subset=['ConvertedComp'], inplace=True)\n",
    "\n",
    "# For USA\n",
    "print(\"Avg Salary per year (USA) \\n=============================================== \\n\",\n",
    "USA.groupby('TargetGroup') \\\n",
    "       .agg(n=('TargetGroup', 'size'), Salary=('ConvertedComp', 'mean')).reset_index()\n",
    ")\n",
    "print(\"\\n\")\n",
    "# For World\n",
    "print(\"Avg Salary per year (WORLD) \\n=============================================== \\n\",\n",
    "world.groupby('TargetGroup') \\\n",
    "       .agg(n=('TargetGroup', 'size'), Salary=('ConvertedComp', 'mean')).reset_index()\n",
    "     )"
   ]
  },
  {
   "cell_type": "markdown",
   "metadata": {},
   "source": [
    "> ❗Data Scientists make more cash than Scientists or Data Worker"
   ]
  },
  {
   "cell_type": "markdown",
   "metadata": {},
   "source": [
    "<h2 id=\"working_hours\">Working Hours</h2>"
   ]
  },
  {
   "cell_type": "code",
   "execution_count": 312,
   "metadata": {},
   "outputs": [
    {
     "data": {
      "text/plain": [
       "'On average, how many hours per week do you work?'"
      ]
     },
     "execution_count": 312,
     "metadata": {},
     "output_type": "execute_result"
    }
   ],
   "source": [
    "h.get_desc(\"WorkWeekHrs\")"
   ]
  },
  {
   "cell_type": "code",
   "execution_count": 313,
   "metadata": {},
   "outputs": [
    {
     "data": {
      "text/plain": [
       "<matplotlib.axes._subplots.AxesSubplot at 0x14eea1d90>"
      ]
     },
     "execution_count": 313,
     "metadata": {},
     "output_type": "execute_result"
    },
    {
     "data": {
      "image/png": "[encoded data removed]",
      "text/plain": [
       "<Figure size 432x288 with 1 Axes>"
      ]
     },
     "metadata": {
      "needs_background": "light"
     },
     "output_type": "display_data"
    }
   ],
   "source": [
    "sns.boxplot(y=\"WorkWeekHrs\", x=\"TargetGroup\", data=df)"
   ]
  },
  {
   "cell_type": "markdown",
   "metadata": {},
   "source": [
    ">❗Outliers! Lets say, everything more than 80h/week is unrealistic"
   ]
  },
  {
   "cell_type": "code",
   "execution_count": 314,
   "metadata": {},
   "outputs": [],
   "source": [
    "# set maximum working hour per week\n",
    "OUTLIER_SIZE=100"
   ]
  },
  {
   "cell_type": "code",
   "execution_count": 315,
   "metadata": {},
   "outputs": [
    {
     "name": "stdout",
     "output_type": "stream",
     "text": [
      "Avg Working Hours per week (Freelancer)\n",
      "=========================================== \n",
      "               TargetGroup     n      hours\n",
      "0          Data Scientist   472  40.937500\n",
      "1     Something with Data   583  41.262864\n",
      "2  Something with Science   172  38.793605\n",
      "3               other Job  4371  39.099801\n"
     ]
    }
   ],
   "source": [
    "#TODO -> NaN in Working Hours <- Sandbox\n",
    "print(\"Avg Working Hours per week (Freelancer)\\n=========================================== \\n\",\n",
    "df[(df.WorkWeekHrs<=OUTLIER_SIZE) & \n",
    "   (df.Employment==\"Independent contractor, freelancer, or self-employed\")].\n",
    "      groupby('TargetGroup')\n",
    "      .agg(n=('TargetGroup', 'size'), hours=('WorkWeekHrs', 'mean')).reset_index()\n",
    ")"
   ]
  },
  {
   "cell_type": "code",
   "execution_count": 316,
   "metadata": {},
   "outputs": [
    {
     "name": "stdout",
     "output_type": "stream",
     "text": [
      "Avg Working Hours per week (Employed full-time)\n",
      "=========================================== \n",
      " Empty DataFrame\n",
      "Columns: [TargetGroup, n, hours]\n",
      "Index: []\n"
     ]
    }
   ],
   "source": [
    "print(\"Avg Working Hours per week (Employed full-time)\\n=========================================== \\n\",\n",
    "df[(df.WorkWeekHrs<=OUTLIER_SIZE) & \n",
    "   (df.Employment==\"Employed full-time\")].\n",
    "      groupby('TargetGroup')\n",
    "      .agg(n=('TargetGroup', 'size'), hours=('WorkWeekHrs', 'mean')).reset_index()\n",
    ")"
   ]
  },
  {
   "cell_type": "code",
   "execution_count": 317,
   "metadata": {},
   "outputs": [
    {
     "data": {
      "text/plain": [
       "<matplotlib.axes._subplots.AxesSubplot at 0x153016a50>"
      ]
     },
     "execution_count": 317,
     "metadata": {},
     "output_type": "execute_result"
    },
    {
     "data": {
      "image/png": "[encoded data removed]",
      "text/plain": [
       "<Figure size 864x432 with 1 Axes>"
      ]
     },
     "metadata": {
      "needs_background": "light"
     },
     "output_type": "display_data"
    }
   ],
   "source": [
    "plt.figure(figsize=(12,6))\n",
    "sns.violinplot(y=\"WorkWeekHrs\", x=\"TargetGroup\", hue=\"Employment\", data=df[df.WorkWeekHrs<OUTLIER_SIZE])"
   ]
  },
  {
   "cell_type": "markdown",
   "metadata": {},
   "source": [
    "🤓 The Median is all the same, because the data range is between 0 and 100 hours."
   ]
  },
  {
   "cell_type": "markdown",
   "metadata": {},
   "source": [
    "<h2 id=\"working_style\">Working Style</h2>"
   ]
  },
  {
   "cell_type": "markdown",
   "metadata": {},
   "source": [
    "### Work Structure"
   ]
  },
  {
   "cell_type": "code",
   "execution_count": 318,
   "metadata": {},
   "outputs": [
    {
     "data": {
      "text/plain": [
       "'How structured or planned is your work?'"
      ]
     },
     "execution_count": 318,
     "metadata": {},
     "output_type": "execute_result"
    }
   ],
   "source": [
    "# Question in Questionaire\n",
    "h.get_desc(\"WorkPlan\")"
   ]
  },
  {
   "cell_type": "code",
   "execution_count": 319,
   "metadata": {},
   "outputs": [
    {
     "data": {
      "text/plain": [
       "[nan,\n",
       " \"There's no schedule or spec; I work on what seems most important or urgent\",\n",
       " 'There is a schedule and/or spec (made by me or by a colleague), and I follow it very closely',\n",
       " 'There is a schedule and/or spec (made by me or by a colleague), and my work somewhat aligns']"
      ]
     },
     "execution_count": 319,
     "metadata": {},
     "output_type": "execute_result"
    }
   ],
   "source": [
    "# Answer Categories in Questionaire\n",
    "h.get_cat(\"WorkPlan\")"
   ]
  },
  {
   "cell_type": "code",
   "execution_count": 320,
   "metadata": {},
   "outputs": [
    {
     "data": {
      "text/plain": [
       "<matplotlib.legend.Legend at 0x152aa5ad0>"
      ]
     },
     "execution_count": 320,
     "metadata": {},
     "output_type": "execute_result"
    },
    {
     "data": {
      "image/png": "[encoded data removed]",
      "text/plain": [
       "<Figure size 1296x288 with 4 Axes>"
      ]
     },
     "metadata": {},
     "output_type": "display_data"
    }
   ],
   "source": [
    "# Piecharts abour Work Structure (Freelancer)\n",
    "\n",
    "fig, axes = plt.subplots(1, 4, figsize=(18, 4))\n",
    "\n",
    "#labels = ['I follow a schedule closely', 'My work somewhat aligns to schedule', 'I work on what seems most important/urgent']\n",
    "labels = list(df.groupby(\"WorkPlan\").count()[\"Respondent\"].index)\n",
    "\n",
    "# Piechart for Datascience Freelancer\n",
    "datascientists = df[df[\"TargetGroup\"]==\"Data Scientist\"].groupby(\"WorkPlan\").count()[\"Respondent\"]\n",
    "axes[0].pie(datascientists, startangle=90, autopct='%1.1f%%')\n",
    "axes[0].set_title(\"Data Scientists \\n (n={})\".format(datascientists.sum()))\n",
    "\n",
    "# Piechart for Data Freelancer\n",
    "dataists = df[df[\"TargetGroup\"]==\"Something with Data\"].groupby(\"WorkPlan\").count()[\"Respondent\"]\n",
    "axes[1].pie(dataists, startangle=90, autopct='%1.1f%%' )\n",
    "axes[1].set_title(\"Dataists \\n (n={})\".format(dataists.sum()))\n",
    "\n",
    "# Piechart for Science Freelancer\n",
    "scientists = df[df[\"TargetGroup\"]==\"Something with Science\"].groupby(\"WorkPlan\").count()[\"Respondent\"]\n",
    "axes[2].pie(scientists, startangle=90, autopct='%1.1f%%' )\n",
    "axes[2].set_title(\"Scientists \\n (n={})\".format(scientists.sum()))\n",
    "\n",
    "# Piechart for All Freelancer\n",
    "others = df.groupby(\"WorkPlan\").count()[\"Respondent\"]\n",
    "axes[3].pie(others, startangle=90, autopct='%1.1f%%')\n",
    "axes[3].set_title(\"All Freelancer \\n (n={})\".format(others.sum()))\n",
    "\n",
    "fig.legend(labels=labels, loc='lower center')"
   ]
  },
  {
   "cell_type": "markdown",
   "metadata": {},
   "source": [
    "Not so many differences between Freelancer 🤔. At least we can say that Scientists are _more free_ with their work schedule.\n",
    "As a comparison, here are the results for Employers:"
   ]
  },
  {
   "cell_type": "code",
   "execution_count": 324,
   "metadata": {},
   "outputs": [
    {
     "data": {
      "image/png": "[encoded data removed]",
      "text/plain": [
       "<Figure size 432x288 with 1 Axes>"
      ]
     },
     "metadata": {},
     "output_type": "display_data"
    }
   ],
   "source": [
    "# Piechart abour Work Structure (Employers)\n",
    "\n",
    "employers = df_employed.groupby(\"WorkPlan\").count()[\"Respondent\"] \n",
    "plt.pie(employers, startangle=90, autopct='%1.1f%%')\n",
    "plt.title(\"Employers\\n(n={})\".format(employers.sum()))\n",
    "plt.show()"
   ]
  },
  {
   "cell_type": "markdown",
   "metadata": {},
   "source": [
    "Okay, that makes sense. Employees must follow more often a stricter work schedule than Freelancer."
   ]
  },
  {
   "cell_type": "markdown",
   "metadata": {},
   "source": [
    "<h2 id=\"coding_languages\">Coding Languages</h2>"
   ]
  },
  {
   "cell_type": "code",
   "execution_count": 138,
   "metadata": {},
   "outputs": [],
   "source": [
    "# Todo: heatmap target group vs. coding languages\n",
    "\n",
    "# Pivot Table (rows=target group, col=coding languages, values=how many code in this language)"
   ]
  },
  {
   "cell_type": "code",
   "execution_count": 139,
   "metadata": {},
   "outputs": [
    {
     "data": {
      "text/html": [
       "<div>\n",
       "<style scoped>\n",
       "    .dataframe tbody tr th:only-of-type {\n",
       "        vertical-align: middle;\n",
       "    }\n",
       "\n",
       "    .dataframe tbody tr th {\n",
       "        vertical-align: top;\n",
       "    }\n",
       "\n",
       "    .dataframe thead th {\n",
       "        text-align: right;\n",
       "    }\n",
       "</style>\n",
       "<table border=\"1\" class=\"dataframe\">\n",
       "  <thead>\n",
       "    <tr style=\"text-align: right;\">\n",
       "      <th></th>\n",
       "      <th>Column</th>\n",
       "      <th>QuestionText</th>\n",
       "    </tr>\n",
       "  </thead>\n",
       "  <tbody>\n",
       "    <tr>\n",
       "      <th>43</th>\n",
       "      <td>LanguageWorkedWith</td>\n",
       "      <td>Which of the following programming, scripting,...</td>\n",
       "    </tr>\n",
       "    <tr>\n",
       "      <th>44</th>\n",
       "      <td>LanguageDesireNextYear</td>\n",
       "      <td>Which of the following programming, scripting,...</td>\n",
       "    </tr>\n",
       "    <tr>\n",
       "      <th>45</th>\n",
       "      <td>DatabaseWorkedWith</td>\n",
       "      <td>Which of the following database environments h...</td>\n",
       "    </tr>\n",
       "    <tr>\n",
       "      <th>46</th>\n",
       "      <td>DatabaseDesireNextYear</td>\n",
       "      <td>Which of the following database environments h...</td>\n",
       "    </tr>\n",
       "    <tr>\n",
       "      <th>47</th>\n",
       "      <td>PlatformWorkedWith</td>\n",
       "      <td>Which of the following platforms have you done...</td>\n",
       "    </tr>\n",
       "    <tr>\n",
       "      <th>48</th>\n",
       "      <td>PlatformDesireNextYear</td>\n",
       "      <td>Which of the following platforms have you done...</td>\n",
       "    </tr>\n",
       "    <tr>\n",
       "      <th>49</th>\n",
       "      <td>WebFrameWorkedWith</td>\n",
       "      <td>Which of the following web frameworks have you...</td>\n",
       "    </tr>\n",
       "    <tr>\n",
       "      <th>50</th>\n",
       "      <td>WebFrameDesireNextYear</td>\n",
       "      <td>Which of the following web frameworks have you...</td>\n",
       "    </tr>\n",
       "    <tr>\n",
       "      <th>51</th>\n",
       "      <td>MiscTechWorkedWith</td>\n",
       "      <td>Which of the following other frameworks, libra...</td>\n",
       "    </tr>\n",
       "  </tbody>\n",
       "</table>\n",
       "</div>"
      ],
      "text/plain": [
       "                    Column                                       QuestionText\n",
       "43      LanguageWorkedWith  Which of the following programming, scripting,...\n",
       "44  LanguageDesireNextYear  Which of the following programming, scripting,...\n",
       "45      DatabaseWorkedWith  Which of the following database environments h...\n",
       "46  DatabaseDesireNextYear  Which of the following database environments h...\n",
       "47      PlatformWorkedWith  Which of the following platforms have you done...\n",
       "48  PlatformDesireNextYear  Which of the following platforms have you done...\n",
       "49      WebFrameWorkedWith  Which of the following web frameworks have you...\n",
       "50  WebFrameDesireNextYear  Which of the following web frameworks have you...\n",
       "51      MiscTechWorkedWith  Which of the following other frameworks, libra..."
      ]
     },
     "execution_count": 139,
     "metadata": {},
     "output_type": "execute_result"
    }
   ],
   "source": [
    "schema.loc[43:51]"
   ]
  },
  {
   "cell_type": "code",
   "execution_count": 140,
   "metadata": {},
   "outputs": [
    {
     "data": {
      "text/plain": [
       "'Which of the following platforms have you done extensive development work for over the past year?   (If you both developed for the platform and want to continue to do so, please check both boxes in that row.)'"
      ]
     },
     "execution_count": 140,
     "metadata": {},
     "output_type": "execute_result"
    }
   ],
   "source": [
    "h.get_desc(\"PlatformWorkedWith\")"
   ]
  },
  {
   "cell_type": "code",
   "execution_count": 141,
   "metadata": {},
   "outputs": [
    {
     "data": {
      "text/plain": [
       "[\"There's no schedule or spec; I work on what seems most important or urgent\",\n",
       " 'There is a schedule and/or spec (made by me or by a colleague), and I follow it very closely',\n",
       " 'There is a schedule and/or spec (made by me or by a colleague), and my work somewhat aligns',\n",
       " nan]"
      ]
     },
     "execution_count": 141,
     "metadata": {},
     "output_type": "execute_result"
    }
   ],
   "source": [
    "list(df.WorkPlan.unique())"
   ]
  },
  {
   "cell_type": "markdown",
   "metadata": {},
   "source": [
    "### Years Coding Professionally\n",
    "Todo: bar graph (like in survey summary)"
   ]
  },
  {
   "cell_type": "code",
   "execution_count": 143,
   "metadata": {},
   "outputs": [],
   "source": [
    "# Todo: create variables for every language as dummy\n",
    "# balkendiagram (geordnet): Python: 80%, R: 75%, etc.\n",
    "# h.get_cat(\"PlatformWorkedWith\")\n",
    "#list(df.PlatformWorkedWith.unique())"
   ]
  },
  {
   "cell_type": "code",
   "execution_count": 403,
   "metadata": {},
   "outputs": [],
   "source": [
    "# Save cleaned Dataframe\n",
    "df.to_pickle(\"data/df_cleaned.pkl\")"
   ]
  },
  {
   "cell_type": "code",
   "execution_count": null,
   "metadata": {},
   "outputs": [],
   "source": []
  }
 ],
 "metadata": {
  "kernelspec": {
   "display_name": "Python 3",
   "language": "python",
   "name": "python3"
  },
  "language_info": {
   "codemirror_mode": {
    "name": "ipython",
    "version": 3
   },
   "file_extension": ".py",
   "mimetype": "text/x-python",
   "name": "python",
   "nbconvert_exporter": "python",
   "pygments_lexer": "ipython3",
   "version": "3.7.4"
  }
 },
 "nbformat": 4,
 "nbformat_minor": 4
}
