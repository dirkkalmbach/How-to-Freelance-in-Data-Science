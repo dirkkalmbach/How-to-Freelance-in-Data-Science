{
 "cells": [
  {
   "cell_type": "markdown",
   "metadata": {},
   "source": [
    "<img src=\"image/penguin-161418_1280.png\" width=\"100\" align=\"center\">\n",
    "\n",
    "<h1><center>How to become a Data Science Freelancer?</center></h1>\n",
    "\n",
    "<h4>About this Notebook</h4>\n",
    "This Data Science Report follows the CRISP-DM Process (Cross Industry Process for Data Mining):  \n",
    "\n",
    "> 1. Business Understanding -> 2. Data Understanding -> 3. Data Preperation -> 4. Data Modeling -> 5. Evaluation of the Results -> 6. Deployment. \n",
    "\n",
    "This report consists of three parts:\n",
    "\n",
    "1. `Data Analysis.ipynb` (this Notebook) containing the first four steps of the CRISP-DM Process   \n",
    "2. `Results.ipynb`: the 5th step of the CRISP-DM Process    \n",
    "3. `Medium Blog Post`: the 6th step of the CRISP-DM Process   \n",
    "\n",
    "In this notebook, I do the Data Cleaning & Preprocessing 👉🏼 often called as the _hard & dirty work_ in Data Science 🏋🏻‍♂️!"
   ]
  },
  {
   "cell_type": "markdown",
   "metadata": {},
   "source": [
    "<h1>Table of contents</h1>\n",
    "\n",
    "<div  style=\"margin-top: 20px\">\n",
    "    <ol>\n",
    "        <li><a href=\"#problem_understanding\">Why this Analysis?</a></li>\n",
    "        <ol>\n",
    "            <li><a href=\"#motivation\">Motivation</a></li>\n",
    "            <li><a href=\"#research_questions\">Research Questions in</a></li>        \n",
    "        </ol>   \n",
    "        <li><a href=\"#understanding-data\">Understanding the Data</a></li>\n",
    "        <ol>\n",
    "            <li><a href=\"#reading_data\">Getting the Data</a></li>          \n",
    "        </ol>       \n",
    "        <li><a href=\"#prepare_data\">Data Preperation</a></li>\n",
    "        <ol>\n",
    "            <li><a href=\"#reading_data\">Extracting Target Group(s)</a></li>\n",
    "            <li><a href=\"#research_questions\">Research Questions</a></li>\n",
    "        </ol>\n",
    "        <li><a href=\"#modelling_data\">Data Modelling</a></li>\n",
    "        <ol>\n",
    "            <li><a href=\"#job_satisfaction\">Job Satisfaction</a></li>\n",
    "            <li><a href=\"#income\">Income</a></li>\n",
    "            <li><a href=\"#Working Hours\">Working Hours</a></li>\n",
    "            <li><a href=\"#working_style\">Working Style</a></li>\n",
    "            <li><a href=\"#coding_languages\">Coding Languages</a></li>\n",
    "        </ol>    \n",
    "    </ol>\n",
    "</div>\n",
    "<br>\n",
    "<hr>"
   ]
  },
  {
   "cell_type": "markdown",
   "metadata": {},
   "source": [
    "### Importing Needed packages"
   ]
  },
  {
   "cell_type": "code",
   "execution_count": 291,
   "metadata": {},
   "outputs": [],
   "source": [
    "import numpy as np\n",
    "import pandas as pd\n",
    "import matplotlib.pyplot as plt\n",
    "import seaborn as sns\n",
    "\n",
    "import imp # for reloading modules\n",
    "\n",
    "import helper as h\n",
    "\n",
    "# surpress Jupyter Notebook warnings\n",
    "import warnings\n",
    "warnings.filterwarnings('ignore')\n",
    "\n",
    "%matplotlib inline"
   ]
  },
  {
   "cell_type": "code",
   "execution_count": 292,
   "metadata": {},
   "outputs": [
    {
     "data": {
      "text/plain": [
       "<module 'helper' from '/Users/dirkkalmbach/Library/Mobile Documents/com~apple~CloudDocs/Projekte/DSND/blog-project/helper.py'>"
      ]
     },
     "execution_count": 292,
     "metadata": {},
     "output_type": "execute_result"
    }
   ],
   "source": [
    "imp.reload(h)"
   ]
  },
  {
   "cell_type": "markdown",
   "metadata": {},
   "source": [
    "<h1 id=\"problem_understanding\">Why this Analysis?</h1>\n",
    "\n",
    "<h2 id=\"movivation\">Motivation</h2>\n",
    "\n",
    "I'm a student in the [Udacity Data Science Nanodegree](https://www.udacity.com/course/data-scientist-nanodegree--nd025) Program. This Jupyter Notebook is the analytic part of my first project in this Nanodegree which requires me to conduct a Data Science Blog.   \n",
    "As I was always interested in Freelancing, my leading question for this analysis is: _how can I become a Data Science Freelancer?_\n",
    "In particular, I answer these questions:\n",
    "\n",
    "<h2 id=\"research_questions\">Research Questions (... and of personal interest)</h2>\n",
    "\n",
    "1. Are independent Data Scientists more happy with their Job than employed Data Scientists?\n",
    "2. Do indpeendent Data Scientists earn more than employed Data Scientists?\n",
    "3. What Coding Languages use Data Scientists? Is here any development over time?\n",
    "...\n",
    "4. What makes Developer in general happier? (also DevType as Dummy)\n",
    "5. What skills do Data Science Freelancer have?\n",
    "\n",
    "<h1 id=\"data_understanding\">Data Understanding</h1>\n",
    "\n",
    "## About the Dataset\n",
    "My analysis are based on the [Stack Overflow’s annual Developer Survey](https://insights.stackoverflow.com/survey).\n",
    "\n",
    "## Definition of Target Group(s)\n",
    "The aim of this Report is to find out how Data Scientists can work independently, i.e. as Freelancer, independent contractor, or 1-person-company.\n",
    "I will use the following abbreviations:\n",
    "> - `Pure Data Scientists` (PDS): Data Scientists, who consider himself/herself as **only** _Data Scientists / Machine Learning Specialists_\n",
    "> - `Data Scientist` (DS): Respndents who consider him/herself as *Data Scientist*, but **not only**. \n",
    "> - `Data Jobs` (DJ): \n",
    "_Data Scientists_ 👆🏻, and/or _Data/Business Anaylsts_ and/or _Data Engineers_, i.e.: Respondents who did not mark any other \"\n",
    "\n"
   ]
  },
  {
   "cell_type": "markdown",
   "metadata": {},
   "source": [
    "<h1 id=\"understanding_data\">Understanding the Data</h2>"
   ]
  },
  {
   "cell_type": "markdown",
   "metadata": {},
   "source": [
    "<h2 id=\"reading_data\">Getting the Data</h2>"
   ]
  },
  {
   "cell_type": "code",
   "execution_count": 293,
   "metadata": {},
   "outputs": [
    {
     "name": "stdout",
     "output_type": "stream",
     "text": [
      "Dataframe sucessfully loaded.\n",
      "Rows: 88883 \t Variables: 85 \t \t Size: n/a kb\n"
     ]
    }
   ],
   "source": [
    "# Load survey 2019 dataset \n",
    "df = h.load_csv('data/raw data/developer_survey_2019/survey_results_public.csv.zip')\n",
    "print(\"Dataframe sucessfully loaded.\")\n",
    "\n",
    "# Load data description\n",
    "schema = h.load_csv(\"data/raw data/developer_survey_2019/survey_results_schema.csv\")\n",
    "\n",
    "h.df_info(df)"
   ]
  },
  {
   "cell_type": "markdown",
   "metadata": {},
   "source": [
    "<h2 id=\"target_groups\">Extracting Target Group(s)</h2>"
   ]
  },
  {
   "cell_type": "code",
   "execution_count": 294,
   "metadata": {},
   "outputs": [
    {
     "data": {
      "text/plain": [
       "'Which of the following best describes your current employment status?'"
      ]
     },
     "execution_count": 294,
     "metadata": {},
     "output_type": "execute_result"
    }
   ],
   "source": [
    "h.get_desc(\"Employment\")"
   ]
  },
  {
   "cell_type": "code",
   "execution_count": 295,
   "metadata": {},
   "outputs": [
    {
     "data": {
      "text/plain": [
       "['Not employed, and not looking for work',\n",
       " 'Not employed, but looking for work',\n",
       " 'Employed full-time',\n",
       " 'Independent contractor, freelancer, or self-employed',\n",
       " nan,\n",
       " 'Employed part-time',\n",
       " 'Retired']"
      ]
     },
     "execution_count": 295,
     "metadata": {},
     "output_type": "execute_result"
    }
   ],
   "source": [
    "h.get_cat(\"Employment\")"
   ]
  },
  {
   "cell_type": "code",
   "execution_count": 296,
   "metadata": {},
   "outputs": [
    {
     "name": "stdout",
     "output_type": "stream",
     "text": [
      "Rows: 72951 \t Variables: 85 \t \t Size: n/a kb\n"
     ]
    }
   ],
   "source": [
    "# Im only interested in full working people -> no parttime, students, etc.\n",
    "df = df[(df[\"Employment\"]=='Employed full-time') | (df[\"Employment\"]=='Independent contractor, freelancer, or self-employed')]\n",
    "h.df_info(df)"
   ]
  },
  {
   "cell_type": "code",
   "execution_count": 297,
   "metadata": {},
   "outputs": [
    {
     "data": {
      "text/plain": [
       "(4233, 85)"
      ]
     },
     "execution_count": 297,
     "metadata": {},
     "output_type": "execute_result"
    }
   ],
   "source": [
    "# TODO: überarbeiten\n",
    "\n",
    "# Freelancing is asked 2x -> I wonder if there are some mismatches\n",
    "df[ (df[\"Employment\"]=='Independent contractor, freelancer, or self-employed') & (\n",
    "     df[\"OrgSize\"]== \"Just me - I am a freelancer, sole proprietor, etc.\")\n",
    "  ].shape\n",
    "\n",
    "df[df[\"Employment\"]=='Independent contractor, freelancer, or self-employed'].shape\n",
    "df[df[\"OrgSize\"]== \"Just me - I am a freelancer, sole proprietor, etc.\"].shape"
   ]
  },
  {
   "cell_type": "markdown",
   "metadata": {},
   "source": [
    "#### How many \"Pure\" Data Scientists are in the dataset?"
   ]
  },
  {
   "cell_type": "code",
   "execution_count": 298,
   "metadata": {},
   "outputs": [
    {
     "name": "stdout",
     "output_type": "stream",
     "text": [
      "Rows: 494 \t Variables: 85 \t \t Size: n/a kb\n"
     ]
    }
   ],
   "source": [
    "PDS = df[df[\"DevType\"]==\"Data scientist or machine learning specialist\"]\n",
    "h.df_info(PDS)"
   ]
  },
  {
   "cell_type": "markdown",
   "metadata": {},
   "source": [
    "_...and how many among them are Freelancer?_"
   ]
  },
  {
   "cell_type": "code",
   "execution_count": 299,
   "metadata": {},
   "outputs": [
    {
     "name": "stdout",
     "output_type": "stream",
     "text": [
      "Rows: 25 \t Variables: 85 \t \t Size: n/a kb\n"
     ]
    }
   ],
   "source": [
    "# How many Freelance Pure Data Scientists?\n",
    "h.df_info(\n",
    "    PDS[PDS[\"Employment\"]==\"Independent contractor, freelancer, or self-employed\"]\n",
    ")"
   ]
  },
  {
   "cell_type": "markdown",
   "metadata": {},
   "source": [
    "Wow! 😱 Only 25 Cases! Of course, this is not enough for any valuable insights 😫"
   ]
  },
  {
   "cell_type": "markdown",
   "metadata": {},
   "source": [
    "#### 👉🏻 Set Filter for Freelancer"
   ]
  },
  {
   "cell_type": "code",
   "execution_count": 300,
   "metadata": {},
   "outputs": [
    {
     "name": "stdout",
     "output_type": "stream",
     "text": [
      "N=8511 Freelancers remain in the Dataset\n"
     ]
    }
   ],
   "source": [
    "# Filter for Freelancer\n",
    "df = df[df[\"Employment\"]==\"Independent contractor, freelancer, or self-employed\"]\n",
    "print(\"N={} Freelancers remain in the Dataset\".format(df.shape[0]))"
   ]
  },
  {
   "cell_type": "markdown",
   "metadata": {},
   "source": [
    "#### Group Data related Jobs"
   ]
  },
  {
   "cell_type": "code",
   "execution_count": 301,
   "metadata": {},
   "outputs": [
    {
     "name": "stdout",
     "output_type": "stream",
     "text": [
      "Data Scientist (n): 735 (NaN: 7776)\n",
      "Something with Data: 1637 (NaN: 6874)\n",
      "Something with Science (n): 466 (NaN: 8045)\n"
     ]
    }
   ],
   "source": [
    "#TODO: Refactor with this\n",
    "    #df.loc[df['column name'] condition, 'new column name'] = 'value if condition is met'\n",
    "\n",
    "DJ=[\"Data scientist or machine learning specialist\", \"Data or business analyst\", \"Engineer, data\"]\n",
    "RS=[\"Academic Research\",\"Scientist\"]\n",
    "DS=[\"Data scientist or machine learning specialist\"]\n",
    "\n",
    "def t(col, jobs, cat):\n",
    "    found=False\n",
    "    for job in jobs:\n",
    "        if job in col:\n",
    "            found=True\n",
    "    if found:\n",
    "        return cat\n",
    "    else:\n",
    "        return np.nan\n",
    "            \n",
    "            \n",
    "# Science Jobs\n",
    "df[\"Job_RS\"]=df[\"DevType\"].apply(lambda x: t(str(x),RS,\"Something with Science\"))\n",
    "\n",
    "# Data Jobs\n",
    "df[\"Job_DJ\"]=df[\"DevType\"].apply(lambda x: t(str(x),DJ,\"Something with Data\"))\n",
    "\n",
    "# Data Scientists\n",
    "df[\"Job_DS\"]=df[\"DevType\"].apply(lambda x: t(str(x),DS,\"Data Scientist\"))\n",
    "\n",
    "# Other Jobs\n",
    "df[\"Job_DS\"]=df[\"DevType\"].apply(lambda x: t(str(x),DS,\"Data Scientist\"))\n",
    "\n",
    "# Print Results\n",
    "print(\"Data Scientist (n): {} (NaN: {})\".format( df.Job_DS.count(), df.Job_DS.isna().sum()) )\n",
    "print(\"Something with Data: {} (NaN: {})\".format( df.Job_DJ.count(),  df.Job_DJ.isna().sum()) )\n",
    "print(\"Something with Science (n): {} (NaN: {})\".format( df.Job_RS.count(), df.Job_RS.isna().sum()) ) "
   ]
  },
  {
   "cell_type": "markdown",
   "metadata": {},
   "source": [
    "> 🤓 The 3 new build variables are not exclusive, i.e.: somebody who marked herself as Data Scientist, Business Analyst, and Scientist would be in all three groups!"
   ]
  },
  {
   "cell_type": "markdown",
   "metadata": {},
   "source": [
    "Let's put this all in one variable TargetGroups with these categories:\n",
    "- PDS\n",
    "- DS\n",
    "- DJ"
   ]
  },
  {
   "cell_type": "code",
   "execution_count": 302,
   "metadata": {},
   "outputs": [],
   "source": [
    "# create new var 'TargetGroup'\n",
    "df.loc[df['Job_DJ'] == \"Something with Data\", 'TargetGroup'] = 'Something with Data'\n",
    "df.loc[df['Job_RS'] == \"Something with Science\", 'TargetGroup'] = 'Something with Science'\n",
    "df.loc[df['Job_DS'] == \"Data Scientist\", 'TargetGroup'] = 'Data Scientist'\n",
    "df[\"TargetGroup\"].fillna(value=\"other Job\", inplace=True)"
   ]
  },
  {
   "cell_type": "code",
   "execution_count": 303,
   "metadata": {},
   "outputs": [
    {
     "data": {
      "text/plain": [
       "<matplotlib.axes._subplots.AxesSubplot at 0x1463a2d50>"
      ]
     },
     "execution_count": 303,
     "metadata": {},
     "output_type": "execute_result"
    },
    {
     "data": {
      "image/png": "[encoded data removed]",
      "text/plain": [
       "<Figure size 432x288 with 1 Axes>"
      ]
     },
     "metadata": {
      "needs_background": "light"
     },
     "output_type": "display_data"
    }
   ],
   "source": [
    "df.groupby(\"TargetGroup\").count().Respondent.plot.bar()"
   ]
  },
  {
   "cell_type": "code",
   "execution_count": null,
   "metadata": {},
   "outputs": [],
   "source": []
  },
  {
   "cell_type": "markdown",
   "metadata": {},
   "source": [
    "<h2 id=\"job_satisfaction\">Job Satisfaction</h2>"
   ]
  },
  {
   "cell_type": "markdown",
   "metadata": {},
   "source": [
    "> 🤔 _How happy are Freelancer, and Data Scientists with their job?_"
   ]
  },
  {
   "cell_type": "code",
   "execution_count": 304,
   "metadata": {},
   "outputs": [
    {
     "data": {
      "text/plain": [
       "'How satisfied are you with your current job? (If you work multiple jobs, answer for the one you spend the most hours on.)'"
      ]
     },
     "execution_count": 304,
     "metadata": {},
     "output_type": "execute_result"
    }
   ],
   "source": [
    "# Question in Survey 2019\n",
    "h.get_desc(\"JobSat\")"
   ]
  },
  {
   "cell_type": "code",
   "execution_count": 305,
   "metadata": {},
   "outputs": [
    {
     "name": "stdout",
     "output_type": "stream",
     "text": [
      "Avg Job Satisfaction:  3.71\n"
     ]
    }
   ],
   "source": [
    "# build jobsatisfaction index (1-5)\n",
    "\n",
    "index = {'Slightly satisfied': 4, \n",
    "         'Slightly dissatisfied': 2,\n",
    "         'Neither satisfied nor dissatisfied': 3,\n",
    "         'Very satisfied': 5,\n",
    "         'Very dissatisfied': 1,\n",
    "         np.nan: np.nan\n",
    "        }\n",
    "\n",
    "df[\"JobSatIndex\"] = df[\"JobSat\"].apply(lambda x: index[x])\n",
    "\n",
    "print(\"Avg Job Satisfaction: \", df.JobSatIndex.mean().round(2))  "
   ]
  },
  {
   "cell_type": "markdown",
   "metadata": {},
   "source": [
    "#### Job Satisfaction Difference between Freelancer and Employed"
   ]
  },
  {
   "cell_type": "code",
   "execution_count": 306,
   "metadata": {},
   "outputs": [
    {
     "data": {
      "text/html": [
       "<div>\n",
       "<style scoped>\n",
       "    .dataframe tbody tr th:only-of-type {\n",
       "        vertical-align: middle;\n",
       "    }\n",
       "\n",
       "    .dataframe tbody tr th {\n",
       "        vertical-align: top;\n",
       "    }\n",
       "\n",
       "    .dataframe thead th {\n",
       "        text-align: right;\n",
       "    }\n",
       "</style>\n",
       "<table border=\"1\" class=\"dataframe\">\n",
       "  <thead>\n",
       "    <tr style=\"text-align: right;\">\n",
       "      <th></th>\n",
       "      <th>Employment</th>\n",
       "      <th>n</th>\n",
       "      <th>Job_Satisfaction</th>\n",
       "    </tr>\n",
       "  </thead>\n",
       "  <tbody>\n",
       "    <tr>\n",
       "      <th>0</th>\n",
       "      <td>Independent contractor, freelancer, or self-em...</td>\n",
       "      <td>8511</td>\n",
       "      <td>3.713764</td>\n",
       "    </tr>\n",
       "  </tbody>\n",
       "</table>\n",
       "</div>"
      ],
      "text/plain": [
       "                                          Employment     n  Job_Satisfaction\n",
       "0  Independent contractor, freelancer, or self-em...  8511          3.713764"
      ]
     },
     "execution_count": 306,
     "metadata": {},
     "output_type": "execute_result"
    }
   ],
   "source": [
    "df.groupby('Employment') \\\n",
    "       .agg(n=('Employment', 'size'), Job_Satisfaction=('JobSatIndex', 'mean')).reset_index()"
   ]
  },
  {
   "cell_type": "markdown",
   "metadata": {},
   "source": [
    "> ❗__Interesting__: no difference between Freelancer and employed"
   ]
  },
  {
   "cell_type": "markdown",
   "metadata": {},
   "source": [
    "#### Job Satisfaction Difference between Data Science Jobs"
   ]
  },
  {
   "cell_type": "code",
   "execution_count": 307,
   "metadata": {},
   "outputs": [
    {
     "data": {
      "text/html": [
       "<div>\n",
       "<style scoped>\n",
       "    .dataframe tbody tr th:only-of-type {\n",
       "        vertical-align: middle;\n",
       "    }\n",
       "\n",
       "    .dataframe tbody tr th {\n",
       "        vertical-align: top;\n",
       "    }\n",
       "\n",
       "    .dataframe thead th {\n",
       "        text-align: right;\n",
       "    }\n",
       "</style>\n",
       "<table border=\"1\" class=\"dataframe\">\n",
       "  <thead>\n",
       "    <tr style=\"text-align: right;\">\n",
       "      <th></th>\n",
       "      <th>TargetGroup</th>\n",
       "      <th>n</th>\n",
       "      <th>Job_Satisfaction</th>\n",
       "    </tr>\n",
       "  </thead>\n",
       "  <tbody>\n",
       "    <tr>\n",
       "      <th>0</th>\n",
       "      <td>Data Scientist</td>\n",
       "      <td>735</td>\n",
       "      <td>3.701724</td>\n",
       "    </tr>\n",
       "    <tr>\n",
       "      <th>1</th>\n",
       "      <td>Something with Data</td>\n",
       "      <td>832</td>\n",
       "      <td>3.755245</td>\n",
       "    </tr>\n",
       "    <tr>\n",
       "      <th>2</th>\n",
       "      <td>Something with Science</td>\n",
       "      <td>284</td>\n",
       "      <td>3.740909</td>\n",
       "    </tr>\n",
       "    <tr>\n",
       "      <th>3</th>\n",
       "      <td>other Job</td>\n",
       "      <td>6660</td>\n",
       "      <td>3.708388</td>\n",
       "    </tr>\n",
       "  </tbody>\n",
       "</table>\n",
       "</div>"
      ],
      "text/plain": [
       "              TargetGroup     n  Job_Satisfaction\n",
       "0          Data Scientist   735          3.701724\n",
       "1     Something with Data   832          3.755245\n",
       "2  Something with Science   284          3.740909\n",
       "3               other Job  6660          3.708388"
      ]
     },
     "execution_count": 307,
     "metadata": {},
     "output_type": "execute_result"
    }
   ],
   "source": [
    "df.groupby('TargetGroup') \\\n",
    "       .agg(n=('TargetGroup', 'size'), Job_Satisfaction=('JobSatIndex', 'mean')).reset_index()"
   ]
  },
  {
   "cell_type": "markdown",
   "metadata": {},
   "source": [
    "> ❗only slight differences, but the direction looks interesting: Scientists are happier"
   ]
  },
  {
   "cell_type": "markdown",
   "metadata": {},
   "source": [
    "<h2 id=\"income\">Income</h2>"
   ]
  },
  {
   "cell_type": "markdown",
   "metadata": {},
   "source": [
    "There are 3 questions to income:"
   ]
  },
  {
   "cell_type": "code",
   "execution_count": 308,
   "metadata": {},
   "outputs": [
    {
     "data": {
      "text/plain": [
       "'What is your current total compensation (salary, bonuses, and perks, before taxes and deductions), in `CurrencySymbol`? Please enter a whole number in the box below, without any punctuation. If you are paid hourly, please estimate an equivalent weekly, monthly, or yearly salary. If you prefer not to answer, please leave the box empty.'"
      ]
     },
     "execution_count": 308,
     "metadata": {},
     "output_type": "execute_result"
    }
   ],
   "source": [
    "h.get_desc(\"CompTotal\")"
   ]
  },
  {
   "cell_type": "code",
   "execution_count": 309,
   "metadata": {},
   "outputs": [
    {
     "data": {
      "text/plain": [
       "'Is that compensation weekly, monthly, or yearly?'"
      ]
     },
     "execution_count": 309,
     "metadata": {},
     "output_type": "execute_result"
    }
   ],
   "source": [
    "h.get_desc(\"CompFreq\")"
   ]
  },
  {
   "cell_type": "code",
   "execution_count": 310,
   "metadata": {},
   "outputs": [
    {
     "data": {
      "text/plain": [
       "'Salary converted to annual USD salaries using the exchange rate on 2019-02-01, assuming 12 working months and 50 working weeks.'"
      ]
     },
     "execution_count": 310,
     "metadata": {},
     "output_type": "execute_result"
    }
   ],
   "source": [
    "h.get_desc(\"ConvertedComp\")"
   ]
  },
  {
   "cell_type": "code",
   "execution_count": 311,
   "metadata": {},
   "outputs": [
    {
     "name": "stdout",
     "output_type": "stream",
     "text": [
      "Avg Salary per year (USA) \n",
      "=============================================== \n",
      "               TargetGroup    n         Salary\n",
      "0          Data Scientist   75  268333.493333\n",
      "1     Something with Data   89  210429.303371\n",
      "2  Something with Science   21  299702.380952\n",
      "3               other Job  518  208688.084942\n",
      "\n",
      "\n",
      "Avg Salary per year (WORLD) \n",
      "=============================================== \n",
      "               TargetGroup     n         Salary\n",
      "0          Data Scientist   364  129263.590659\n",
      "1     Something with Data   455  111990.857143\n",
      "2  Something with Science   127  100847.992126\n",
      "3               other Job  3597  101575.716986\n"
     ]
    }
   ],
   "source": [
    "USA = df[df[\"Country\"]==\"United States\"]\n",
    "world = df.copy()\n",
    "# Build var Salary\n",
    "\n",
    "# 2. delete all cases with no income\n",
    "USA.dropna(subset=['ConvertedComp'], inplace=True)\n",
    "world.dropna(subset=['ConvertedComp'], inplace=True)\n",
    "\n",
    "# For USA\n",
    "print(\"Avg Salary per year (USA) \\n=============================================== \\n\",\n",
    "USA.groupby('TargetGroup') \\\n",
    "       .agg(n=('TargetGroup', 'size'), Salary=('ConvertedComp', 'mean')).reset_index()\n",
    ")\n",
    "print(\"\\n\")\n",
    "# For World\n",
    "print(\"Avg Salary per year (WORLD) \\n=============================================== \\n\",\n",
    "world.groupby('TargetGroup') \\\n",
    "       .agg(n=('TargetGroup', 'size'), Salary=('ConvertedComp', 'mean')).reset_index()\n",
    "     )"
   ]
  },
  {
   "cell_type": "markdown",
   "metadata": {},
   "source": [
    "> ❗Data Scientists make more cash than Scientists or Data Worker"
   ]
  },
  {
   "cell_type": "markdown",
   "metadata": {},
   "source": [
    "<h2 id=\"working_hours\">Working Hours</h2>"
   ]
  },
  {
   "cell_type": "code",
   "execution_count": 312,
   "metadata": {},
   "outputs": [
    {
     "data": {
      "text/plain": [
       "'On average, how many hours per week do you work?'"
      ]
     },
     "execution_count": 312,
     "metadata": {},
     "output_type": "execute_result"
    }
   ],
   "source": [
    "h.get_desc(\"WorkWeekHrs\")"
   ]
  },
  {
   "cell_type": "code",
   "execution_count": 313,
   "metadata": {},
   "outputs": [
    {
     "data": {
      "text/plain": [
       "<matplotlib.axes._subplots.AxesSubplot at 0x14eea1d90>"
      ]
     },
     "execution_count": 313,
     "metadata": {},
     "output_type": "execute_result"
    },
    {
     "data": {
      "image/png": "[encoded data removed]",
      "text/plain": [
       "<Figure size 432x288 with 1 Axes>"
      ]
     },
     "metadata": {
      "needs_background": "light"
     },
     "output_type": "display_data"
    }
   ],
   "source": [
    "sns.boxplot(y=\"WorkWeekHrs\", x=\"TargetGroup\", data=df)"
   ]
  },
  {
   "cell_type": "markdown",
   "metadata": {},
   "source": [
    ">❗Outliers! Lets say, everything more than 80h/week is unrealistic"
   ]
  },
  {
   "cell_type": "code",
   "execution_count": 314,
   "metadata": {},
   "outputs": [],
   "source": [
    "# set maximum working hour per week\n",
    "OUTLIER_SIZE=100"
   ]
  },
  {
   "cell_type": "code",
   "execution_count": 315,
   "metadata": {},
   "outputs": [
    {
     "name": "stdout",
     "output_type": "stream",
     "text": [
      "Avg Working Hours per week (Freelancer)\n",
      "=========================================== \n",
      "               TargetGroup     n      hours\n",
      "0          Data Scientist   472  40.937500\n",
      "1     Something with Data   583  41.262864\n",
      "2  Something with Science   172  38.793605\n",
      "3               other Job  4371  39.099801\n"
     ]
    }
   ],
   "source": [
    "#TODO -> NaN in Working Hours <- Sandbox\n",
    "print(\"Avg Working Hours per week (Freelancer)\\n=========================================== \\n\",\n",
    "df[(df.WorkWeekHrs<=OUTLIER_SIZE) & \n",
    "   (df.Employment==\"Independent contractor, freelancer, or self-employed\")].\n",
    "      groupby('TargetGroup')\n",
    "      .agg(n=('TargetGroup', 'size'), hours=('WorkWeekHrs', 'mean')).reset_index()\n",
    ")"
   ]
  },
  {
   "cell_type": "code",
   "execution_count": 316,
   "metadata": {},
   "outputs": [
    {
     "name": "stdout",
     "output_type": "stream",
     "text": [
      "Avg Working Hours per week (Employed full-time)\n",
      "=========================================== \n",
      " Empty DataFrame\n",
      "Columns: [TargetGroup, n, hours]\n",
      "Index: []\n"
     ]
    }
   ],
   "source": [
    "print(\"Avg Working Hours per week (Employed full-time)\\n=========================================== \\n\",\n",
    "df[(df.WorkWeekHrs<=OUTLIER_SIZE) & \n",
    "   (df.Employment==\"Employed full-time\")].\n",
    "      groupby('TargetGroup')\n",
    "      .agg(n=('TargetGroup', 'size'), hours=('WorkWeekHrs', 'mean')).reset_index()\n",
    ")"
   ]
  },
  {
   "cell_type": "code",
   "execution_count": null,
   "metadata": {},
   "outputs": [
    {
     "data": {
      "text/plain": [
       "<matplotlib.axes._subplots.AxesSubplot at 0x153016a50>"
      ]
     },
     "execution_count": 317,
     "metadata": {},
     "output_type": "execute_result"
    }
   ],
   "source": [
    "plt.figure(figsize=(12,6))\n",
    "sns.violinplot(y=\"WorkWeekHrs\", x=\"TargetGroup\", hue=\"Employment\", data=df[df.WorkWeekHrs<OUTLIER_SIZE])"
   ]
  },
  {
   "cell_type": "markdown",
   "metadata": {},
   "source": [
    "🤓 The Median is all the same, because the data range is between 0 and 100 hours."
   ]
  },
  {
   "cell_type": "markdown",
   "metadata": {},
   "source": [
    "<h2 id=\"working_style\">Working Style</h2>"
   ]
  },
  {
   "cell_type": "markdown",
   "metadata": {},
   "source": [
    "### Work Structure"
   ]
  },
  {
   "cell_type": "code",
   "execution_count": null,
   "metadata": {},
   "outputs": [],
   "source": [
    "# Question in Questionaire\n",
    "h.get_desc(\"WorkPlan\")"
   ]
  },
  {
   "cell_type": "code",
   "execution_count": null,
   "metadata": {},
   "outputs": [],
   "source": [
    "# Answer Categories in Questionaire\n",
    "h.get_cat(\"WorkPlan\")"
   ]
  },
  {
   "cell_type": "code",
   "execution_count": null,
   "metadata": {},
   "outputs": [],
   "source": [
    "fig, axes = plt.subplots(1, 4, figsize=(18, 4))\n",
    "#labels = ['I follow a schedule closely', 'My work somewhat aligns to schedule', 'I work on what seems most important/urgent']\n",
    "labels = list(df.groupby(\"WorkPlan\").count()[\"Respondent\"].index)\n",
    "\n",
    "datascientists = df[df[\"TargetGroup\"]==\"Data Scientist\"].groupby(\"WorkPlan\").count()[\"Respondent\"]\n",
    "axes[0].pie(datascientists, startangle=90, autopct='%1.1f%%')\n",
    "axes[0].set_title(\"Data Scientists \\n (n={})\".format(datascientists.sum()))\n",
    "\n",
    "dataists = df[df[\"TargetGroup\"]==\"Something with Data\"].groupby(\"WorkPlan\").count()[\"Respondent\"]\n",
    "axes[1].pie(dataists, startangle=90, autopct='%1.1f%%' )\n",
    "axes[1].set_title(\"Dataists \\n (n={})\".format(dataists.sum()))\n",
    "\n",
    "scientists = df[df[\"TargetGroup\"]==\"Something with Science\"].groupby(\"WorkPlan\").count()[\"Respondent\"]\n",
    "axes[2].pie(scientists, startangle=90, autopct='%1.1f%%' )\n",
    "axes[2].set_title(\"Scientists \\n (n={})\".format(scientists.sum()))\n",
    "\n",
    "others = df.groupby(\"WorkPlan\").count()[\"Respondent\"]\n",
    "axes[3].pie(others, startangle=90, autopct='%1.1f%%')\n",
    "axes[3].set_title(\"All Freelancer \\n (n={})\".format(others.sum()))\n",
    "\n",
    "fig.legend(labels=labels, loc='lower center')"
   ]
  },
  {
   "cell_type": "code",
   "execution_count": 219,
   "metadata": {},
   "outputs": [
    {
     "data": {
      "text/plain": [
       "676"
      ]
     },
     "execution_count": 219,
     "metadata": {},
     "output_type": "execute_result"
    }
   ],
   "source": [
    "Not so many differences between Freelancer\n",
    "\n",
    "As a comparison, here are the results for Emp"
   ]
  },
  {
   "cell_type": "markdown",
   "metadata": {},
   "source": [
    "<h2 id=\"coding_languages\">Coding Languages</h2>"
   ]
  },
  {
   "cell_type": "code",
   "execution_count": 138,
   "metadata": {},
   "outputs": [],
   "source": [
    "# Todo: heatmap target group vs. coding languages\n",
    "\n",
    "# Pivot Table (rows=target group, col=coding languages, values=how many code in this language)"
   ]
  },
  {
   "cell_type": "code",
   "execution_count": 139,
   "metadata": {},
   "outputs": [
    {
     "data": {
      "text/html": [
       "<div>\n",
       "<style scoped>\n",
       "    .dataframe tbody tr th:only-of-type {\n",
       "        vertical-align: middle;\n",
       "    }\n",
       "\n",
       "    .dataframe tbody tr th {\n",
       "        vertical-align: top;\n",
       "    }\n",
       "\n",
       "    .dataframe thead th {\n",
       "        text-align: right;\n",
       "    }\n",
       "</style>\n",
       "<table border=\"1\" class=\"dataframe\">\n",
       "  <thead>\n",
       "    <tr style=\"text-align: right;\">\n",
       "      <th></th>\n",
       "      <th>Column</th>\n",
       "      <th>QuestionText</th>\n",
       "    </tr>\n",
       "  </thead>\n",
       "  <tbody>\n",
       "    <tr>\n",
       "      <th>43</th>\n",
       "      <td>LanguageWorkedWith</td>\n",
       "      <td>Which of the following programming, scripting,...</td>\n",
       "    </tr>\n",
       "    <tr>\n",
       "      <th>44</th>\n",
       "      <td>LanguageDesireNextYear</td>\n",
       "      <td>Which of the following programming, scripting,...</td>\n",
       "    </tr>\n",
       "    <tr>\n",
       "      <th>45</th>\n",
       "      <td>DatabaseWorkedWith</td>\n",
       "      <td>Which of the following database environments h...</td>\n",
       "    </tr>\n",
       "    <tr>\n",
       "      <th>46</th>\n",
       "      <td>DatabaseDesireNextYear</td>\n",
       "      <td>Which of the following database environments h...</td>\n",
       "    </tr>\n",
       "    <tr>\n",
       "      <th>47</th>\n",
       "      <td>PlatformWorkedWith</td>\n",
       "      <td>Which of the following platforms have you done...</td>\n",
       "    </tr>\n",
       "    <tr>\n",
       "      <th>48</th>\n",
       "      <td>PlatformDesireNextYear</td>\n",
       "      <td>Which of the following platforms have you done...</td>\n",
       "    </tr>\n",
       "    <tr>\n",
       "      <th>49</th>\n",
       "      <td>WebFrameWorkedWith</td>\n",
       "      <td>Which of the following web frameworks have you...</td>\n",
       "    </tr>\n",
       "    <tr>\n",
       "      <th>50</th>\n",
       "      <td>WebFrameDesireNextYear</td>\n",
       "      <td>Which of the following web frameworks have you...</td>\n",
       "    </tr>\n",
       "    <tr>\n",
       "      <th>51</th>\n",
       "      <td>MiscTechWorkedWith</td>\n",
       "      <td>Which of the following other frameworks, libra...</td>\n",
       "    </tr>\n",
       "  </tbody>\n",
       "</table>\n",
       "</div>"
      ],
      "text/plain": [
       "                    Column                                       QuestionText\n",
       "43      LanguageWorkedWith  Which of the following programming, scripting,...\n",
       "44  LanguageDesireNextYear  Which of the following programming, scripting,...\n",
       "45      DatabaseWorkedWith  Which of the following database environments h...\n",
       "46  DatabaseDesireNextYear  Which of the following database environments h...\n",
       "47      PlatformWorkedWith  Which of the following platforms have you done...\n",
       "48  PlatformDesireNextYear  Which of the following platforms have you done...\n",
       "49      WebFrameWorkedWith  Which of the following web frameworks have you...\n",
       "50  WebFrameDesireNextYear  Which of the following web frameworks have you...\n",
       "51      MiscTechWorkedWith  Which of the following other frameworks, libra..."
      ]
     },
     "execution_count": 139,
     "metadata": {},
     "output_type": "execute_result"
    }
   ],
   "source": [
    "schema.loc[43:51]"
   ]
  },
  {
   "cell_type": "code",
   "execution_count": 140,
   "metadata": {},
   "outputs": [
    {
     "data": {
      "text/plain": [
       "'Which of the following platforms have you done extensive development work for over the past year?   (If you both developed for the platform and want to continue to do so, please check both boxes in that row.)'"
      ]
     },
     "execution_count": 140,
     "metadata": {},
     "output_type": "execute_result"
    }
   ],
   "source": [
    "h.get_desc(\"PlatformWorkedWith\")"
   ]
  },
  {
   "cell_type": "code",
   "execution_count": 141,
   "metadata": {},
   "outputs": [
    {
     "data": {
      "text/plain": [
       "[\"There's no schedule or spec; I work on what seems most important or urgent\",\n",
       " 'There is a schedule and/or spec (made by me or by a colleague), and I follow it very closely',\n",
       " 'There is a schedule and/or spec (made by me or by a colleague), and my work somewhat aligns',\n",
       " nan]"
      ]
     },
     "execution_count": 141,
     "metadata": {},
     "output_type": "execute_result"
    }
   ],
   "source": [
    "list(df.WorkPlan.unique())"
   ]
  },
  {
   "cell_type": "code",
   "execution_count": null,
   "metadata": {},
   "outputs": [],
   "source": []
  },
  {
   "cell_type": "code",
   "execution_count": 142,
   "metadata": {},
   "outputs": [
    {
     "name": "stdout",
     "output_type": "stream",
     "text": [
      "d\n"
     ]
    }
   ],
   "source": [
    "if df.WorkPlan.dtype==object:\n",
    "    print(\"d\")"
   ]
  },
  {
   "cell_type": "code",
   "execution_count": 143,
   "metadata": {},
   "outputs": [],
   "source": [
    "# Todo: create variables for every language as dummy\n",
    "# balkendiagram (geordnet): Python: 80%, R: 75%, etc.\n",
    "# h.get_cat(\"PlatformWorkedWith\")\n",
    "#list(df.PlatformWorkedWith.unique())"
   ]
  },
  {
   "cell_type": "code",
   "execution_count": 144,
   "metadata": {},
   "outputs": [],
   "source": [
    "def get_cat(column_name, df=df):\n",
    "    '''\n",
    "    INPUT - schema - pandas dataframe with the schema of the developers survey\n",
    "            column_name - string - the name of the column you would like to know about\n",
    "    OUTPUT - \n",
    "            cat - list - categories of this variable\n",
    "    '''\n",
    "    if df[column_name].dtype==\"object\":\n",
    "        return list(df[column_name].unique())\n",
    "    else:\n",
    "        return mean(df[column_name])"
   ]
  },
  {
   "cell_type": "code",
   "execution_count": null,
   "metadata": {},
   "outputs": [],
   "source": []
  }
 ],
 "metadata": {
  "kernelspec": {
   "display_name": "Python 3",
   "language": "python",
   "name": "python3"
  },
  "language_info": {
   "codemirror_mode": {
    "name": "ipython",
    "version": 3
   },
   "file_extension": ".py",
   "mimetype": "text/x-python",
   "name": "python",
   "nbconvert_exporter": "python",
   "pygments_lexer": "ipython3",
   "version": "3.7.4"
  }
 },
 "nbformat": 4,
 "nbformat_minor": 4
}
